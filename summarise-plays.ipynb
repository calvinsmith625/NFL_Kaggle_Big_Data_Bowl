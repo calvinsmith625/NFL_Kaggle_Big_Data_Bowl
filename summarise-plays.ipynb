{
 "cells": [
  {
   "cell_type": "markdown",
   "metadata": {
    "papermill": {
     "duration": 0.006363,
     "end_time": "2020-12-17T00:57:11.795053",
     "exception": false,
     "start_time": "2020-12-17T00:57:11.788690",
     "status": "completed"
    },
    "tags": []
   },
   "source": [
    "This notebook summarises plays to add extra features to model completion probability.\n",
    "\n",
    "The output from this notebook goes to merge_clean_data to merge back to the original df_merged which will be used for the final creation of the random forest."
   ]
  },
  {
   "cell_type": "code",
   "execution_count": 1,
   "metadata": {
    "execution": {
     "iopub.execute_input": "2020-12-17T00:57:11.839647Z",
     "iopub.status.busy": "2020-12-17T00:57:11.837052Z",
     "iopub.status.idle": "2020-12-17T00:57:13.320135Z",
     "shell.execute_reply": "2020-12-17T00:57:13.318728Z"
    },
    "papermill": {
     "duration": 1.519786,
     "end_time": "2020-12-17T00:57:13.320387",
     "exception": false,
     "start_time": "2020-12-17T00:57:11.800601",
     "status": "completed"
    },
    "tags": []
   },
   "outputs": [
    {
     "name": "stderr",
     "output_type": "stream",
     "text": [
      "── \u001b[1mAttaching packages\u001b[22m ─────────────────────────────────────── tidyverse 1.3.0 ──\n",
      "\n",
      "\u001b[32m✔\u001b[39m \u001b[34mggplot2\u001b[39m 3.3.2     \u001b[32m✔\u001b[39m \u001b[34mpurrr  \u001b[39m 0.3.4\n",
      "\u001b[32m✔\u001b[39m \u001b[34mtibble \u001b[39m 3.0.4     \u001b[32m✔\u001b[39m \u001b[34mdplyr  \u001b[39m 1.0.2\n",
      "\u001b[32m✔\u001b[39m \u001b[34mtidyr  \u001b[39m 1.1.2     \u001b[32m✔\u001b[39m \u001b[34mstringr\u001b[39m 1.4.0\n",
      "\u001b[32m✔\u001b[39m \u001b[34mreadr  \u001b[39m 1.4.0     \u001b[32m✔\u001b[39m \u001b[34mforcats\u001b[39m 0.5.0\n",
      "\n",
      "── \u001b[1mConflicts\u001b[22m ────────────────────────────────────────── tidyverse_conflicts() ──\n",
      "\u001b[31m✖\u001b[39m \u001b[34mdplyr\u001b[39m::\u001b[32mfilter()\u001b[39m masks \u001b[34mstats\u001b[39m::filter()\n",
      "\u001b[31m✖\u001b[39m \u001b[34mdplyr\u001b[39m::\u001b[32mlag()\u001b[39m    masks \u001b[34mstats\u001b[39m::lag()\n",
      "\n",
      "\n",
      "Attaching package: ‘data.table’\n",
      "\n",
      "\n",
      "The following objects are masked from ‘package:dplyr’:\n",
      "\n",
      "    between, first, last\n",
      "\n",
      "\n",
      "The following object is masked from ‘package:purrr’:\n",
      "\n",
      "    transpose\n",
      "\n",
      "\n"
     ]
    }
   ],
   "source": [
    "library(tidyverse)\n",
    "library(data.table)\n",
    "library(dplyr, warn.conflicts = FALSE)\n",
    "# Suppress summarise info\n",
    "options(dplyr.summarise.inform = FALSE)"
   ]
  },
  {
   "cell_type": "code",
   "execution_count": 2,
   "metadata": {
    "execution": {
     "iopub.execute_input": "2020-12-17T00:57:13.371130Z",
     "iopub.status.busy": "2020-12-17T00:57:13.340642Z",
     "iopub.status.idle": "2020-12-17T00:57:13.548095Z",
     "shell.execute_reply": "2020-12-17T00:57:13.546715Z"
    },
    "papermill": {
     "duration": 0.219234,
     "end_time": "2020-12-17T00:57:13.548247",
     "exception": false,
     "start_time": "2020-12-17T00:57:13.329013",
     "status": "completed"
    },
    "tags": []
   },
   "outputs": [],
   "source": [
    "na.omit.list <- function(y) { return(y[!sapply(y, function(x) all(is.na(x)))]) }"
   ]
  },
  {
   "cell_type": "code",
   "execution_count": 3,
   "metadata": {
    "execution": {
     "iopub.execute_input": "2020-12-17T00:57:13.569381Z",
     "iopub.status.busy": "2020-12-17T00:57:13.568063Z",
     "iopub.status.idle": "2020-12-17T00:57:22.128067Z",
     "shell.execute_reply": "2020-12-17T00:57:22.126330Z"
    },
    "papermill": {
     "duration": 8.572087,
     "end_time": "2020-12-17T00:57:22.128465",
     "exception": false,
     "start_time": "2020-12-17T00:57:13.556378",
     "status": "completed"
    },
    "tags": []
   },
   "outputs": [
    {
     "data": {
      "text/html": [
       "<style>\n",
       ".list-inline {list-style: none; margin:0; padding: 0}\n",
       ".list-inline>li {display: inline-block}\n",
       ".list-inline>li:not(:last-child)::after {content: \"\\00b7\"; padding: 0 .5ex}\n",
       "</style>\n",
       "<ol class=list-inline><li>'gameId'</li><li>'playId'</li><li>'frameId'</li><li>'off_nflId'</li><li>'nflId'</li><li>'displayName'</li><li>'dist_from_off'</li><li>'nearest_is_target'</li><li>'distanceFromBall'</li><li>'off_distanceFromBall'</li><li>'ball_behind_db'</li><li>'diff_in_speed'</li><li>'diff_in_acceleration'</li><li>'diff_in_dir'</li><li>'receiver_behind_db'</li><li>'receiver_distance_from_qb'</li><li>'num_of_receivers_nearest'</li><li>'dist_rate_of_change'</li></ol>\n"
      ],
      "text/latex": [
       "\\begin{enumerate*}\n",
       "\\item 'gameId'\n",
       "\\item 'playId'\n",
       "\\item 'frameId'\n",
       "\\item 'off\\_nflId'\n",
       "\\item 'nflId'\n",
       "\\item 'displayName'\n",
       "\\item 'dist\\_from\\_off'\n",
       "\\item 'nearest\\_is\\_target'\n",
       "\\item 'distanceFromBall'\n",
       "\\item 'off\\_distanceFromBall'\n",
       "\\item 'ball\\_behind\\_db'\n",
       "\\item 'diff\\_in\\_speed'\n",
       "\\item 'diff\\_in\\_acceleration'\n",
       "\\item 'diff\\_in\\_dir'\n",
       "\\item 'receiver\\_behind\\_db'\n",
       "\\item 'receiver\\_distance\\_from\\_qb'\n",
       "\\item 'num\\_of\\_receivers\\_nearest'\n",
       "\\item 'dist\\_rate\\_of\\_change'\n",
       "\\end{enumerate*}\n"
      ],
      "text/markdown": [
       "1. 'gameId'\n",
       "2. 'playId'\n",
       "3. 'frameId'\n",
       "4. 'off_nflId'\n",
       "5. 'nflId'\n",
       "6. 'displayName'\n",
       "7. 'dist_from_off'\n",
       "8. 'nearest_is_target'\n",
       "9. 'distanceFromBall'\n",
       "10. 'off_distanceFromBall'\n",
       "11. 'ball_behind_db'\n",
       "12. 'diff_in_speed'\n",
       "13. 'diff_in_acceleration'\n",
       "14. 'diff_in_dir'\n",
       "15. 'receiver_behind_db'\n",
       "16. 'receiver_distance_from_qb'\n",
       "17. 'num_of_receivers_nearest'\n",
       "18. 'dist_rate_of_change'\n",
       "\n",
       "\n"
      ],
      "text/plain": [
       " [1] \"gameId\"                    \"playId\"                   \n",
       " [3] \"frameId\"                   \"off_nflId\"                \n",
       " [5] \"nflId\"                     \"displayName\"              \n",
       " [7] \"dist_from_off\"             \"nearest_is_target\"        \n",
       " [9] \"distanceFromBall\"          \"off_distanceFromBall\"     \n",
       "[11] \"ball_behind_db\"            \"diff_in_speed\"            \n",
       "[13] \"diff_in_acceleration\"      \"diff_in_dir\"              \n",
       "[15] \"receiver_behind_db\"        \"receiver_distance_from_qb\"\n",
       "[17] \"num_of_receivers_nearest\"  \"dist_rate_of_change\"      "
      ]
     },
     "metadata": {},
     "output_type": "display_data"
    },
    {
     "data": {
      "text/html": [
       "<table class=\"dataframe\">\n",
       "<caption>A data.table: 6 × 18</caption>\n",
       "<thead>\n",
       "\t<tr><th scope=col>gameId</th><th scope=col>playId</th><th scope=col>frameId</th><th scope=col>off_nflId</th><th scope=col>nflId</th><th scope=col>displayName</th><th scope=col>dist_from_off</th><th scope=col>nearest_is_target</th><th scope=col>distanceFromBall</th><th scope=col>off_distanceFromBall</th><th scope=col>ball_behind_db</th><th scope=col>diff_in_speed</th><th scope=col>diff_in_acceleration</th><th scope=col>diff_in_dir</th><th scope=col>receiver_behind_db</th><th scope=col>receiver_distance_from_qb</th><th scope=col>num_of_receivers_nearest</th><th scope=col>dist_rate_of_change</th></tr>\n",
       "\t<tr><th scope=col>&lt;int&gt;</th><th scope=col>&lt;int&gt;</th><th scope=col>&lt;int&gt;</th><th scope=col>&lt;int&gt;</th><th scope=col>&lt;int&gt;</th><th scope=col>&lt;chr&gt;</th><th scope=col>&lt;dbl&gt;</th><th scope=col>&lt;int&gt;</th><th scope=col>&lt;dbl&gt;</th><th scope=col>&lt;dbl&gt;</th><th scope=col>&lt;int&gt;</th><th scope=col>&lt;dbl&gt;</th><th scope=col>&lt;dbl&gt;</th><th scope=col>&lt;dbl&gt;</th><th scope=col>&lt;dbl&gt;</th><th scope=col>&lt;dbl&gt;</th><th scope=col>&lt;int&gt;</th><th scope=col>&lt;dbl&gt;</th></tr>\n",
       "</thead>\n",
       "<tbody>\n",
       "\t<tr><td>2018090600</td><td>75</td><td>11</td><td>2533040</td><td>79848</td><td>Malcolm Jenkins</td><td>1.920339</td><td>0</td><td>9.726813</td><td>9.334077</td><td>0</td><td> 0.01</td><td> 0.01</td><td>258.48</td><td>1.89</td><td>9.538433</td><td>2</td><td> 0.000000000</td></tr>\n",
       "\t<tr><td>2018090600</td><td>75</td><td>12</td><td>2533040</td><td>79848</td><td>Malcolm Jenkins</td><td>1.922134</td><td>0</td><td>9.736735</td><td>9.334077</td><td>0</td><td> 0.01</td><td> 0.01</td><td>276.29</td><td>1.89</td><td>9.530519</td><td>2</td><td> 0.000000000</td></tr>\n",
       "\t<tr><td>2018090600</td><td>75</td><td>13</td><td>2533040</td><td>79848</td><td>Malcolm Jenkins</td><td>1.912302</td><td>0</td><td>9.762797</td><td>9.365452</td><td>0</td><td>-0.02</td><td>-0.29</td><td>280.46</td><td>1.88</td><td>9.533651</td><td>2</td><td> 0.000000000</td></tr>\n",
       "\t<tr><td>2018090600</td><td>75</td><td>14</td><td>2533040</td><td>79848</td><td>Malcolm Jenkins</td><td>1.908743</td><td>0</td><td>9.814622</td><td>9.353614</td><td>0</td><td>-0.07</td><td>-0.50</td><td> 34.84</td><td>1.88</td><td>9.544658</td><td>2</td><td>-0.006038243</td></tr>\n",
       "\t<tr><td>2018090600</td><td>75</td><td>15</td><td>2533040</td><td>79848</td><td>Malcolm Jenkins</td><td>1.889047</td><td>0</td><td>9.884452</td><td>9.351048</td><td>0</td><td>-0.22</td><td>-1.20</td><td>  9.95</td><td>1.86</td><td>9.563472</td><td>2</td><td>-0.017213601</td></tr>\n",
       "\t<tr><td>2018090600</td><td>75</td><td>16</td><td>2533040</td><td>79848</td><td>Malcolm Jenkins</td><td>1.859516</td><td>0</td><td>9.927724</td><td>9.341333</td><td>0</td><td>-0.40</td><td>-1.57</td><td> 29.29</td><td>1.83</td><td>9.600417</td><td>2</td><td>-0.027603487</td></tr>\n",
       "</tbody>\n",
       "</table>\n"
      ],
      "text/latex": [
       "A data.table: 6 × 18\n",
       "\\begin{tabular}{llllllllllllllllll}\n",
       " gameId & playId & frameId & off\\_nflId & nflId & displayName & dist\\_from\\_off & nearest\\_is\\_target & distanceFromBall & off\\_distanceFromBall & ball\\_behind\\_db & diff\\_in\\_speed & diff\\_in\\_acceleration & diff\\_in\\_dir & receiver\\_behind\\_db & receiver\\_distance\\_from\\_qb & num\\_of\\_receivers\\_nearest & dist\\_rate\\_of\\_change\\\\\n",
       " <int> & <int> & <int> & <int> & <int> & <chr> & <dbl> & <int> & <dbl> & <dbl> & <int> & <dbl> & <dbl> & <dbl> & <dbl> & <dbl> & <int> & <dbl>\\\\\n",
       "\\hline\n",
       "\t 2018090600 & 75 & 11 & 2533040 & 79848 & Malcolm Jenkins & 1.920339 & 0 & 9.726813 & 9.334077 & 0 &  0.01 &  0.01 & 258.48 & 1.89 & 9.538433 & 2 &  0.000000000\\\\\n",
       "\t 2018090600 & 75 & 12 & 2533040 & 79848 & Malcolm Jenkins & 1.922134 & 0 & 9.736735 & 9.334077 & 0 &  0.01 &  0.01 & 276.29 & 1.89 & 9.530519 & 2 &  0.000000000\\\\\n",
       "\t 2018090600 & 75 & 13 & 2533040 & 79848 & Malcolm Jenkins & 1.912302 & 0 & 9.762797 & 9.365452 & 0 & -0.02 & -0.29 & 280.46 & 1.88 & 9.533651 & 2 &  0.000000000\\\\\n",
       "\t 2018090600 & 75 & 14 & 2533040 & 79848 & Malcolm Jenkins & 1.908743 & 0 & 9.814622 & 9.353614 & 0 & -0.07 & -0.50 &  34.84 & 1.88 & 9.544658 & 2 & -0.006038243\\\\\n",
       "\t 2018090600 & 75 & 15 & 2533040 & 79848 & Malcolm Jenkins & 1.889047 & 0 & 9.884452 & 9.351048 & 0 & -0.22 & -1.20 &   9.95 & 1.86 & 9.563472 & 2 & -0.017213601\\\\\n",
       "\t 2018090600 & 75 & 16 & 2533040 & 79848 & Malcolm Jenkins & 1.859516 & 0 & 9.927724 & 9.341333 & 0 & -0.40 & -1.57 &  29.29 & 1.83 & 9.600417 & 2 & -0.027603487\\\\\n",
       "\\end{tabular}\n"
      ],
      "text/markdown": [
       "\n",
       "A data.table: 6 × 18\n",
       "\n",
       "| gameId &lt;int&gt; | playId &lt;int&gt; | frameId &lt;int&gt; | off_nflId &lt;int&gt; | nflId &lt;int&gt; | displayName &lt;chr&gt; | dist_from_off &lt;dbl&gt; | nearest_is_target &lt;int&gt; | distanceFromBall &lt;dbl&gt; | off_distanceFromBall &lt;dbl&gt; | ball_behind_db &lt;int&gt; | diff_in_speed &lt;dbl&gt; | diff_in_acceleration &lt;dbl&gt; | diff_in_dir &lt;dbl&gt; | receiver_behind_db &lt;dbl&gt; | receiver_distance_from_qb &lt;dbl&gt; | num_of_receivers_nearest &lt;int&gt; | dist_rate_of_change &lt;dbl&gt; |\n",
       "|---|---|---|---|---|---|---|---|---|---|---|---|---|---|---|---|---|---|\n",
       "| 2018090600 | 75 | 11 | 2533040 | 79848 | Malcolm Jenkins | 1.920339 | 0 | 9.726813 | 9.334077 | 0 |  0.01 |  0.01 | 258.48 | 1.89 | 9.538433 | 2 |  0.000000000 |\n",
       "| 2018090600 | 75 | 12 | 2533040 | 79848 | Malcolm Jenkins | 1.922134 | 0 | 9.736735 | 9.334077 | 0 |  0.01 |  0.01 | 276.29 | 1.89 | 9.530519 | 2 |  0.000000000 |\n",
       "| 2018090600 | 75 | 13 | 2533040 | 79848 | Malcolm Jenkins | 1.912302 | 0 | 9.762797 | 9.365452 | 0 | -0.02 | -0.29 | 280.46 | 1.88 | 9.533651 | 2 |  0.000000000 |\n",
       "| 2018090600 | 75 | 14 | 2533040 | 79848 | Malcolm Jenkins | 1.908743 | 0 | 9.814622 | 9.353614 | 0 | -0.07 | -0.50 |  34.84 | 1.88 | 9.544658 | 2 | -0.006038243 |\n",
       "| 2018090600 | 75 | 15 | 2533040 | 79848 | Malcolm Jenkins | 1.889047 | 0 | 9.884452 | 9.351048 | 0 | -0.22 | -1.20 |   9.95 | 1.86 | 9.563472 | 2 | -0.017213601 |\n",
       "| 2018090600 | 75 | 16 | 2533040 | 79848 | Malcolm Jenkins | 1.859516 | 0 | 9.927724 | 9.341333 | 0 | -0.40 | -1.57 |  29.29 | 1.83 | 9.600417 | 2 | -0.027603487 |\n",
       "\n"
      ],
      "text/plain": [
       "  gameId     playId frameId off_nflId nflId displayName     dist_from_off\n",
       "1 2018090600 75     11      2533040   79848 Malcolm Jenkins 1.920339     \n",
       "2 2018090600 75     12      2533040   79848 Malcolm Jenkins 1.922134     \n",
       "3 2018090600 75     13      2533040   79848 Malcolm Jenkins 1.912302     \n",
       "4 2018090600 75     14      2533040   79848 Malcolm Jenkins 1.908743     \n",
       "5 2018090600 75     15      2533040   79848 Malcolm Jenkins 1.889047     \n",
       "6 2018090600 75     16      2533040   79848 Malcolm Jenkins 1.859516     \n",
       "  nearest_is_target distanceFromBall off_distanceFromBall ball_behind_db\n",
       "1 0                 9.726813         9.334077             0             \n",
       "2 0                 9.736735         9.334077             0             \n",
       "3 0                 9.762797         9.365452             0             \n",
       "4 0                 9.814622         9.353614             0             \n",
       "5 0                 9.884452         9.351048             0             \n",
       "6 0                 9.927724         9.341333             0             \n",
       "  diff_in_speed diff_in_acceleration diff_in_dir receiver_behind_db\n",
       "1  0.01          0.01                258.48      1.89              \n",
       "2  0.01          0.01                276.29      1.89              \n",
       "3 -0.02         -0.29                280.46      1.88              \n",
       "4 -0.07         -0.50                 34.84      1.88              \n",
       "5 -0.22         -1.20                  9.95      1.86              \n",
       "6 -0.40         -1.57                 29.29      1.83              \n",
       "  receiver_distance_from_qb num_of_receivers_nearest dist_rate_of_change\n",
       "1 9.538433                  2                         0.000000000       \n",
       "2 9.530519                  2                         0.000000000       \n",
       "3 9.533651                  2                         0.000000000       \n",
       "4 9.544658                  2                        -0.006038243       \n",
       "5 9.563472                  2                        -0.017213601       \n",
       "6 9.600417                  2                        -0.027603487       "
      ]
     },
     "metadata": {},
     "output_type": "display_data"
    },
    {
     "data": {
      "text/html": [
       "3468218"
      ],
      "text/latex": [
       "3468218"
      ],
      "text/markdown": [
       "3468218"
      ],
      "text/plain": [
       "[1] 3468218"
      ]
     },
     "metadata": {},
     "output_type": "display_data"
    }
   ],
   "source": [
    "nearest_stats <- fread('../input/calculate-nearest-stats/nearest_stats.csv', drop='V1')\n",
    "colnames(nearest_stats)\n",
    "head(nearest_stats)\n",
    "nrow(nearest_stats)"
   ]
  },
  {
   "cell_type": "code",
   "execution_count": 4,
   "metadata": {
    "execution": {
     "iopub.execute_input": "2020-12-17T00:57:22.153786Z",
     "iopub.status.busy": "2020-12-17T00:57:22.152541Z",
     "iopub.status.idle": "2020-12-17T00:57:24.436887Z",
     "shell.execute_reply": "2020-12-17T00:57:24.435161Z"
    },
    "papermill": {
     "duration": 2.298049,
     "end_time": "2020-12-17T00:57:24.437061",
     "exception": false,
     "start_time": "2020-12-17T00:57:22.139012",
     "status": "completed"
    },
    "tags": []
   },
   "outputs": [],
   "source": [
    "# omit Inf vals\n",
    "# split nearest_stats by gameId and playId\n",
    "nearest_stats <- nearest_stats %>%\n",
    "\n",
    "group_split(gameId, playId)"
   ]
  },
  {
   "cell_type": "code",
   "execution_count": 5,
   "metadata": {
    "execution": {
     "iopub.execute_input": "2020-12-17T00:57:24.465001Z",
     "iopub.status.busy": "2020-12-17T00:57:24.461981Z",
     "iopub.status.idle": "2020-12-17T00:57:24.491422Z",
     "shell.execute_reply": "2020-12-17T00:57:24.487760Z"
    },
    "papermill": {
     "duration": 0.043885,
     "end_time": "2020-12-17T00:57:24.491613",
     "exception": false,
     "start_time": "2020-12-17T00:57:24.447728",
     "status": "completed"
    },
    "tags": []
   },
   "outputs": [],
   "source": [
    "# create a function to determine if there's a receiver MORE open on a play than the receiver who the defender is nearest\n",
    "play_summary_stats <- function(play_df){\n",
    "    \n",
    "    summary <- play_df %>%\n",
    "    \n",
    "    group_by(gameId, playId, frameId) %>%\n",
    "    \n",
    "    summarise(max_open_off = max(dist_from_off))\n",
    "    \n",
    "    play_df <- left_join(play_df,\n",
    "                        summary,\n",
    "                        by=c('gameId', 'playId', 'frameId'))\n",
    "    \n",
    "    play_df <- play_df %>%\n",
    "    \n",
    "    mutate(his_off_most_open = if_else(max_open_off == dist_from_off, 1, 0))\n",
    "    \n",
    "    play_df = subset(play_df, select = -c(max_open_off) )\n",
    "    \n",
    "    return(play_df)\n",
    "}"
   ]
  },
  {
   "cell_type": "code",
   "execution_count": 6,
   "metadata": {
    "execution": {
     "iopub.execute_input": "2020-12-17T00:57:24.524738Z",
     "iopub.status.busy": "2020-12-17T00:57:24.519996Z",
     "iopub.status.idle": "2020-12-17T01:04:18.447454Z",
     "shell.execute_reply": "2020-12-17T01:04:18.448029Z"
    },
    "papermill": {
     "duration": 413.946326,
     "end_time": "2020-12-17T01:04:18.448287",
     "exception": false,
     "start_time": "2020-12-17T00:57:24.501961",
     "status": "completed"
    },
    "tags": []
   },
   "outputs": [
    {
     "data": {
      "text/html": [
       "3468218"
      ],
      "text/latex": [
       "3468218"
      ],
      "text/markdown": [
       "3468218"
      ],
      "text/plain": [
       "[1] 3468218"
      ]
     },
     "metadata": {},
     "output_type": "display_data"
    }
   ],
   "source": [
    "nearest_stats <- lapply(nearest_stats, function(x) \n",
    "  {\n",
    "    y <- tryCatch(play_summary_stats(x), error=function(err) NA)\n",
    "    return(y)\n",
    "  })\n",
    "nearest_stats <- na.omit.list(nearest_stats)\n",
    "nearest_stats <- bind_rows(nearest_stats)\n",
    "nrow(nearest_stats)"
   ]
  },
  {
   "cell_type": "code",
   "execution_count": 7,
   "metadata": {
    "execution": {
     "iopub.execute_input": "2020-12-17T01:04:18.481560Z",
     "iopub.status.busy": "2020-12-17T01:04:18.479893Z",
     "iopub.status.idle": "2020-12-17T01:05:37.322704Z",
     "shell.execute_reply": "2020-12-17T01:05:37.321402Z"
    },
    "papermill": {
     "duration": 78.858237,
     "end_time": "2020-12-17T01:05:37.323004",
     "exception": false,
     "start_time": "2020-12-17T01:04:18.464767",
     "status": "completed"
    },
    "tags": []
   },
   "outputs": [],
   "source": [
    "write.csv(nearest_stats, 'nearest_stats.csv')"
   ]
  }
 ],
 "metadata": {
  "kernelspec": {
   "display_name": "R",
   "language": "R",
   "name": "ir"
  },
  "language_info": {
   "codemirror_mode": "r",
   "file_extension": ".r",
   "mimetype": "text/x-r-source",
   "name": "R",
   "pygments_lexer": "r",
   "version": "3.6.3"
  },
  "papermill": {
   "default_parameters": {},
   "duration": 508.918877,
   "end_time": "2020-12-17T01:05:37.547595",
   "environment_variables": {},
   "exception": null,
   "input_path": "__notebook__.ipynb",
   "output_path": "__notebook__.ipynb",
   "parameters": {},
   "start_time": "2020-12-17T00:57:08.628718",
   "version": "2.2.2"
  }
 },
 "nbformat": 4,
 "nbformat_minor": 4
}
