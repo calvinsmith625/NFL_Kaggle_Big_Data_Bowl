{
 "cells": [
  {
   "cell_type": "markdown",
   "metadata": {
    "papermill": {
     "duration": 0.027149,
     "end_time": "2020-12-17T16:51:16.184590",
     "exception": false,
     "start_time": "2020-12-17T16:51:16.157441",
     "status": "completed"
    },
    "tags": []
   },
   "source": [
    "This is the initial notebook for extracting data for the Big Data Bowl.\n",
    "\n",
    "The purpose of this notebook is to load in the initial data, and extract the most relevant features first.\n",
    "\n",
    "To do this the data must be cleaned with irrelevant plays, events, and positions removed.\n",
    "\n",
    "Output: Two csv files.\n",
    "\n",
    "One that will be used for coverage identification (coverage_id) that will get it's own notebook.\n",
    "\n",
    "The other to model completion probability (df_merged) which will go to the notebooks calculate_nearest_stats -> summarise_plays -> merge_clean_data."
   ]
  },
  {
   "cell_type": "code",
   "execution_count": 1,
   "metadata": {
    "_execution_state": "idle",
    "_kg_hide-output": true,
    "_uuid": "051d70d956493feee0c6d64651c6a088724dca2a",
    "execution": {
     "iopub.execute_input": "2020-12-17T16:51:16.270113Z",
     "iopub.status.busy": "2020-12-17T16:51:16.268165Z",
     "iopub.status.idle": "2020-12-17T16:51:18.578675Z",
     "shell.execute_reply": "2020-12-17T16:51:18.576591Z"
    },
    "papermill": {
     "duration": 2.369013,
     "end_time": "2020-12-17T16:51:18.579027",
     "exception": false,
     "start_time": "2020-12-17T16:51:16.210014",
     "status": "completed"
    },
    "tags": []
   },
   "outputs": [
    {
     "name": "stderr",
     "output_type": "stream",
     "text": [
      "── \u001b[1mAttaching packages\u001b[22m ─────────────────────────────────────── tidyverse 1.3.0 ──\n",
      "\n",
      "\u001b[32m✔\u001b[39m \u001b[34mggplot2\u001b[39m 3.3.2     \u001b[32m✔\u001b[39m \u001b[34mpurrr  \u001b[39m 0.3.4\n",
      "\u001b[32m✔\u001b[39m \u001b[34mtibble \u001b[39m 3.0.3     \u001b[32m✔\u001b[39m \u001b[34mdplyr  \u001b[39m 1.0.2\n",
      "\u001b[32m✔\u001b[39m \u001b[34mtidyr  \u001b[39m 1.1.2     \u001b[32m✔\u001b[39m \u001b[34mstringr\u001b[39m 1.4.0\n",
      "\u001b[32m✔\u001b[39m \u001b[34mreadr  \u001b[39m 1.3.1     \u001b[32m✔\u001b[39m \u001b[34mforcats\u001b[39m 0.5.0\n",
      "\n",
      "── \u001b[1mConflicts\u001b[22m ────────────────────────────────────────── tidyverse_conflicts() ──\n",
      "\u001b[31m✖\u001b[39m \u001b[34mdplyr\u001b[39m::\u001b[32mfilter()\u001b[39m masks \u001b[34mstats\u001b[39m::filter()\n",
      "\u001b[31m✖\u001b[39m \u001b[34mdplyr\u001b[39m::\u001b[32mlag()\u001b[39m    masks \u001b[34mstats\u001b[39m::lag()\n",
      "\n",
      "Loading required package: NLP\n",
      "\n",
      "\n",
      "Attaching package: ‘NLP’\n",
      "\n",
      "\n",
      "The following object is masked from ‘package:ggplot2’:\n",
      "\n",
      "    annotate\n",
      "\n",
      "\n",
      "The following object is masked from ‘package:httr’:\n",
      "\n",
      "    content\n",
      "\n",
      "\n"
     ]
    }
   ],
   "source": [
    "library(tidyverse)\n",
    "library(repr)\n",
    "library(tm)\n",
    "library(ggrepel)\n",
    "\n",
    "options(warn=-1)\n",
    "\n",
    "options(repr.plot.width=15, repr.plot.height = 10)\n",
    "\n",
    "library(dplyr, warn.conflicts = FALSE)\n",
    "# Suppress summarise info\n",
    "options(dplyr.summarise.inform = FALSE)"
   ]
  },
  {
   "cell_type": "code",
   "execution_count": 2,
   "metadata": {
    "execution": {
     "iopub.execute_input": "2020-12-17T16:51:18.687249Z",
     "iopub.status.busy": "2020-12-17T16:51:18.623153Z",
     "iopub.status.idle": "2020-12-17T16:51:19.245045Z",
     "shell.execute_reply": "2020-12-17T16:51:19.243107Z"
    },
    "papermill": {
     "duration": 0.645923,
     "end_time": "2020-12-17T16:51:19.245278",
     "exception": false,
     "start_time": "2020-12-17T16:51:18.599355",
     "status": "completed"
    },
    "tags": []
   },
   "outputs": [
    {
     "data": {
      "text/html": [
       "<table class=\"dataframe\">\n",
       "<caption>A tibble: 3 × 28</caption>\n",
       "<thead>\n",
       "\t<tr><th scope=col>gameId</th><th scope=col>playId</th><th scope=col>playDescription</th><th scope=col>quarter</th><th scope=col>down</th><th scope=col>yardsToGo</th><th scope=col>possessionTeam</th><th scope=col>playType</th><th scope=col>yardlineSide</th><th scope=col>yardlineNumber</th><th scope=col>⋯</th><th scope=col>gameClock</th><th scope=col>absoluteYardlineNumber</th><th scope=col>penaltyCodes</th><th scope=col>penaltyJerseyNumbers</th><th scope=col>passResult</th><th scope=col>offensePlayResult</th><th scope=col>playResult</th><th scope=col>epa</th><th scope=col>isDefensivePI</th><th scope=col>targetNflId</th></tr>\n",
       "\t<tr><th scope=col>&lt;dbl&gt;</th><th scope=col>&lt;dbl&gt;</th><th scope=col>&lt;chr&gt;</th><th scope=col>&lt;dbl&gt;</th><th scope=col>&lt;dbl&gt;</th><th scope=col>&lt;dbl&gt;</th><th scope=col>&lt;chr&gt;</th><th scope=col>&lt;chr&gt;</th><th scope=col>&lt;chr&gt;</th><th scope=col>&lt;dbl&gt;</th><th scope=col>⋯</th><th scope=col>&lt;time&gt;</th><th scope=col>&lt;dbl&gt;</th><th scope=col>&lt;chr&gt;</th><th scope=col>&lt;chr&gt;</th><th scope=col>&lt;chr&gt;</th><th scope=col>&lt;dbl&gt;</th><th scope=col>&lt;dbl&gt;</th><th scope=col>&lt;dbl&gt;</th><th scope=col>&lt;lgl&gt;</th><th scope=col>&lt;dbl&gt;</th></tr>\n",
       "</thead>\n",
       "<tbody>\n",
       "\t<tr><td>2018090600</td><td> 75</td><td>(15:00) M.Ryan pass short right to J.Jones pushed ob at ATL 30 for 10 yards (M.Jenkins).</td><td>1</td><td>1</td><td>15</td><td>ATL</td><td>play_type_pass</td><td>ATL</td><td>20</td><td>⋯</td><td>15:00:00</td><td>90</td><td>NA</td><td>NA</td><td>C</td><td>10</td><td>10</td><td> 0.2618273</td><td>FALSE</td><td>2495454</td></tr>\n",
       "\t<tr><td>2018090600</td><td>146</td><td>(13:10) M.Ryan pass incomplete short right to C.Ridley (J.Mills, J.Hicks).              </td><td>1</td><td>1</td><td>10</td><td>ATL</td><td>play_type_pass</td><td>PHI</td><td>39</td><td>⋯</td><td>13:10:00</td><td>49</td><td>NA</td><td>NA</td><td>I</td><td> 0</td><td> 0</td><td>-0.3723598</td><td>FALSE</td><td>2560854</td></tr>\n",
       "\t<tr><td>2018090600</td><td>168</td><td>(13:05) (Shotgun) M.Ryan pass incomplete short left to D.Freeman.                       </td><td>1</td><td>2</td><td>10</td><td>ATL</td><td>play_type_pass</td><td>PHI</td><td>39</td><td>⋯</td><td>13:05:00</td><td>49</td><td>NA</td><td>NA</td><td>I</td><td> 0</td><td> 0</td><td>-0.7027787</td><td>FALSE</td><td>2543583</td></tr>\n",
       "</tbody>\n",
       "</table>\n"
      ],
      "text/latex": [
       "A tibble: 3 × 28\n",
       "\\begin{tabular}{lllllllllllllllllllll}\n",
       " gameId & playId & playDescription & quarter & down & yardsToGo & possessionTeam & playType & yardlineSide & yardlineNumber & ⋯ & gameClock & absoluteYardlineNumber & penaltyCodes & penaltyJerseyNumbers & passResult & offensePlayResult & playResult & epa & isDefensivePI & targetNflId\\\\\n",
       " <dbl> & <dbl> & <chr> & <dbl> & <dbl> & <dbl> & <chr> & <chr> & <chr> & <dbl> & ⋯ & <time> & <dbl> & <chr> & <chr> & <chr> & <dbl> & <dbl> & <dbl> & <lgl> & <dbl>\\\\\n",
       "\\hline\n",
       "\t 2018090600 &  75 & (15:00) M.Ryan pass short right to J.Jones pushed ob at ATL 30 for 10 yards (M.Jenkins). & 1 & 1 & 15 & ATL & play\\_type\\_pass & ATL & 20 & ⋯ & 15:00:00 & 90 & NA & NA & C & 10 & 10 &  0.2618273 & FALSE & 2495454\\\\\n",
       "\t 2018090600 & 146 & (13:10) M.Ryan pass incomplete short right to C.Ridley (J.Mills, J.Hicks).               & 1 & 1 & 10 & ATL & play\\_type\\_pass & PHI & 39 & ⋯ & 13:10:00 & 49 & NA & NA & I &  0 &  0 & -0.3723598 & FALSE & 2560854\\\\\n",
       "\t 2018090600 & 168 & (13:05) (Shotgun) M.Ryan pass incomplete short left to D.Freeman.                        & 1 & 2 & 10 & ATL & play\\_type\\_pass & PHI & 39 & ⋯ & 13:05:00 & 49 & NA & NA & I &  0 &  0 & -0.7027787 & FALSE & 2543583\\\\\n",
       "\\end{tabular}\n"
      ],
      "text/markdown": [
       "\n",
       "A tibble: 3 × 28\n",
       "\n",
       "| gameId &lt;dbl&gt; | playId &lt;dbl&gt; | playDescription &lt;chr&gt; | quarter &lt;dbl&gt; | down &lt;dbl&gt; | yardsToGo &lt;dbl&gt; | possessionTeam &lt;chr&gt; | playType &lt;chr&gt; | yardlineSide &lt;chr&gt; | yardlineNumber &lt;dbl&gt; | ⋯ ⋯ | gameClock &lt;time&gt; | absoluteYardlineNumber &lt;dbl&gt; | penaltyCodes &lt;chr&gt; | penaltyJerseyNumbers &lt;chr&gt; | passResult &lt;chr&gt; | offensePlayResult &lt;dbl&gt; | playResult &lt;dbl&gt; | epa &lt;dbl&gt; | isDefensivePI &lt;lgl&gt; | targetNflId &lt;dbl&gt; |\n",
       "|---|---|---|---|---|---|---|---|---|---|---|---|---|---|---|---|---|---|---|---|---|\n",
       "| 2018090600 |  75 | (15:00) M.Ryan pass short right to J.Jones pushed ob at ATL 30 for 10 yards (M.Jenkins). | 1 | 1 | 15 | ATL | play_type_pass | ATL | 20 | ⋯ | 15:00:00 | 90 | NA | NA | C | 10 | 10 |  0.2618273 | FALSE | 2495454 |\n",
       "| 2018090600 | 146 | (13:10) M.Ryan pass incomplete short right to C.Ridley (J.Mills, J.Hicks).               | 1 | 1 | 10 | ATL | play_type_pass | PHI | 39 | ⋯ | 13:10:00 | 49 | NA | NA | I |  0 |  0 | -0.3723598 | FALSE | 2560854 |\n",
       "| 2018090600 | 168 | (13:05) (Shotgun) M.Ryan pass incomplete short left to D.Freeman.                        | 1 | 2 | 10 | ATL | play_type_pass | PHI | 39 | ⋯ | 13:05:00 | 49 | NA | NA | I |  0 |  0 | -0.7027787 | FALSE | 2543583 |\n",
       "\n"
      ],
      "text/plain": [
       "  gameId     playId\n",
       "1 2018090600  75   \n",
       "2 2018090600 146   \n",
       "3 2018090600 168   \n",
       "  playDescription                                                                         \n",
       "1 (15:00) M.Ryan pass short right to J.Jones pushed ob at ATL 30 for 10 yards (M.Jenkins).\n",
       "2 (13:10) M.Ryan pass incomplete short right to C.Ridley (J.Mills, J.Hicks).              \n",
       "3 (13:05) (Shotgun) M.Ryan pass incomplete short left to D.Freeman.                       \n",
       "  quarter down yardsToGo possessionTeam playType       yardlineSide\n",
       "1 1       1    15        ATL            play_type_pass ATL         \n",
       "2 1       1    10        ATL            play_type_pass PHI         \n",
       "3 1       2    10        ATL            play_type_pass PHI         \n",
       "  yardlineNumber ⋯ gameClock absoluteYardlineNumber penaltyCodes\n",
       "1 20             ⋯ 15:00:00  90                     NA          \n",
       "2 39             ⋯ 13:10:00  49                     NA          \n",
       "3 39             ⋯ 13:05:00  49                     NA          \n",
       "  penaltyJerseyNumbers passResult offensePlayResult playResult epa       \n",
       "1 NA                   C          10                10          0.2618273\n",
       "2 NA                   I           0                 0         -0.3723598\n",
       "3 NA                   I           0                 0         -0.7027787\n",
       "  isDefensivePI targetNflId\n",
       "1 FALSE         2495454    \n",
       "2 FALSE         2560854    \n",
       "3 FALSE         2543583    "
      ]
     },
     "metadata": {},
     "output_type": "display_data"
    }
   ],
   "source": [
    "#includes play-by-play info on specific plays\n",
    "df_plays <- read_csv(\"../input/nfl-big-data-bowl-2021/plays.csv\",\n",
    "                    col_types = cols())\n",
    "\n",
    "#includes background info for players\n",
    "df_players <- read_csv(\"../input/nfl-big-data-bowl-2021/players.csv\",\n",
    "                      col_types = cols())\n",
    "\n",
    "#includes targetted receiver by play\n",
    "df_targetedReceiver <- read_csv(\"../input/nfl-big-data-bowl-2021-bonus/targetedReceiver.csv\",\n",
    "                      col_types = cols())\n",
    "\n",
    "#includes schedule info for games\n",
    "df_games <- read_csv(\"../input/nfl-big-data-bowl-2021/games.csv\",\n",
    "                    col_types = cols())\n",
    "\n",
    "df_plays <- inner_join(df_plays,\n",
    "                      df_targetedReceiver,\n",
    "                      by = c('playId', 'gameId'))\n",
    "head(df_plays, 3)"
   ]
  },
  {
   "cell_type": "code",
   "execution_count": 3,
   "metadata": {
    "execution": {
     "iopub.execute_input": "2020-12-17T16:51:19.290389Z",
     "iopub.status.busy": "2020-12-17T16:51:19.288835Z",
     "iopub.status.idle": "2020-12-17T16:53:31.967966Z",
     "shell.execute_reply": "2020-12-17T16:53:31.968332Z"
    },
    "papermill": {
     "duration": 132.702643,
     "end_time": "2020-12-17T16:53:31.968490",
     "exception": false,
     "start_time": "2020-12-17T16:51:19.265847",
     "status": "completed"
    },
    "tags": []
   },
   "outputs": [
    {
     "data": {
      "text/html": [
       "18309388"
      ],
      "text/latex": [
       "18309388"
      ],
      "text/markdown": [
       "18309388"
      ],
      "text/plain": [
       "[1] 18309388"
      ]
     },
     "metadata": {},
     "output_type": "display_data"
    }
   ],
   "source": [
    "#weeks of NFL season\n",
    "weeks <- seq(1, 17)\n",
    "\n",
    "#blank dataframe to store tracking data\n",
    "df_tracking <- data.frame()\n",
    "\n",
    "#iterating through all weeks\n",
    "for(w in weeks){\n",
    "    \n",
    "    #temperory dataframe used for reading week for given iteration\n",
    "    df_tracking_temp <- read_csv(paste0(\"../input/nfl-big-data-bowl-2021/week\",w,\".csv\"),\n",
    "                                col_types = cols())\n",
    "    \n",
    "    #storing temporary dataframe in full season dataframe\n",
    "    df_tracking <- bind_rows(df_tracking_temp, df_tracking)                            \n",
    "    \n",
    "}\n",
    "nrow(df_tracking)\n",
    "rm(df_tracking_temp)"
   ]
  },
  {
   "cell_type": "code",
   "execution_count": 4,
   "metadata": {
    "execution": {
     "iopub.execute_input": "2020-12-17T16:53:32.015309Z",
     "iopub.status.busy": "2020-12-17T16:53:32.014318Z",
     "iopub.status.idle": "2020-12-17T16:53:34.808618Z",
     "shell.execute_reply": "2020-12-17T16:53:34.806806Z"
    },
    "papermill": {
     "duration": 2.819029,
     "end_time": "2020-12-17T16:53:34.808803",
     "exception": false,
     "start_time": "2020-12-17T16:53:31.989774",
     "status": "completed"
    },
    "tags": []
   },
   "outputs": [],
   "source": [
    "# here I want to make the df much smaller to save ram space and only get the position of DBs, potential targets for the offense,\n",
    "# and the ball (implying the thrower (QB) is holding it on these plays)\n",
    "keeper_positions <- c('WR', 'RB', 'TE', 'FB', 'SS', 'FS', 'CB', \n",
    "                     'DB', 'HB', 'S', 'QB')\n",
    "\n",
    "keeper_positions <- which(df_tracking$position %in% keeper_positions | df_tracking$displayName == 'Football')\n",
    "df_tracking <- df_tracking[keeper_positions,]"
   ]
  },
  {
   "cell_type": "code",
   "execution_count": 5,
   "metadata": {
    "execution": {
     "iopub.execute_input": "2020-12-17T16:53:34.855757Z",
     "iopub.status.busy": "2020-12-17T16:53:34.854522Z",
     "iopub.status.idle": "2020-12-17T16:53:34.873060Z",
     "shell.execute_reply": "2020-12-17T16:53:34.872034Z"
    },
    "papermill": {
     "duration": 0.042988,
     "end_time": "2020-12-17T16:53:34.873183",
     "exception": false,
     "start_time": "2020-12-17T16:53:34.830195",
     "status": "completed"
    },
    "tags": []
   },
   "outputs": [],
   "source": [
    "banned_plays <- c('qb_sack', 'handoff', 'touchback',\n",
    "                  'qb_strip_sack', 'pass_shovel', 'qb_spike',\n",
    "                  'run', 'touchback', 'field_goal_blocked',\n",
    "                  'punt_fake', 'pass_lateral', 'lateral',\n",
    "                  'field_goal_fake', 'safety', 'field_goal_play', 'handoff')\n",
    "\n",
    "necessary_events = c('pass_outcome_touchdown', 'pass_outcome_caught',\n",
    "                    'pass_outcome_incomplete', 'pass_outcome_interception',\n",
    "                    'pass_arrived')\n",
    "# create function to remove undesired plays\n",
    "remove_badPlays <- function(play_df){\n",
    "    event_match <- sum('pass_forward' %in% unique(play_df$event))\n",
    "    # if pass_forward is not in the play_df return NA\n",
    "    if(event_match == 0){\n",
    "        return(NA)\n",
    "    }\n",
    "    event_match <- sum(necessary_events %in% unique(play_df$event))\n",
    "    # if one of the necessary events is not in the play_df return NA\n",
    "    if(event_match == 0){\n",
    "        return(NA)\n",
    "    }\n",
    "    # if any of the banned events are in the play return NA\n",
    "    if(sum(banned_plays %in% unique(play_df$event)) > 0){\n",
    "        return(NA)\n",
    "    }\n",
    "    return(play_df)\n",
    "}\n",
    "# create function to remove NA values from the created list from remove_badPlays\n",
    "na.omit.list <- function(y) { return(y[!sapply(y, function(x) all(is.na(x)))]) }"
   ]
  },
  {
   "cell_type": "code",
   "execution_count": 6,
   "metadata": {
    "execution": {
     "iopub.execute_input": "2020-12-17T16:53:34.920312Z",
     "iopub.status.busy": "2020-12-17T16:53:34.918790Z",
     "iopub.status.idle": "2020-12-17T16:53:42.052835Z",
     "shell.execute_reply": "2020-12-17T16:53:42.052281Z"
    },
    "papermill": {
     "duration": 7.159168,
     "end_time": "2020-12-17T16:53:42.052961",
     "exception": false,
     "start_time": "2020-12-17T16:53:34.893793",
     "status": "completed"
    },
    "tags": []
   },
   "outputs": [],
   "source": [
    "temp_df <- df_tracking %>%\n",
    "\n",
    "group_split(gameId, playId)\n",
    "# apply remove bad_badPlays to each play\n",
    "temp_df <- lapply(temp_df, remove_badPlays)\n",
    "# get rid of banned plays\n",
    "temp_df <- na.omit.list(temp_df)"
   ]
  },
  {
   "cell_type": "code",
   "execution_count": 7,
   "metadata": {
    "execution": {
     "iopub.execute_input": "2020-12-17T16:53:42.101286Z",
     "iopub.status.busy": "2020-12-17T16:53:42.100096Z",
     "iopub.status.idle": "2020-12-17T16:53:42.114715Z",
     "shell.execute_reply": "2020-12-17T16:53:42.113832Z"
    },
    "papermill": {
     "duration": 0.039602,
     "end_time": "2020-12-17T16:53:42.114868",
     "exception": false,
     "start_time": "2020-12-17T16:53:42.075266",
     "status": "completed"
    },
    "tags": []
   },
   "outputs": [],
   "source": [
    "# cut down dfs by player for their movements from ball_snap to the arrvial/outcome\n",
    "slim_ind_player <- function(player_df){\n",
    "    ball_snap_index <- which(player_df$event == 'ball_snap')\n",
    "\n",
    "    outcome_finder = player_df$event[which(player_df$event %in% c('pass_outcome_touchdown',\n",
    "                                                                  'pass_outcome_complete',\n",
    "                                                                  'pass_outcome_incomplete',\n",
    "                                                                  'pass_outcome_interception',\n",
    "                                                                  'pass_arrived'))[1]]\n",
    "    outcome_index = which(player_df$event == outcome_finder)\n",
    "\n",
    "    if(length(ball_snap_index) == 0 | length(outcome_index) == 0){\n",
    "        return(NA)\n",
    "    }\n",
    "    return(player_df[ball_snap_index:outcome_index,])\n",
    "}\n",
    "# apply the slimming function to each play in the temp_df created above\n",
    "# so, we're taking a list of individual plays and grouping by each player\n",
    "# then we're applying the slim to the player df\n",
    "# finally we bind all the rows back together\n",
    "get_snap_to_outcome <- function(play_df){\n",
    "    temp_lst <- play_df %>%\n",
    "    \n",
    "    group_split(nflId)\n",
    "    \n",
    "    temp_lst <- lapply(temp_lst, slim_ind_player)\n",
    "    \n",
    "    temp_lst <- na.omit.list(temp_lst)\n",
    "    \n",
    "    play_df <- bind_rows(temp_lst)\n",
    "    \n",
    "    return(play_df)\n",
    "}"
   ]
  },
  {
   "cell_type": "code",
   "execution_count": 8,
   "metadata": {
    "execution": {
     "iopub.execute_input": "2020-12-17T16:53:42.162475Z",
     "iopub.status.busy": "2020-12-17T16:53:42.161059Z",
     "iopub.status.idle": "2020-12-17T16:55:56.535487Z",
     "shell.execute_reply": "2020-12-17T16:55:56.534418Z"
    },
    "papermill": {
     "duration": 134.399468,
     "end_time": "2020-12-17T16:55:56.535607",
     "exception": false,
     "start_time": "2020-12-17T16:53:42.136139",
     "status": "completed"
    },
    "tags": []
   },
   "outputs": [
    {
     "data": {
      "text/html": [
       "17559"
      ],
      "text/latex": [
       "17559"
      ],
      "text/markdown": [
       "17559"
      ],
      "text/plain": [
       "[1] 17559"
      ]
     },
     "metadata": {},
     "output_type": "display_data"
    },
    {
     "data": {
      "text/html": [
       "17479"
      ],
      "text/latex": [
       "17479"
      ],
      "text/markdown": [
       "17479"
      ],
      "text/plain": [
       "[1] 17479"
      ]
     },
     "metadata": {},
     "output_type": "display_data"
    }
   ],
   "source": [
    "temp_df <- lapply(temp_df, get_snap_to_outcome)\n",
    "length(temp_df)\n",
    "temp_df <- na.omit.list(temp_df)\n",
    "length(temp_df)"
   ]
  },
  {
   "cell_type": "code",
   "execution_count": 9,
   "metadata": {
    "execution": {
     "iopub.execute_input": "2020-12-17T16:55:56.588271Z",
     "iopub.status.busy": "2020-12-17T16:55:56.586979Z",
     "iopub.status.idle": "2020-12-17T16:55:58.103645Z",
     "shell.execute_reply": "2020-12-17T16:55:58.102317Z"
    },
    "papermill": {
     "duration": 1.544871,
     "end_time": "2020-12-17T16:55:58.103908",
     "exception": false,
     "start_time": "2020-12-17T16:55:56.559037",
     "status": "completed"
    },
    "tags": []
   },
   "outputs": [
    {
     "data": {
      "text/html": [
       "8179067"
      ],
      "text/latex": [
       "8179067"
      ],
      "text/markdown": [
       "8179067"
      ],
      "text/plain": [
       "[1] 8179067"
      ]
     },
     "metadata": {},
     "output_type": "display_data"
    }
   ],
   "source": [
    "df_tracking <- bind_rows(temp_df)\n",
    "rm(temp_df)\n",
    "nrow(df_tracking)"
   ]
  },
  {
   "cell_type": "code",
   "execution_count": 10,
   "metadata": {
    "execution": {
     "iopub.execute_input": "2020-12-17T16:55:58.164339Z",
     "iopub.status.busy": "2020-12-17T16:55:58.161939Z",
     "iopub.status.idle": "2020-12-17T16:55:59.967359Z",
     "shell.execute_reply": "2020-12-17T16:55:59.964618Z"
    },
    "papermill": {
     "duration": 1.834005,
     "end_time": "2020-12-17T16:55:59.967628",
     "exception": false,
     "start_time": "2020-12-17T16:55:58.133623",
     "status": "completed"
    },
    "tags": []
   },
   "outputs": [],
   "source": [
    "#Standardizing tracking data so its always in direction of offense vs raw on-field coordinates.\n",
    "df_tracking <- df_tracking %>%\n",
    "                mutate(x = ifelse(playDirection == \"left\", 120-x, x),\n",
    "                       y = ifelse(playDirection == \"left\", 160/3 - y, y),\n",
    "                       o_std = ((-o + 90) %% 360) * 3.1415 / 180.0) # o_std is in radians"
   ]
  },
  {
   "cell_type": "code",
   "execution_count": 11,
   "metadata": {
    "execution": {
     "iopub.execute_input": "2020-12-17T16:56:00.021139Z",
     "iopub.status.busy": "2020-12-17T16:56:00.019280Z",
     "iopub.status.idle": "2020-12-17T16:56:01.988340Z",
     "shell.execute_reply": "2020-12-17T16:56:01.986461Z"
    },
    "papermill": {
     "duration": 1.996255,
     "end_time": "2020-12-17T16:56:01.988502",
     "exception": false,
     "start_time": "2020-12-17T16:55:59.992247",
     "status": "completed"
    },
    "tags": []
   },
   "outputs": [],
   "source": [
    "#merging plays and tracking data\n",
    "df_merged <- inner_join(df_games,\n",
    "                        df_plays,\n",
    "                        by = c(\"gameId\" = \"gameId\"))\n",
    "\n",
    "#merging games data to previously merged frame, note slightly different id names from needed mutate\n",
    "df_merged <- inner_join(df_merged,\n",
    "                        df_tracking,\n",
    "                        by = c(\"gameId\", \"playId\"))"
   ]
  },
  {
   "cell_type": "code",
   "execution_count": 12,
   "metadata": {
    "execution": {
     "iopub.execute_input": "2020-12-17T16:56:02.044653Z",
     "iopub.status.busy": "2020-12-17T16:56:02.043047Z",
     "iopub.status.idle": "2020-12-17T16:56:02.062042Z",
     "shell.execute_reply": "2020-12-17T16:56:02.061448Z"
    },
    "papermill": {
     "duration": 0.048517,
     "end_time": "2020-12-17T16:56:02.062225",
     "exception": false,
     "start_time": "2020-12-17T16:56:02.013708",
     "status": "completed"
    },
    "tags": []
   },
   "outputs": [],
   "source": [
    "# clear space on RAM\n",
    "rm(df_tracking)\n",
    "rm(df_plays)\n",
    "rm(df_targetedReceiver)\n",
    "rm(df_games)"
   ]
  },
  {
   "cell_type": "code",
   "execution_count": 13,
   "metadata": {
    "execution": {
     "iopub.execute_input": "2020-12-17T16:56:02.115168Z",
     "iopub.status.busy": "2020-12-17T16:56:02.113926Z",
     "iopub.status.idle": "2020-12-17T16:56:03.923169Z",
     "shell.execute_reply": "2020-12-17T16:56:03.921640Z"
    },
    "papermill": {
     "duration": 1.836337,
     "end_time": "2020-12-17T16:56:03.923330",
     "exception": false,
     "start_time": "2020-12-17T16:56:02.086993",
     "status": "completed"
    },
    "tags": []
   },
   "outputs": [
    {
     "data": {
      "text/html": [
       "<table class=\"dataframe\">\n",
       "<caption>A tibble: 6 × 27</caption>\n",
       "<thead>\n",
       "\t<tr><th scope=col>gameId</th><th scope=col>playId</th><th scope=col>passResult</th><th scope=col>targetNflId</th><th scope=col>time</th><th scope=col>x</th><th scope=col>y</th><th scope=col>o_std</th><th scope=col>o</th><th scope=col>dir</th><th scope=col>⋯</th><th scope=col>displayName</th><th scope=col>position</th><th scope=col>route</th><th scope=col>team</th><th scope=col>homeTeamAbbr</th><th scope=col>visitorTeamAbbr</th><th scope=col>possessionTeam</th><th scope=col>isDefensivePI</th><th scope=col>targetedReceiver</th><th scope=col>team_name</th></tr>\n",
       "\t<tr><th scope=col>&lt;dbl&gt;</th><th scope=col>&lt;dbl&gt;</th><th scope=col>&lt;chr&gt;</th><th scope=col>&lt;dbl&gt;</th><th scope=col>&lt;dttm&gt;</th><th scope=col>&lt;dbl&gt;</th><th scope=col>&lt;dbl&gt;</th><th scope=col>&lt;dbl&gt;</th><th scope=col>&lt;dbl&gt;</th><th scope=col>&lt;dbl&gt;</th><th scope=col>⋯</th><th scope=col>&lt;chr&gt;</th><th scope=col>&lt;chr&gt;</th><th scope=col>&lt;chr&gt;</th><th scope=col>&lt;chr&gt;</th><th scope=col>&lt;chr&gt;</th><th scope=col>&lt;chr&gt;</th><th scope=col>&lt;chr&gt;</th><th scope=col>&lt;lgl&gt;</th><th scope=col>&lt;dbl&gt;</th><th scope=col>&lt;chr&gt;</th></tr>\n",
       "</thead>\n",
       "<tbody>\n",
       "\t<tr><td>2018090600</td><td>75</td><td>C</td><td>2495454</td><td>2018-09-07 01:07:15</td><td>28.26</td><td>26.66333</td><td>3.012175</td><td>277.41</td><td>235.01</td><td>⋯</td><td>Matt Ryan</td><td>QB</td><td>NA</td><td>away</td><td>PHI</td><td>ATL</td><td>ATL</td><td>FALSE</td><td>0</td><td>ATL</td></tr>\n",
       "\t<tr><td>2018090600</td><td>75</td><td>C</td><td>2495454</td><td>2018-09-07 01:07:15</td><td>28.24</td><td>26.65333</td><td>2.921420</td><td>282.61</td><td>147.80</td><td>⋯</td><td>Matt Ryan</td><td>QB</td><td>NA</td><td>away</td><td>PHI</td><td>ATL</td><td>ATL</td><td>FALSE</td><td>0</td><td>ATL</td></tr>\n",
       "\t<tr><td>2018090600</td><td>75</td><td>C</td><td>2495454</td><td>2018-09-07 01:07:15</td><td>28.22</td><td>26.65333</td><td>2.855798</td><td>286.37</td><td> 83.42</td><td>⋯</td><td>Matt Ryan</td><td>QB</td><td>NA</td><td>away</td><td>PHI</td><td>ATL</td><td>ATL</td><td>FALSE</td><td>0</td><td>ATL</td></tr>\n",
       "\t<tr><td>2018090600</td><td>75</td><td>C</td><td>2495454</td><td>2018-09-07 01:07:15</td><td>28.21</td><td>26.65333</td><td>2.804487</td><td>289.31</td><td> 87.85</td><td>⋯</td><td>Matt Ryan</td><td>QB</td><td>NA</td><td>away</td><td>PHI</td><td>ATL</td><td>ATL</td><td>FALSE</td><td>0</td><td>ATL</td></tr>\n",
       "\t<tr><td>2018090600</td><td>75</td><td>C</td><td>2495454</td><td>2018-09-07 01:07:16</td><td>28.16</td><td>26.65333</td><td>2.755968</td><td>292.09</td><td> 91.72</td><td>⋯</td><td>Matt Ryan</td><td>QB</td><td>NA</td><td>away</td><td>PHI</td><td>ATL</td><td>ATL</td><td>FALSE</td><td>0</td><td>ATL</td></tr>\n",
       "\t<tr><td>2018090600</td><td>75</td><td>C</td><td>2495454</td><td>2018-09-07 01:07:16</td><td>28.06</td><td>26.66333</td><td>2.669926</td><td>297.02</td><td> 95.13</td><td>⋯</td><td>Matt Ryan</td><td>QB</td><td>NA</td><td>away</td><td>PHI</td><td>ATL</td><td>ATL</td><td>FALSE</td><td>0</td><td>ATL</td></tr>\n",
       "</tbody>\n",
       "</table>\n"
      ],
      "text/latex": [
       "A tibble: 6 × 27\n",
       "\\begin{tabular}{lllllllllllllllllllll}\n",
       " gameId & playId & passResult & targetNflId & time & x & y & o\\_std & o & dir & ⋯ & displayName & position & route & team & homeTeamAbbr & visitorTeamAbbr & possessionTeam & isDefensivePI & targetedReceiver & team\\_name\\\\\n",
       " <dbl> & <dbl> & <chr> & <dbl> & <dttm> & <dbl> & <dbl> & <dbl> & <dbl> & <dbl> & ⋯ & <chr> & <chr> & <chr> & <chr> & <chr> & <chr> & <chr> & <lgl> & <dbl> & <chr>\\\\\n",
       "\\hline\n",
       "\t 2018090600 & 75 & C & 2495454 & 2018-09-07 01:07:15 & 28.26 & 26.66333 & 3.012175 & 277.41 & 235.01 & ⋯ & Matt Ryan & QB & NA & away & PHI & ATL & ATL & FALSE & 0 & ATL\\\\\n",
       "\t 2018090600 & 75 & C & 2495454 & 2018-09-07 01:07:15 & 28.24 & 26.65333 & 2.921420 & 282.61 & 147.80 & ⋯ & Matt Ryan & QB & NA & away & PHI & ATL & ATL & FALSE & 0 & ATL\\\\\n",
       "\t 2018090600 & 75 & C & 2495454 & 2018-09-07 01:07:15 & 28.22 & 26.65333 & 2.855798 & 286.37 &  83.42 & ⋯ & Matt Ryan & QB & NA & away & PHI & ATL & ATL & FALSE & 0 & ATL\\\\\n",
       "\t 2018090600 & 75 & C & 2495454 & 2018-09-07 01:07:15 & 28.21 & 26.65333 & 2.804487 & 289.31 &  87.85 & ⋯ & Matt Ryan & QB & NA & away & PHI & ATL & ATL & FALSE & 0 & ATL\\\\\n",
       "\t 2018090600 & 75 & C & 2495454 & 2018-09-07 01:07:16 & 28.16 & 26.65333 & 2.755968 & 292.09 &  91.72 & ⋯ & Matt Ryan & QB & NA & away & PHI & ATL & ATL & FALSE & 0 & ATL\\\\\n",
       "\t 2018090600 & 75 & C & 2495454 & 2018-09-07 01:07:16 & 28.06 & 26.66333 & 2.669926 & 297.02 &  95.13 & ⋯ & Matt Ryan & QB & NA & away & PHI & ATL & ATL & FALSE & 0 & ATL\\\\\n",
       "\\end{tabular}\n"
      ],
      "text/markdown": [
       "\n",
       "A tibble: 6 × 27\n",
       "\n",
       "| gameId &lt;dbl&gt; | playId &lt;dbl&gt; | passResult &lt;chr&gt; | targetNflId &lt;dbl&gt; | time &lt;dttm&gt; | x &lt;dbl&gt; | y &lt;dbl&gt; | o_std &lt;dbl&gt; | o &lt;dbl&gt; | dir &lt;dbl&gt; | ⋯ ⋯ | displayName &lt;chr&gt; | position &lt;chr&gt; | route &lt;chr&gt; | team &lt;chr&gt; | homeTeamAbbr &lt;chr&gt; | visitorTeamAbbr &lt;chr&gt; | possessionTeam &lt;chr&gt; | isDefensivePI &lt;lgl&gt; | targetedReceiver &lt;dbl&gt; | team_name &lt;chr&gt; |\n",
       "|---|---|---|---|---|---|---|---|---|---|---|---|---|---|---|---|---|---|---|---|---|\n",
       "| 2018090600 | 75 | C | 2495454 | 2018-09-07 01:07:15 | 28.26 | 26.66333 | 3.012175 | 277.41 | 235.01 | ⋯ | Matt Ryan | QB | NA | away | PHI | ATL | ATL | FALSE | 0 | ATL |\n",
       "| 2018090600 | 75 | C | 2495454 | 2018-09-07 01:07:15 | 28.24 | 26.65333 | 2.921420 | 282.61 | 147.80 | ⋯ | Matt Ryan | QB | NA | away | PHI | ATL | ATL | FALSE | 0 | ATL |\n",
       "| 2018090600 | 75 | C | 2495454 | 2018-09-07 01:07:15 | 28.22 | 26.65333 | 2.855798 | 286.37 |  83.42 | ⋯ | Matt Ryan | QB | NA | away | PHI | ATL | ATL | FALSE | 0 | ATL |\n",
       "| 2018090600 | 75 | C | 2495454 | 2018-09-07 01:07:15 | 28.21 | 26.65333 | 2.804487 | 289.31 |  87.85 | ⋯ | Matt Ryan | QB | NA | away | PHI | ATL | ATL | FALSE | 0 | ATL |\n",
       "| 2018090600 | 75 | C | 2495454 | 2018-09-07 01:07:16 | 28.16 | 26.65333 | 2.755968 | 292.09 |  91.72 | ⋯ | Matt Ryan | QB | NA | away | PHI | ATL | ATL | FALSE | 0 | ATL |\n",
       "| 2018090600 | 75 | C | 2495454 | 2018-09-07 01:07:16 | 28.06 | 26.66333 | 2.669926 | 297.02 |  95.13 | ⋯ | Matt Ryan | QB | NA | away | PHI | ATL | ATL | FALSE | 0 | ATL |\n",
       "\n"
      ],
      "text/plain": [
       "  gameId     playId passResult targetNflId time                x     y       \n",
       "1 2018090600 75     C          2495454     2018-09-07 01:07:15 28.26 26.66333\n",
       "2 2018090600 75     C          2495454     2018-09-07 01:07:15 28.24 26.65333\n",
       "3 2018090600 75     C          2495454     2018-09-07 01:07:15 28.22 26.65333\n",
       "4 2018090600 75     C          2495454     2018-09-07 01:07:15 28.21 26.65333\n",
       "5 2018090600 75     C          2495454     2018-09-07 01:07:16 28.16 26.65333\n",
       "6 2018090600 75     C          2495454     2018-09-07 01:07:16 28.06 26.66333\n",
       "  o_std    o      dir    ⋯ displayName position route team homeTeamAbbr\n",
       "1 3.012175 277.41 235.01 ⋯ Matt Ryan   QB       NA    away PHI         \n",
       "2 2.921420 282.61 147.80 ⋯ Matt Ryan   QB       NA    away PHI         \n",
       "3 2.855798 286.37  83.42 ⋯ Matt Ryan   QB       NA    away PHI         \n",
       "4 2.804487 289.31  87.85 ⋯ Matt Ryan   QB       NA    away PHI         \n",
       "5 2.755968 292.09  91.72 ⋯ Matt Ryan   QB       NA    away PHI         \n",
       "6 2.669926 297.02  95.13 ⋯ Matt Ryan   QB       NA    away PHI         \n",
       "  visitorTeamAbbr possessionTeam isDefensivePI targetedReceiver team_name\n",
       "1 ATL             ATL            FALSE         0                ATL      \n",
       "2 ATL             ATL            FALSE         0                ATL      \n",
       "3 ATL             ATL            FALSE         0                ATL      \n",
       "4 ATL             ATL            FALSE         0                ATL      \n",
       "5 ATL             ATL            FALSE         0                ATL      \n",
       "6 ATL             ATL            FALSE         0                ATL      "
      ]
     },
     "metadata": {},
     "output_type": "display_data"
    }
   ],
   "source": [
    "df_merged <- df_merged %>%\n",
    "\n",
    "select( gameId, playId, passResult, targetNflId, time, x, y, o_std, o, dir,\n",
    "       s, a, dis, event, epa, frameId, nflId, displayName, position, route,\n",
    "       team, homeTeamAbbr, visitorTeamAbbr, possessionTeam, isDefensivePI) %>%\n",
    "\n",
    "mutate(targetedReceiver = ifelse(nflId == targetNflId, 1, 0),\n",
    "       team_name = case_when(team == 'away' ~ visitorTeamAbbr,\n",
    "                            team == 'home' ~ homeTeamAbbr,\n",
    "                            team == 'football' ~ 'ball'))\n",
    "\n",
    "head(df_merged)"
   ]
  },
  {
   "cell_type": "code",
   "execution_count": 14,
   "metadata": {
    "execution": {
     "iopub.execute_input": "2020-12-17T16:56:03.992561Z",
     "iopub.status.busy": "2020-12-17T16:56:03.990967Z",
     "iopub.status.idle": "2020-12-17T16:56:06.510203Z",
     "shell.execute_reply": "2020-12-17T16:56:06.509037Z"
    },
    "papermill": {
     "duration": 2.555016,
     "end_time": "2020-12-17T16:56:06.510472",
     "exception": false,
     "start_time": "2020-12-17T16:56:03.955456",
     "status": "completed"
    },
    "tags": []
   },
   "outputs": [],
   "source": [
    "# convert positioning of ball in every frame to columns\n",
    "ballPositioning <- df_merged %>%\n",
    "\n",
    "select(gameId, playId, frameId, x, y, team) %>%\n",
    "\n",
    "filter(team == 'football') %>%\n",
    "\n",
    "select(gameId, playId, frameId, x, y)\n",
    "\n",
    "colnames(ballPositioning) <- list('gameId', 'playId', 'frameId', 'ball_x', 'ball_y')\n",
    "\n",
    "df_merged <- left_join(df_merged,\n",
    "                       ballPositioning,\n",
    "                       by=c('gameId', 'playId', 'frameId'))\n",
    "rm(ballPositioning)"
   ]
  },
  {
   "cell_type": "code",
   "execution_count": 15,
   "metadata": {
    "execution": {
     "iopub.execute_input": "2020-12-17T16:56:06.592903Z",
     "iopub.status.busy": "2020-12-17T16:56:06.591638Z",
     "iopub.status.idle": "2020-12-17T16:56:09.057137Z",
     "shell.execute_reply": "2020-12-17T16:56:09.055298Z"
    },
    "papermill": {
     "duration": 2.508375,
     "end_time": "2020-12-17T16:56:09.057288",
     "exception": false,
     "start_time": "2020-12-17T16:56:06.548913",
     "status": "completed"
    },
    "tags": []
   },
   "outputs": [],
   "source": [
    "line_of_scrimmage <- df_merged %>%\n",
    "\n",
    "select(gameId, playId, x, team, event) %>%\n",
    "\n",
    "filter(event == 'ball_snap' & team == 'football') %>%\n",
    "\n",
    "select(gameId, playId, x)\n",
    "\n",
    "colnames(line_of_scrimmage) <- list('gameId', 'playId', 'ball_snap_x')\n",
    "\n",
    "line_of_scrimmage <- line_of_scrimmage %>%\n",
    "\n",
    "mutate(max_space_available = 120 - ball_snap_x)\n",
    "\n",
    "df_merged <- left_join(df_merged,\n",
    "                       line_of_scrimmage,\n",
    "                       by=c('gameId', 'playId'))\n",
    "\n",
    "rm(line_of_scrimmage)"
   ]
  },
  {
   "cell_type": "code",
   "execution_count": 16,
   "metadata": {
    "execution": {
     "iopub.execute_input": "2020-12-17T16:56:09.113416Z",
     "iopub.status.busy": "2020-12-17T16:56:09.111233Z",
     "iopub.status.idle": "2020-12-17T16:56:12.759001Z",
     "shell.execute_reply": "2020-12-17T16:56:12.756820Z"
    },
    "papermill": {
     "duration": 3.677259,
     "end_time": "2020-12-17T16:56:12.759306",
     "exception": false,
     "start_time": "2020-12-17T16:56:09.082047",
     "status": "completed"
    },
    "tags": []
   },
   "outputs": [],
   "source": [
    "# convert positioning of target in every frame to columns\n",
    "targetPositioning <- df_merged %>%\n",
    "\n",
    "select(gameId, playId, frameId, x, y, targetedReceiver, dir) %>%\n",
    "\n",
    "filter(targetedReceiver == 1) %>%\n",
    "\n",
    "select(gameId, playId, frameId, x, y, dir)\n",
    "\n",
    "colnames(targetPositioning) <- list('gameId', 'playId', 'frameId', 'target_x', 'target_y', 'target_dir')\n",
    "\n",
    "df_merged <- left_join(df_merged,\n",
    "                       targetPositioning,\n",
    "                       by=c('gameId', 'playId', 'frameId'))\n",
    "\n",
    "rm(targetPositioning)"
   ]
  },
  {
   "cell_type": "code",
   "execution_count": 17,
   "metadata": {
    "execution": {
     "iopub.execute_input": "2020-12-17T16:56:12.816765Z",
     "iopub.status.busy": "2020-12-17T16:56:12.814774Z",
     "iopub.status.idle": "2020-12-17T16:56:16.717977Z",
     "shell.execute_reply": "2020-12-17T16:56:16.716390Z"
    },
    "papermill": {
     "duration": 3.932946,
     "end_time": "2020-12-17T16:56:16.718104",
     "exception": false,
     "start_time": "2020-12-17T16:56:12.785158",
     "status": "completed"
    },
    "tags": []
   },
   "outputs": [],
   "source": [
    "# convert positioning of target in every frame to columns\n",
    "qb_positioning <- df_merged %>%\n",
    "\n",
    "select(gameId, playId, frameId, x, y, position, s, a) %>%\n",
    "\n",
    "filter(position == 'QB') %>%\n",
    "\n",
    "select(gameId, playId, frameId, x, y, s, a)\n",
    "\n",
    "colnames(qb_positioning) <- list('gameId', 'playId', 'frameId', 'qb_x', 'qb_y', 'qb_s', 'qb_a')\n",
    "\n",
    "df_merged <- left_join(df_merged,\n",
    "                       qb_positioning,\n",
    "                       by=c('gameId', 'playId', 'frameId'))\n",
    "\n",
    "rm(qb_positioning)"
   ]
  },
  {
   "cell_type": "code",
   "execution_count": 18,
   "metadata": {
    "execution": {
     "iopub.execute_input": "2020-12-17T16:56:16.775369Z",
     "iopub.status.busy": "2020-12-17T16:56:16.773475Z",
     "iopub.status.idle": "2020-12-17T16:56:19.014273Z",
     "shell.execute_reply": "2020-12-17T16:56:19.012999Z"
    },
    "papermill": {
     "duration": 2.270414,
     "end_time": "2020-12-17T16:56:19.014632",
     "exception": false,
     "start_time": "2020-12-17T16:56:16.744218",
     "status": "completed"
    },
    "tags": []
   },
   "outputs": [
    {
     "data": {
      "text/html": [
       "<table class=\"dataframe\">\n",
       "<caption>A tibble: 6 × 38</caption>\n",
       "<thead>\n",
       "\t<tr><th scope=col>gameId</th><th scope=col>playId</th><th scope=col>passResult</th><th scope=col>targetNflId</th><th scope=col>time</th><th scope=col>x</th><th scope=col>y</th><th scope=col>o_std</th><th scope=col>o</th><th scope=col>dir</th><th scope=col>⋯</th><th scope=col>ball_y</th><th scope=col>ball_snap_x</th><th scope=col>max_space_available</th><th scope=col>target_x</th><th scope=col>target_y</th><th scope=col>target_dir</th><th scope=col>qb_x</th><th scope=col>qb_y</th><th scope=col>qb_s</th><th scope=col>qb_a</th></tr>\n",
       "\t<tr><th scope=col>&lt;dbl&gt;</th><th scope=col>&lt;dbl&gt;</th><th scope=col>&lt;chr&gt;</th><th scope=col>&lt;dbl&gt;</th><th scope=col>&lt;dttm&gt;</th><th scope=col>&lt;dbl&gt;</th><th scope=col>&lt;dbl&gt;</th><th scope=col>&lt;dbl&gt;</th><th scope=col>&lt;dbl&gt;</th><th scope=col>&lt;dbl&gt;</th><th scope=col>⋯</th><th scope=col>&lt;dbl&gt;</th><th scope=col>&lt;dbl&gt;</th><th scope=col>&lt;dbl&gt;</th><th scope=col>&lt;dbl&gt;</th><th scope=col>&lt;dbl&gt;</th><th scope=col>&lt;dbl&gt;</th><th scope=col>&lt;dbl&gt;</th><th scope=col>&lt;dbl&gt;</th><th scope=col>&lt;dbl&gt;</th><th scope=col>&lt;dbl&gt;</th></tr>\n",
       "</thead>\n",
       "<tbody>\n",
       "\t<tr><td>2018090600</td><td>75</td><td>C</td><td>2495454</td><td>2018-09-07 01:07:15</td><td>31.11</td><td>16.83333</td><td>6.030109</td><td>104.49</td><td> 36.45</td><td>⋯</td><td>26.48333</td><td>29.89</td><td>90.11</td><td>28.64</td><td>9.193333</td><td> 49.86</td><td>28.26</td><td>26.66333</td><td>0.00</td><td>0.00</td></tr>\n",
       "\t<tr><td>2018090600</td><td>75</td><td>C</td><td>2495454</td><td>2018-09-07 01:07:15</td><td>31.11</td><td>16.82333</td><td>6.030109</td><td>104.49</td><td> 37.08</td><td>⋯</td><td>26.48333</td><td>29.89</td><td>90.11</td><td>28.65</td><td>9.193333</td><td> 39.20</td><td>28.24</td><td>26.65333</td><td>0.00</td><td>0.00</td></tr>\n",
       "\t<tr><td>2018090600</td><td>75</td><td>C</td><td>2495454</td><td>2018-09-07 01:07:15</td><td>31.11</td><td>16.82333</td><td>6.065887</td><td>102.44</td><td> 34.00</td><td>⋯</td><td>26.51333</td><td>29.89</td><td>90.11</td><td>28.68</td><td>9.193333</td><td>321.51</td><td>28.22</td><td>26.65333</td><td>0.03</td><td>0.82</td></tr>\n",
       "\t<tr><td>2018090600</td><td>75</td><td>C</td><td>2495454</td><td>2018-09-07 01:07:15</td><td>31.11</td><td>16.83333</td><td>6.111963</td><td> 99.80</td><td>278.87</td><td>⋯</td><td>26.51333</td><td>29.89</td><td>90.11</td><td>28.72</td><td>9.193333</td><td>270.73</td><td>28.21</td><td>26.65333</td><td>0.22</td><td>2.24</td></tr>\n",
       "\t<tr><td>2018090600</td><td>75</td><td>C</td><td>2495454</td><td>2018-09-07 01:07:16</td><td>31.12</td><td>16.82333</td><td>6.124703</td><td> 99.07</td><td>288.04</td><td>⋯</td><td>26.50333</td><td>29.89</td><td>90.11</td><td>28.76</td><td>9.203333</td><td>264.53</td><td>28.16</td><td>26.65333</td><td>0.61</td><td>3.46</td></tr>\n",
       "\t<tr><td>2018090600</td><td>75</td><td>C</td><td>2495454</td><td>2018-09-07 01:07:16</td><td>31.13</td><td>16.81333</td><td>6.136746</td><td> 98.38</td><td>317.54</td><td>⋯</td><td>26.47333</td><td>29.89</td><td>90.11</td><td>28.84</td><td>9.213333</td><td>263.56</td><td>28.06</td><td>26.66333</td><td>1.18</td><td>4.58</td></tr>\n",
       "</tbody>\n",
       "</table>\n"
      ],
      "text/latex": [
       "A tibble: 6 × 38\n",
       "\\begin{tabular}{lllllllllllllllllllll}\n",
       " gameId & playId & passResult & targetNflId & time & x & y & o\\_std & o & dir & ⋯ & ball\\_y & ball\\_snap\\_x & max\\_space\\_available & target\\_x & target\\_y & target\\_dir & qb\\_x & qb\\_y & qb\\_s & qb\\_a\\\\\n",
       " <dbl> & <dbl> & <chr> & <dbl> & <dttm> & <dbl> & <dbl> & <dbl> & <dbl> & <dbl> & ⋯ & <dbl> & <dbl> & <dbl> & <dbl> & <dbl> & <dbl> & <dbl> & <dbl> & <dbl> & <dbl>\\\\\n",
       "\\hline\n",
       "\t 2018090600 & 75 & C & 2495454 & 2018-09-07 01:07:15 & 31.11 & 16.83333 & 6.030109 & 104.49 &  36.45 & ⋯ & 26.48333 & 29.89 & 90.11 & 28.64 & 9.193333 &  49.86 & 28.26 & 26.66333 & 0.00 & 0.00\\\\\n",
       "\t 2018090600 & 75 & C & 2495454 & 2018-09-07 01:07:15 & 31.11 & 16.82333 & 6.030109 & 104.49 &  37.08 & ⋯ & 26.48333 & 29.89 & 90.11 & 28.65 & 9.193333 &  39.20 & 28.24 & 26.65333 & 0.00 & 0.00\\\\\n",
       "\t 2018090600 & 75 & C & 2495454 & 2018-09-07 01:07:15 & 31.11 & 16.82333 & 6.065887 & 102.44 &  34.00 & ⋯ & 26.51333 & 29.89 & 90.11 & 28.68 & 9.193333 & 321.51 & 28.22 & 26.65333 & 0.03 & 0.82\\\\\n",
       "\t 2018090600 & 75 & C & 2495454 & 2018-09-07 01:07:15 & 31.11 & 16.83333 & 6.111963 &  99.80 & 278.87 & ⋯ & 26.51333 & 29.89 & 90.11 & 28.72 & 9.193333 & 270.73 & 28.21 & 26.65333 & 0.22 & 2.24\\\\\n",
       "\t 2018090600 & 75 & C & 2495454 & 2018-09-07 01:07:16 & 31.12 & 16.82333 & 6.124703 &  99.07 & 288.04 & ⋯ & 26.50333 & 29.89 & 90.11 & 28.76 & 9.203333 & 264.53 & 28.16 & 26.65333 & 0.61 & 3.46\\\\\n",
       "\t 2018090600 & 75 & C & 2495454 & 2018-09-07 01:07:16 & 31.13 & 16.81333 & 6.136746 &  98.38 & 317.54 & ⋯ & 26.47333 & 29.89 & 90.11 & 28.84 & 9.213333 & 263.56 & 28.06 & 26.66333 & 1.18 & 4.58\\\\\n",
       "\\end{tabular}\n"
      ],
      "text/markdown": [
       "\n",
       "A tibble: 6 × 38\n",
       "\n",
       "| gameId &lt;dbl&gt; | playId &lt;dbl&gt; | passResult &lt;chr&gt; | targetNflId &lt;dbl&gt; | time &lt;dttm&gt; | x &lt;dbl&gt; | y &lt;dbl&gt; | o_std &lt;dbl&gt; | o &lt;dbl&gt; | dir &lt;dbl&gt; | ⋯ ⋯ | ball_y &lt;dbl&gt; | ball_snap_x &lt;dbl&gt; | max_space_available &lt;dbl&gt; | target_x &lt;dbl&gt; | target_y &lt;dbl&gt; | target_dir &lt;dbl&gt; | qb_x &lt;dbl&gt; | qb_y &lt;dbl&gt; | qb_s &lt;dbl&gt; | qb_a &lt;dbl&gt; |\n",
       "|---|---|---|---|---|---|---|---|---|---|---|---|---|---|---|---|---|---|---|---|---|\n",
       "| 2018090600 | 75 | C | 2495454 | 2018-09-07 01:07:15 | 31.11 | 16.83333 | 6.030109 | 104.49 |  36.45 | ⋯ | 26.48333 | 29.89 | 90.11 | 28.64 | 9.193333 |  49.86 | 28.26 | 26.66333 | 0.00 | 0.00 |\n",
       "| 2018090600 | 75 | C | 2495454 | 2018-09-07 01:07:15 | 31.11 | 16.82333 | 6.030109 | 104.49 |  37.08 | ⋯ | 26.48333 | 29.89 | 90.11 | 28.65 | 9.193333 |  39.20 | 28.24 | 26.65333 | 0.00 | 0.00 |\n",
       "| 2018090600 | 75 | C | 2495454 | 2018-09-07 01:07:15 | 31.11 | 16.82333 | 6.065887 | 102.44 |  34.00 | ⋯ | 26.51333 | 29.89 | 90.11 | 28.68 | 9.193333 | 321.51 | 28.22 | 26.65333 | 0.03 | 0.82 |\n",
       "| 2018090600 | 75 | C | 2495454 | 2018-09-07 01:07:15 | 31.11 | 16.83333 | 6.111963 |  99.80 | 278.87 | ⋯ | 26.51333 | 29.89 | 90.11 | 28.72 | 9.193333 | 270.73 | 28.21 | 26.65333 | 0.22 | 2.24 |\n",
       "| 2018090600 | 75 | C | 2495454 | 2018-09-07 01:07:16 | 31.12 | 16.82333 | 6.124703 |  99.07 | 288.04 | ⋯ | 26.50333 | 29.89 | 90.11 | 28.76 | 9.203333 | 264.53 | 28.16 | 26.65333 | 0.61 | 3.46 |\n",
       "| 2018090600 | 75 | C | 2495454 | 2018-09-07 01:07:16 | 31.13 | 16.81333 | 6.136746 |  98.38 | 317.54 | ⋯ | 26.47333 | 29.89 | 90.11 | 28.84 | 9.213333 | 263.56 | 28.06 | 26.66333 | 1.18 | 4.58 |\n",
       "\n"
      ],
      "text/plain": [
       "  gameId     playId passResult targetNflId time                x     y       \n",
       "1 2018090600 75     C          2495454     2018-09-07 01:07:15 31.11 16.83333\n",
       "2 2018090600 75     C          2495454     2018-09-07 01:07:15 31.11 16.82333\n",
       "3 2018090600 75     C          2495454     2018-09-07 01:07:15 31.11 16.82333\n",
       "4 2018090600 75     C          2495454     2018-09-07 01:07:15 31.11 16.83333\n",
       "5 2018090600 75     C          2495454     2018-09-07 01:07:16 31.12 16.82333\n",
       "6 2018090600 75     C          2495454     2018-09-07 01:07:16 31.13 16.81333\n",
       "  o_std    o      dir    ⋯ ball_y   ball_snap_x max_space_available target_x\n",
       "1 6.030109 104.49  36.45 ⋯ 26.48333 29.89       90.11               28.64   \n",
       "2 6.030109 104.49  37.08 ⋯ 26.48333 29.89       90.11               28.65   \n",
       "3 6.065887 102.44  34.00 ⋯ 26.51333 29.89       90.11               28.68   \n",
       "4 6.111963  99.80 278.87 ⋯ 26.51333 29.89       90.11               28.72   \n",
       "5 6.124703  99.07 288.04 ⋯ 26.50333 29.89       90.11               28.76   \n",
       "6 6.136746  98.38 317.54 ⋯ 26.47333 29.89       90.11               28.84   \n",
       "  target_y target_dir qb_x  qb_y     qb_s qb_a\n",
       "1 9.193333  49.86     28.26 26.66333 0.00 0.00\n",
       "2 9.193333  39.20     28.24 26.65333 0.00 0.00\n",
       "3 9.193333 321.51     28.22 26.65333 0.03 0.82\n",
       "4 9.193333 270.73     28.21 26.65333 0.22 2.24\n",
       "5 9.203333 264.53     28.16 26.65333 0.61 3.46\n",
       "6 9.213333 263.56     28.06 26.66333 1.18 4.58"
      ]
     },
     "metadata": {},
     "output_type": "display_data"
    },
    {
     "data": {
      "text/html": [
       "<style>\n",
       ".list-inline {list-style: none; margin:0; padding: 0}\n",
       ".list-inline>li {display: inline-block}\n",
       ".list-inline>li:not(:last-child)::after {content: \"\\00b7\"; padding: 0 .5ex}\n",
       "</style>\n",
       "<ol class=list-inline><li>'gameId'</li><li>'playId'</li><li>'passResult'</li><li>'targetNflId'</li><li>'time'</li><li>'x'</li><li>'y'</li><li>'o_std'</li><li>'o'</li><li>'dir'</li><li>'s'</li><li>'a'</li><li>'dis'</li><li>'event'</li><li>'epa'</li><li>'frameId'</li><li>'nflId'</li><li>'displayName'</li><li>'position'</li><li>'route'</li><li>'team'</li><li>'homeTeamAbbr'</li><li>'visitorTeamAbbr'</li><li>'possessionTeam'</li><li>'isDefensivePI'</li><li>'targetedReceiver'</li><li>'team_name'</li><li>'ball_x'</li><li>'ball_y'</li><li>'ball_snap_x'</li><li>'max_space_available'</li><li>'target_x'</li><li>'target_y'</li><li>'target_dir'</li><li>'qb_x'</li><li>'qb_y'</li><li>'qb_s'</li><li>'qb_a'</li></ol>\n"
      ],
      "text/latex": [
       "\\begin{enumerate*}\n",
       "\\item 'gameId'\n",
       "\\item 'playId'\n",
       "\\item 'passResult'\n",
       "\\item 'targetNflId'\n",
       "\\item 'time'\n",
       "\\item 'x'\n",
       "\\item 'y'\n",
       "\\item 'o\\_std'\n",
       "\\item 'o'\n",
       "\\item 'dir'\n",
       "\\item 's'\n",
       "\\item 'a'\n",
       "\\item 'dis'\n",
       "\\item 'event'\n",
       "\\item 'epa'\n",
       "\\item 'frameId'\n",
       "\\item 'nflId'\n",
       "\\item 'displayName'\n",
       "\\item 'position'\n",
       "\\item 'route'\n",
       "\\item 'team'\n",
       "\\item 'homeTeamAbbr'\n",
       "\\item 'visitorTeamAbbr'\n",
       "\\item 'possessionTeam'\n",
       "\\item 'isDefensivePI'\n",
       "\\item 'targetedReceiver'\n",
       "\\item 'team\\_name'\n",
       "\\item 'ball\\_x'\n",
       "\\item 'ball\\_y'\n",
       "\\item 'ball\\_snap\\_x'\n",
       "\\item 'max\\_space\\_available'\n",
       "\\item 'target\\_x'\n",
       "\\item 'target\\_y'\n",
       "\\item 'target\\_dir'\n",
       "\\item 'qb\\_x'\n",
       "\\item 'qb\\_y'\n",
       "\\item 'qb\\_s'\n",
       "\\item 'qb\\_a'\n",
       "\\end{enumerate*}\n"
      ],
      "text/markdown": [
       "1. 'gameId'\n",
       "2. 'playId'\n",
       "3. 'passResult'\n",
       "4. 'targetNflId'\n",
       "5. 'time'\n",
       "6. 'x'\n",
       "7. 'y'\n",
       "8. 'o_std'\n",
       "9. 'o'\n",
       "10. 'dir'\n",
       "11. 's'\n",
       "12. 'a'\n",
       "13. 'dis'\n",
       "14. 'event'\n",
       "15. 'epa'\n",
       "16. 'frameId'\n",
       "17. 'nflId'\n",
       "18. 'displayName'\n",
       "19. 'position'\n",
       "20. 'route'\n",
       "21. 'team'\n",
       "22. 'homeTeamAbbr'\n",
       "23. 'visitorTeamAbbr'\n",
       "24. 'possessionTeam'\n",
       "25. 'isDefensivePI'\n",
       "26. 'targetedReceiver'\n",
       "27. 'team_name'\n",
       "28. 'ball_x'\n",
       "29. 'ball_y'\n",
       "30. 'ball_snap_x'\n",
       "31. 'max_space_available'\n",
       "32. 'target_x'\n",
       "33. 'target_y'\n",
       "34. 'target_dir'\n",
       "35. 'qb_x'\n",
       "36. 'qb_y'\n",
       "37. 'qb_s'\n",
       "38. 'qb_a'\n",
       "\n",
       "\n"
      ],
      "text/plain": [
       " [1] \"gameId\"              \"playId\"              \"passResult\"         \n",
       " [4] \"targetNflId\"         \"time\"                \"x\"                  \n",
       " [7] \"y\"                   \"o_std\"               \"o\"                  \n",
       "[10] \"dir\"                 \"s\"                   \"a\"                  \n",
       "[13] \"dis\"                 \"event\"               \"epa\"                \n",
       "[16] \"frameId\"             \"nflId\"               \"displayName\"        \n",
       "[19] \"position\"            \"route\"               \"team\"               \n",
       "[22] \"homeTeamAbbr\"        \"visitorTeamAbbr\"     \"possessionTeam\"     \n",
       "[25] \"isDefensivePI\"       \"targetedReceiver\"    \"team_name\"          \n",
       "[28] \"ball_x\"              \"ball_y\"              \"ball_snap_x\"        \n",
       "[31] \"max_space_available\" \"target_x\"            \"target_y\"           \n",
       "[34] \"target_dir\"          \"qb_x\"                \"qb_y\"               \n",
       "[37] \"qb_s\"                \"qb_a\"               "
      ]
     },
     "metadata": {},
     "output_type": "display_data"
    }
   ],
   "source": [
    "keeper_positions <- c('WR', 'RB', 'TE', 'FB', 'SS', 'FS', 'CB', \n",
    "                     'DB', 'HB', 'S')\n",
    "\n",
    "keeper_positions <- which(df_merged$position %in% keeper_positions)\n",
    "df_merged <- df_merged[keeper_positions,]\n",
    "head(df_merged)\n",
    "colnames(df_merged)"
   ]
  },
  {
   "cell_type": "code",
   "execution_count": 19,
   "metadata": {
    "execution": {
     "iopub.execute_input": "2020-12-17T16:56:19.075273Z",
     "iopub.status.busy": "2020-12-17T16:56:19.074137Z",
     "iopub.status.idle": "2020-12-17T16:56:19.087590Z",
     "shell.execute_reply": "2020-12-17T16:56:19.085556Z"
    },
    "papermill": {
     "duration": 0.044822,
     "end_time": "2020-12-17T16:56:19.087789",
     "exception": false,
     "start_time": "2020-12-17T16:56:19.042967",
     "status": "completed"
    },
    "tags": []
   },
   "outputs": [],
   "source": [
    "convert_orientation <- function(arctan){\n",
    "    arctan <- arctan %% 360\n",
    "    return(arctan)\n",
    "}"
   ]
  },
  {
   "cell_type": "code",
   "execution_count": 20,
   "metadata": {
    "execution": {
     "iopub.execute_input": "2020-12-17T16:56:19.147992Z",
     "iopub.status.busy": "2020-12-17T16:56:19.146671Z",
     "iopub.status.idle": "2020-12-17T16:56:25.319863Z",
     "shell.execute_reply": "2020-12-17T16:56:25.318679Z"
    },
    "papermill": {
     "duration": 6.204587,
     "end_time": "2020-12-17T16:56:25.320041",
     "exception": false,
     "start_time": "2020-12-17T16:56:19.115454",
     "status": "completed"
    },
    "tags": []
   },
   "outputs": [],
   "source": [
    "df_merged <- df_merged %>%\n",
    "\n",
    "mutate(\n",
    "distanceFromBall = sqrt((x-ball_x)^2 + (y-ball_y)^2), # euclidean distance from QB\n",
    "angleToBall =  if_else( team == 'football', 0, atan((y - ball_y) / (x - ball_x)) * 57.295779 ),# must convert from radians to degrees\n",
    "angleToBall2 = if_else( team == 'football', 0, atan2((y - ball_y), (x - ball_x)) * 57.295779 ),\n",
    "angleToBall360 = if_else(angleToBall2 > 90, 450-angleToBall2, 90 - angleToBall2),\n",
    "distanceFromTarget = if_else( targetedReceiver == 1, 0, sqrt((x-target_x)^2 + (y-target_y)^2) ),\n",
    "angleToTarget = if_else( team == 'football', 0, atan2((y - target_y), (x - target_x)) * 57.295779 ),\n",
    "qb_slope = convert_orientation(angleToBall2), # slope of line between QB and DB\n",
    "wr_slope = convert_orientation(angleToTarget),\n",
    "defender_o = convert_orientation(o_std * 57.295779),\n",
    "diff_qb = qb_slope - defender_o,\n",
    "diff_wr = wr_slope - defender_o,\n",
    "diff_qb = if_else(diff_qb < -180, diff_qb + 360, diff_qb), # these prevent the angles from failing when defender is behind the ball\n",
    "diff_qb = if_else(diff_qb > 180, diff_qb - 360, diff_qb), # ie angle = -180 needs to be = 180 bc thats the orientation direction\n",
    "diff_wr = if_else(diff_wr < -180, diff_wr + 360, diff_wr),\n",
    "diff_wr = if_else(diff_wr > 180, diff_wr - 360, diff_wr),\n",
    "look_at_qb = if_else(diff_qb < diff_wr, 1, 0),\n",
    "distance_from_qb = sqrt((x-qb_x)^2 + (y-qb_y)^2)\n",
    ")"
   ]
  },
  {
   "cell_type": "code",
   "execution_count": 21,
   "metadata": {
    "execution": {
     "iopub.execute_input": "2020-12-17T16:56:25.381410Z",
     "iopub.status.busy": "2020-12-17T16:56:25.380072Z",
     "iopub.status.idle": "2020-12-17T16:56:25.395634Z",
     "shell.execute_reply": "2020-12-17T16:56:25.393852Z"
    },
    "papermill": {
     "duration": 0.047218,
     "end_time": "2020-12-17T16:56:25.395829",
     "exception": false,
     "start_time": "2020-12-17T16:56:25.348611",
     "status": "completed"
    },
    "tags": []
   },
   "outputs": [
    {
     "data": {
      "text/html": [
       "<style>\n",
       ".list-inline {list-style: none; margin:0; padding: 0}\n",
       ".list-inline>li {display: inline-block}\n",
       ".list-inline>li:not(:last-child)::after {content: \"\\00b7\"; padding: 0 .5ex}\n",
       "</style>\n",
       "<ol class=list-inline><li>'gameId'</li><li>'playId'</li><li>'passResult'</li><li>'targetNflId'</li><li>'time'</li><li>'x'</li><li>'y'</li><li>'o_std'</li><li>'o'</li><li>'dir'</li><li>'s'</li><li>'a'</li><li>'dis'</li><li>'event'</li><li>'epa'</li><li>'frameId'</li><li>'nflId'</li><li>'displayName'</li><li>'position'</li><li>'route'</li><li>'team'</li><li>'homeTeamAbbr'</li><li>'visitorTeamAbbr'</li><li>'possessionTeam'</li><li>'isDefensivePI'</li><li>'targetedReceiver'</li><li>'team_name'</li><li>'ball_x'</li><li>'ball_y'</li><li>'ball_snap_x'</li><li>'max_space_available'</li><li>'target_x'</li><li>'target_y'</li><li>'target_dir'</li><li>'qb_x'</li><li>'qb_y'</li><li>'qb_s'</li><li>'qb_a'</li><li>'distanceFromBall'</li><li>'angleToBall'</li><li>'angleToBall2'</li><li>'angleToBall360'</li><li>'distanceFromTarget'</li><li>'angleToTarget'</li><li>'qb_slope'</li><li>'wr_slope'</li><li>'defender_o'</li><li>'diff_qb'</li><li>'diff_wr'</li><li>'look_at_qb'</li><li>'distance_from_qb'</li></ol>\n"
      ],
      "text/latex": [
       "\\begin{enumerate*}\n",
       "\\item 'gameId'\n",
       "\\item 'playId'\n",
       "\\item 'passResult'\n",
       "\\item 'targetNflId'\n",
       "\\item 'time'\n",
       "\\item 'x'\n",
       "\\item 'y'\n",
       "\\item 'o\\_std'\n",
       "\\item 'o'\n",
       "\\item 'dir'\n",
       "\\item 's'\n",
       "\\item 'a'\n",
       "\\item 'dis'\n",
       "\\item 'event'\n",
       "\\item 'epa'\n",
       "\\item 'frameId'\n",
       "\\item 'nflId'\n",
       "\\item 'displayName'\n",
       "\\item 'position'\n",
       "\\item 'route'\n",
       "\\item 'team'\n",
       "\\item 'homeTeamAbbr'\n",
       "\\item 'visitorTeamAbbr'\n",
       "\\item 'possessionTeam'\n",
       "\\item 'isDefensivePI'\n",
       "\\item 'targetedReceiver'\n",
       "\\item 'team\\_name'\n",
       "\\item 'ball\\_x'\n",
       "\\item 'ball\\_y'\n",
       "\\item 'ball\\_snap\\_x'\n",
       "\\item 'max\\_space\\_available'\n",
       "\\item 'target\\_x'\n",
       "\\item 'target\\_y'\n",
       "\\item 'target\\_dir'\n",
       "\\item 'qb\\_x'\n",
       "\\item 'qb\\_y'\n",
       "\\item 'qb\\_s'\n",
       "\\item 'qb\\_a'\n",
       "\\item 'distanceFromBall'\n",
       "\\item 'angleToBall'\n",
       "\\item 'angleToBall2'\n",
       "\\item 'angleToBall360'\n",
       "\\item 'distanceFromTarget'\n",
       "\\item 'angleToTarget'\n",
       "\\item 'qb\\_slope'\n",
       "\\item 'wr\\_slope'\n",
       "\\item 'defender\\_o'\n",
       "\\item 'diff\\_qb'\n",
       "\\item 'diff\\_wr'\n",
       "\\item 'look\\_at\\_qb'\n",
       "\\item 'distance\\_from\\_qb'\n",
       "\\end{enumerate*}\n"
      ],
      "text/markdown": [
       "1. 'gameId'\n",
       "2. 'playId'\n",
       "3. 'passResult'\n",
       "4. 'targetNflId'\n",
       "5. 'time'\n",
       "6. 'x'\n",
       "7. 'y'\n",
       "8. 'o_std'\n",
       "9. 'o'\n",
       "10. 'dir'\n",
       "11. 's'\n",
       "12. 'a'\n",
       "13. 'dis'\n",
       "14. 'event'\n",
       "15. 'epa'\n",
       "16. 'frameId'\n",
       "17. 'nflId'\n",
       "18. 'displayName'\n",
       "19. 'position'\n",
       "20. 'route'\n",
       "21. 'team'\n",
       "22. 'homeTeamAbbr'\n",
       "23. 'visitorTeamAbbr'\n",
       "24. 'possessionTeam'\n",
       "25. 'isDefensivePI'\n",
       "26. 'targetedReceiver'\n",
       "27. 'team_name'\n",
       "28. 'ball_x'\n",
       "29. 'ball_y'\n",
       "30. 'ball_snap_x'\n",
       "31. 'max_space_available'\n",
       "32. 'target_x'\n",
       "33. 'target_y'\n",
       "34. 'target_dir'\n",
       "35. 'qb_x'\n",
       "36. 'qb_y'\n",
       "37. 'qb_s'\n",
       "38. 'qb_a'\n",
       "39. 'distanceFromBall'\n",
       "40. 'angleToBall'\n",
       "41. 'angleToBall2'\n",
       "42. 'angleToBall360'\n",
       "43. 'distanceFromTarget'\n",
       "44. 'angleToTarget'\n",
       "45. 'qb_slope'\n",
       "46. 'wr_slope'\n",
       "47. 'defender_o'\n",
       "48. 'diff_qb'\n",
       "49. 'diff_wr'\n",
       "50. 'look_at_qb'\n",
       "51. 'distance_from_qb'\n",
       "\n",
       "\n"
      ],
      "text/plain": [
       " [1] \"gameId\"              \"playId\"              \"passResult\"         \n",
       " [4] \"targetNflId\"         \"time\"                \"x\"                  \n",
       " [7] \"y\"                   \"o_std\"               \"o\"                  \n",
       "[10] \"dir\"                 \"s\"                   \"a\"                  \n",
       "[13] \"dis\"                 \"event\"               \"epa\"                \n",
       "[16] \"frameId\"             \"nflId\"               \"displayName\"        \n",
       "[19] \"position\"            \"route\"               \"team\"               \n",
       "[22] \"homeTeamAbbr\"        \"visitorTeamAbbr\"     \"possessionTeam\"     \n",
       "[25] \"isDefensivePI\"       \"targetedReceiver\"    \"team_name\"          \n",
       "[28] \"ball_x\"              \"ball_y\"              \"ball_snap_x\"        \n",
       "[31] \"max_space_available\" \"target_x\"            \"target_y\"           \n",
       "[34] \"target_dir\"          \"qb_x\"                \"qb_y\"               \n",
       "[37] \"qb_s\"                \"qb_a\"                \"distanceFromBall\"   \n",
       "[40] \"angleToBall\"         \"angleToBall2\"        \"angleToBall360\"     \n",
       "[43] \"distanceFromTarget\"  \"angleToTarget\"       \"qb_slope\"           \n",
       "[46] \"wr_slope\"            \"defender_o\"          \"diff_qb\"            \n",
       "[49] \"diff_wr\"             \"look_at_qb\"          \"distance_from_qb\"   "
      ]
     },
     "metadata": {},
     "output_type": "display_data"
    }
   ],
   "source": [
    "colnames(df_merged)"
   ]
  },
  {
   "cell_type": "code",
   "execution_count": 22,
   "metadata": {
    "execution": {
     "iopub.execute_input": "2020-12-17T16:56:25.458461Z",
     "iopub.status.busy": "2020-12-17T16:56:25.457465Z",
     "iopub.status.idle": "2020-12-17T17:06:00.147996Z",
     "shell.execute_reply": "2020-12-17T17:06:00.144860Z"
    },
    "papermill": {
     "duration": 574.723331,
     "end_time": "2020-12-17T17:06:00.148204",
     "exception": false,
     "start_time": "2020-12-17T16:56:25.424873",
     "status": "completed"
    },
    "tags": []
   },
   "outputs": [],
   "source": [
    "coverage_id <- df_merged %>%\n",
    "\n",
    "select(gameId, playId, frameId, x, y, o_std, o, dir, s, a, event, nflId, displayName, target_dir, distanceFromBall, angleToBall,\n",
    "      angleToBall2, angleToBall360, distanceFromTarget, qb_slope, wr_slope, defender_o, diff_qb, look_at_qb, distance_from_qb,\n",
    "      possessionTeam, team_name) %>%\n",
    "\n",
    "filter(possessionTeam != team_name)\n",
    "\n",
    "coverage_id <- subset(df_merged)\n",
    "write.csv(coverage_id, 'coverage_id.csv')"
   ]
  },
  {
   "cell_type": "code",
   "execution_count": 23,
   "metadata": {
    "execution": {
     "iopub.execute_input": "2020-12-17T17:06:00.235905Z",
     "iopub.status.busy": "2020-12-17T17:06:00.233482Z",
     "iopub.status.idle": "2020-12-17T17:06:03.285239Z",
     "shell.execute_reply": "2020-12-17T17:06:03.283221Z"
    },
    "papermill": {
     "duration": 3.10381,
     "end_time": "2020-12-17T17:06:03.285363",
     "exception": false,
     "start_time": "2020-12-17T17:06:00.181553",
     "status": "completed"
    },
    "tags": []
   },
   "outputs": [
    {
     "data": {
      "text/html": [
       "<table class=\"dataframe\">\n",
       "<caption>A tibble: 6 × 37</caption>\n",
       "<thead>\n",
       "\t<tr><th scope=col>gameId</th><th scope=col>playId</th><th scope=col>passResult</th><th scope=col>targetNflId</th><th scope=col>x</th><th scope=col>y</th><th scope=col>o</th><th scope=col>dir</th><th scope=col>s</th><th scope=col>a</th><th scope=col>⋯</th><th scope=col>target_y</th><th scope=col>qb_x</th><th scope=col>qb_y</th><th scope=col>qb_s</th><th scope=col>qb_a</th><th scope=col>distanceFromBall</th><th scope=col>distanceFromTarget</th><th scope=col>angleToTarget</th><th scope=col>diff_wr</th><th scope=col>distance_from_qb</th></tr>\n",
       "\t<tr><th scope=col>&lt;dbl&gt;</th><th scope=col>&lt;dbl&gt;</th><th scope=col>&lt;chr&gt;</th><th scope=col>&lt;dbl&gt;</th><th scope=col>&lt;dbl&gt;</th><th scope=col>&lt;dbl&gt;</th><th scope=col>&lt;dbl&gt;</th><th scope=col>&lt;dbl&gt;</th><th scope=col>&lt;dbl&gt;</th><th scope=col>&lt;dbl&gt;</th><th scope=col>⋯</th><th scope=col>&lt;dbl&gt;</th><th scope=col>&lt;dbl&gt;</th><th scope=col>&lt;dbl&gt;</th><th scope=col>&lt;dbl&gt;</th><th scope=col>&lt;dbl&gt;</th><th scope=col>&lt;dbl&gt;</th><th scope=col>&lt;dbl&gt;</th><th scope=col>&lt;dbl&gt;</th><th scope=col>&lt;dbl&gt;</th><th scope=col>&lt;dbl&gt;</th></tr>\n",
       "</thead>\n",
       "<tbody>\n",
       "\t<tr><td>2018090600</td><td>75</td><td>C</td><td>2495454</td><td>31.11</td><td>16.83333</td><td>104.49</td><td> 36.45</td><td>0.01</td><td>0.01</td><td>⋯</td><td>9.193333</td><td>28.26</td><td>26.66333</td><td>0.00</td><td>0.00</td><td>9.726813</td><td>8.029352</td><td>72.08406</td><td>86.58425</td><td>10.23481</td></tr>\n",
       "\t<tr><td>2018090600</td><td>75</td><td>C</td><td>2495454</td><td>31.11</td><td>16.82333</td><td>104.49</td><td> 37.08</td><td>0.01</td><td>0.01</td><td>⋯</td><td>9.193333</td><td>28.24</td><td>26.65333</td><td>0.00</td><td>0.00</td><td>9.736735</td><td>8.016764</td><td>72.13008</td><td>86.63027</td><td>10.24040</td></tr>\n",
       "\t<tr><td>2018090600</td><td>75</td><td>C</td><td>2495454</td><td>31.11</td><td>16.82333</td><td>102.44</td><td> 34.00</td><td>0.00</td><td>0.01</td><td>⋯</td><td>9.193333</td><td>28.22</td><td>26.65333</td><td>0.03</td><td>0.82</td><td>9.762797</td><td>8.007609</td><td>72.33438</td><td>84.78463</td><td>10.24602</td></tr>\n",
       "\t<tr><td>2018090600</td><td>75</td><td>C</td><td>2495454</td><td>31.11</td><td>16.83333</td><td> 99.80</td><td>278.87</td><td>0.01</td><td>0.18</td><td>⋯</td><td>9.193333</td><td>28.21</td><td>26.65333</td><td>0.22</td><td>2.24</td><td>9.814622</td><td>8.005105</td><td>72.62890</td><td>82.43923</td><td>10.23926</td></tr>\n",
       "\t<tr><td>2018090600</td><td>75</td><td>C</td><td>2495454</td><td>31.12</td><td>16.82333</td><td> 99.07</td><td>288.04</td><td>0.07</td><td>0.41</td><td>⋯</td><td>9.203333</td><td>28.16</td><td>26.65333</td><td>0.61</td><td>3.46</td><td>9.884452</td><td>7.977092</td><td>72.79166</td><td>81.87201</td><td>10.26599</td></tr>\n",
       "\t<tr><td>2018090600</td><td>75</td><td>C</td><td>2495454</td><td>31.13</td><td>16.81333</td><td> 98.38</td><td>317.54</td><td>0.14</td><td>0.61</td><td>⋯</td><td>9.213333</td><td>28.06</td><td>26.66333</td><td>1.18</td><td>4.58</td><td>9.927724</td><td>7.937512</td><td>73.23162</td><td>81.62199</td><td>10.31733</td></tr>\n",
       "</tbody>\n",
       "</table>\n"
      ],
      "text/latex": [
       "A tibble: 6 × 37\n",
       "\\begin{tabular}{lllllllllllllllllllll}\n",
       " gameId & playId & passResult & targetNflId & x & y & o & dir & s & a & ⋯ & target\\_y & qb\\_x & qb\\_y & qb\\_s & qb\\_a & distanceFromBall & distanceFromTarget & angleToTarget & diff\\_wr & distance\\_from\\_qb\\\\\n",
       " <dbl> & <dbl> & <chr> & <dbl> & <dbl> & <dbl> & <dbl> & <dbl> & <dbl> & <dbl> & ⋯ & <dbl> & <dbl> & <dbl> & <dbl> & <dbl> & <dbl> & <dbl> & <dbl> & <dbl> & <dbl>\\\\\n",
       "\\hline\n",
       "\t 2018090600 & 75 & C & 2495454 & 31.11 & 16.83333 & 104.49 &  36.45 & 0.01 & 0.01 & ⋯ & 9.193333 & 28.26 & 26.66333 & 0.00 & 0.00 & 9.726813 & 8.029352 & 72.08406 & 86.58425 & 10.23481\\\\\n",
       "\t 2018090600 & 75 & C & 2495454 & 31.11 & 16.82333 & 104.49 &  37.08 & 0.01 & 0.01 & ⋯ & 9.193333 & 28.24 & 26.65333 & 0.00 & 0.00 & 9.736735 & 8.016764 & 72.13008 & 86.63027 & 10.24040\\\\\n",
       "\t 2018090600 & 75 & C & 2495454 & 31.11 & 16.82333 & 102.44 &  34.00 & 0.00 & 0.01 & ⋯ & 9.193333 & 28.22 & 26.65333 & 0.03 & 0.82 & 9.762797 & 8.007609 & 72.33438 & 84.78463 & 10.24602\\\\\n",
       "\t 2018090600 & 75 & C & 2495454 & 31.11 & 16.83333 &  99.80 & 278.87 & 0.01 & 0.18 & ⋯ & 9.193333 & 28.21 & 26.65333 & 0.22 & 2.24 & 9.814622 & 8.005105 & 72.62890 & 82.43923 & 10.23926\\\\\n",
       "\t 2018090600 & 75 & C & 2495454 & 31.12 & 16.82333 &  99.07 & 288.04 & 0.07 & 0.41 & ⋯ & 9.203333 & 28.16 & 26.65333 & 0.61 & 3.46 & 9.884452 & 7.977092 & 72.79166 & 81.87201 & 10.26599\\\\\n",
       "\t 2018090600 & 75 & C & 2495454 & 31.13 & 16.81333 &  98.38 & 317.54 & 0.14 & 0.61 & ⋯ & 9.213333 & 28.06 & 26.66333 & 1.18 & 4.58 & 9.927724 & 7.937512 & 73.23162 & 81.62199 & 10.31733\\\\\n",
       "\\end{tabular}\n"
      ],
      "text/markdown": [
       "\n",
       "A tibble: 6 × 37\n",
       "\n",
       "| gameId &lt;dbl&gt; | playId &lt;dbl&gt; | passResult &lt;chr&gt; | targetNflId &lt;dbl&gt; | x &lt;dbl&gt; | y &lt;dbl&gt; | o &lt;dbl&gt; | dir &lt;dbl&gt; | s &lt;dbl&gt; | a &lt;dbl&gt; | ⋯ ⋯ | target_y &lt;dbl&gt; | qb_x &lt;dbl&gt; | qb_y &lt;dbl&gt; | qb_s &lt;dbl&gt; | qb_a &lt;dbl&gt; | distanceFromBall &lt;dbl&gt; | distanceFromTarget &lt;dbl&gt; | angleToTarget &lt;dbl&gt; | diff_wr &lt;dbl&gt; | distance_from_qb &lt;dbl&gt; |\n",
       "|---|---|---|---|---|---|---|---|---|---|---|---|---|---|---|---|---|---|---|---|---|\n",
       "| 2018090600 | 75 | C | 2495454 | 31.11 | 16.83333 | 104.49 |  36.45 | 0.01 | 0.01 | ⋯ | 9.193333 | 28.26 | 26.66333 | 0.00 | 0.00 | 9.726813 | 8.029352 | 72.08406 | 86.58425 | 10.23481 |\n",
       "| 2018090600 | 75 | C | 2495454 | 31.11 | 16.82333 | 104.49 |  37.08 | 0.01 | 0.01 | ⋯ | 9.193333 | 28.24 | 26.65333 | 0.00 | 0.00 | 9.736735 | 8.016764 | 72.13008 | 86.63027 | 10.24040 |\n",
       "| 2018090600 | 75 | C | 2495454 | 31.11 | 16.82333 | 102.44 |  34.00 | 0.00 | 0.01 | ⋯ | 9.193333 | 28.22 | 26.65333 | 0.03 | 0.82 | 9.762797 | 8.007609 | 72.33438 | 84.78463 | 10.24602 |\n",
       "| 2018090600 | 75 | C | 2495454 | 31.11 | 16.83333 |  99.80 | 278.87 | 0.01 | 0.18 | ⋯ | 9.193333 | 28.21 | 26.65333 | 0.22 | 2.24 | 9.814622 | 8.005105 | 72.62890 | 82.43923 | 10.23926 |\n",
       "| 2018090600 | 75 | C | 2495454 | 31.12 | 16.82333 |  99.07 | 288.04 | 0.07 | 0.41 | ⋯ | 9.203333 | 28.16 | 26.65333 | 0.61 | 3.46 | 9.884452 | 7.977092 | 72.79166 | 81.87201 | 10.26599 |\n",
       "| 2018090600 | 75 | C | 2495454 | 31.13 | 16.81333 |  98.38 | 317.54 | 0.14 | 0.61 | ⋯ | 9.213333 | 28.06 | 26.66333 | 1.18 | 4.58 | 9.927724 | 7.937512 | 73.23162 | 81.62199 | 10.31733 |\n",
       "\n"
      ],
      "text/plain": [
       "  gameId     playId passResult targetNflId x     y        o      dir    s   \n",
       "1 2018090600 75     C          2495454     31.11 16.83333 104.49  36.45 0.01\n",
       "2 2018090600 75     C          2495454     31.11 16.82333 104.49  37.08 0.01\n",
       "3 2018090600 75     C          2495454     31.11 16.82333 102.44  34.00 0.00\n",
       "4 2018090600 75     C          2495454     31.11 16.83333  99.80 278.87 0.01\n",
       "5 2018090600 75     C          2495454     31.12 16.82333  99.07 288.04 0.07\n",
       "6 2018090600 75     C          2495454     31.13 16.81333  98.38 317.54 0.14\n",
       "  a    ⋯ target_y qb_x  qb_y     qb_s qb_a distanceFromBall distanceFromTarget\n",
       "1 0.01 ⋯ 9.193333 28.26 26.66333 0.00 0.00 9.726813         8.029352          \n",
       "2 0.01 ⋯ 9.193333 28.24 26.65333 0.00 0.00 9.736735         8.016764          \n",
       "3 0.01 ⋯ 9.193333 28.22 26.65333 0.03 0.82 9.762797         8.007609          \n",
       "4 0.18 ⋯ 9.193333 28.21 26.65333 0.22 2.24 9.814622         8.005105          \n",
       "5 0.41 ⋯ 9.203333 28.16 26.65333 0.61 3.46 9.884452         7.977092          \n",
       "6 0.61 ⋯ 9.213333 28.06 26.66333 1.18 4.58 9.927724         7.937512          \n",
       "  angleToTarget diff_wr  distance_from_qb\n",
       "1 72.08406      86.58425 10.23481        \n",
       "2 72.13008      86.63027 10.24040        \n",
       "3 72.33438      84.78463 10.24602        \n",
       "4 72.62890      82.43923 10.23926        \n",
       "5 72.79166      81.87201 10.26599        \n",
       "6 73.23162      81.62199 10.31733        "
      ]
     },
     "metadata": {},
     "output_type": "display_data"
    },
    {
     "data": {
      "text/html": [
       "<style>\n",
       ".list-inline {list-style: none; margin:0; padding: 0}\n",
       ".list-inline>li {display: inline-block}\n",
       ".list-inline>li:not(:last-child)::after {content: \"\\00b7\"; padding: 0 .5ex}\n",
       "</style>\n",
       "<ol class=list-inline><li>'gameId'</li><li>'playId'</li><li>'passResult'</li><li>'targetNflId'</li><li>'x'</li><li>'y'</li><li>'o'</li><li>'dir'</li><li>'s'</li><li>'a'</li><li>'event'</li><li>'epa'</li><li>'frameId'</li><li>'nflId'</li><li>'displayName'</li><li>'position'</li><li>'route'</li><li>'team'</li><li>'possessionTeam'</li><li>'isDefensivePI'</li><li>'targetedReceiver'</li><li>'team_name'</li><li>'ball_x'</li><li>'ball_y'</li><li>'ball_snap_x'</li><li>'max_space_available'</li><li>'target_x'</li><li>'target_y'</li><li>'qb_x'</li><li>'qb_y'</li><li>'qb_s'</li><li>'qb_a'</li><li>'distanceFromBall'</li><li>'distanceFromTarget'</li><li>'angleToTarget'</li><li>'diff_wr'</li><li>'distance_from_qb'</li></ol>\n"
      ],
      "text/latex": [
       "\\begin{enumerate*}\n",
       "\\item 'gameId'\n",
       "\\item 'playId'\n",
       "\\item 'passResult'\n",
       "\\item 'targetNflId'\n",
       "\\item 'x'\n",
       "\\item 'y'\n",
       "\\item 'o'\n",
       "\\item 'dir'\n",
       "\\item 's'\n",
       "\\item 'a'\n",
       "\\item 'event'\n",
       "\\item 'epa'\n",
       "\\item 'frameId'\n",
       "\\item 'nflId'\n",
       "\\item 'displayName'\n",
       "\\item 'position'\n",
       "\\item 'route'\n",
       "\\item 'team'\n",
       "\\item 'possessionTeam'\n",
       "\\item 'isDefensivePI'\n",
       "\\item 'targetedReceiver'\n",
       "\\item 'team\\_name'\n",
       "\\item 'ball\\_x'\n",
       "\\item 'ball\\_y'\n",
       "\\item 'ball\\_snap\\_x'\n",
       "\\item 'max\\_space\\_available'\n",
       "\\item 'target\\_x'\n",
       "\\item 'target\\_y'\n",
       "\\item 'qb\\_x'\n",
       "\\item 'qb\\_y'\n",
       "\\item 'qb\\_s'\n",
       "\\item 'qb\\_a'\n",
       "\\item 'distanceFromBall'\n",
       "\\item 'distanceFromTarget'\n",
       "\\item 'angleToTarget'\n",
       "\\item 'diff\\_wr'\n",
       "\\item 'distance\\_from\\_qb'\n",
       "\\end{enumerate*}\n"
      ],
      "text/markdown": [
       "1. 'gameId'\n",
       "2. 'playId'\n",
       "3. 'passResult'\n",
       "4. 'targetNflId'\n",
       "5. 'x'\n",
       "6. 'y'\n",
       "7. 'o'\n",
       "8. 'dir'\n",
       "9. 's'\n",
       "10. 'a'\n",
       "11. 'event'\n",
       "12. 'epa'\n",
       "13. 'frameId'\n",
       "14. 'nflId'\n",
       "15. 'displayName'\n",
       "16. 'position'\n",
       "17. 'route'\n",
       "18. 'team'\n",
       "19. 'possessionTeam'\n",
       "20. 'isDefensivePI'\n",
       "21. 'targetedReceiver'\n",
       "22. 'team_name'\n",
       "23. 'ball_x'\n",
       "24. 'ball_y'\n",
       "25. 'ball_snap_x'\n",
       "26. 'max_space_available'\n",
       "27. 'target_x'\n",
       "28. 'target_y'\n",
       "29. 'qb_x'\n",
       "30. 'qb_y'\n",
       "31. 'qb_s'\n",
       "32. 'qb_a'\n",
       "33. 'distanceFromBall'\n",
       "34. 'distanceFromTarget'\n",
       "35. 'angleToTarget'\n",
       "36. 'diff_wr'\n",
       "37. 'distance_from_qb'\n",
       "\n",
       "\n"
      ],
      "text/plain": [
       " [1] \"gameId\"              \"playId\"              \"passResult\"         \n",
       " [4] \"targetNflId\"         \"x\"                   \"y\"                  \n",
       " [7] \"o\"                   \"dir\"                 \"s\"                  \n",
       "[10] \"a\"                   \"event\"               \"epa\"                \n",
       "[13] \"frameId\"             \"nflId\"               \"displayName\"        \n",
       "[16] \"position\"            \"route\"               \"team\"               \n",
       "[19] \"possessionTeam\"      \"isDefensivePI\"       \"targetedReceiver\"   \n",
       "[22] \"team_name\"           \"ball_x\"              \"ball_y\"             \n",
       "[25] \"ball_snap_x\"         \"max_space_available\" \"target_x\"           \n",
       "[28] \"target_y\"            \"qb_x\"                \"qb_y\"               \n",
       "[31] \"qb_s\"                \"qb_a\"                \"distanceFromBall\"   \n",
       "[34] \"distanceFromTarget\"  \"angleToTarget\"       \"diff_wr\"            \n",
       "[37] \"distance_from_qb\"   "
      ]
     },
     "metadata": {},
     "output_type": "display_data"
    },
    {
     "data": {
      "text/html": [
       "7048202"
      ],
      "text/latex": [
       "7048202"
      ],
      "text/markdown": [
       "7048202"
      ],
      "text/plain": [
       "[1] 7048202"
      ]
     },
     "metadata": {},
     "output_type": "display_data"
    }
   ],
   "source": [
    "df_merged <- subset(df_merged, select = -c(time, o_std, dis, homeTeamAbbr, visitorTeamAbbr,\n",
    "                                          target_dir, angleToBall, angleToBall2, angleToBall360,\n",
    "                                           qb_slope, wr_slope, defender_o, diff_qb, look_at_qb))\n",
    "head(df_merged)\n",
    "colnames(df_merged)\n",
    "nrow(df_merged)"
   ]
  },
  {
   "cell_type": "code",
   "execution_count": 24,
   "metadata": {
    "execution": {
     "iopub.execute_input": "2020-12-17T17:06:03.355240Z",
     "iopub.status.busy": "2020-12-17T17:06:03.353233Z",
     "iopub.status.idle": "2020-12-17T17:11:56.825765Z",
     "shell.execute_reply": "2020-12-17T17:11:56.824578Z"
    },
    "papermill": {
     "duration": 353.50793,
     "end_time": "2020-12-17T17:11:56.825981",
     "exception": false,
     "start_time": "2020-12-17T17:06:03.318051",
     "status": "completed"
    },
    "tags": []
   },
   "outputs": [],
   "source": [
    "write.csv(df_merged, 'df_merged.csv')"
   ]
  },
  {
   "cell_type": "markdown",
   "metadata": {
    "papermill": {
     "duration": 0.032049,
     "end_time": "2020-12-17T17:11:56.913328",
     "exception": false,
     "start_time": "2020-12-17T17:11:56.881279",
     "status": "completed"
    },
    "tags": []
   },
   "source": [
    "With output from this I can join back to the merged_df by gameId, frameId, and the nflId. use one game as a sample to ensure you get the merge right. The xComp model can be made on all instances of the pass arriving.\n",
    "\n",
    "Using all receivers for the model training can create too much disparity for 0's. So, only train on targeted receivers. The logic here is that IF the ball were to be thrown to any receiver at x instance in time what is the xComp?\n",
    "\n",
    "So, create the whole df then filter by event to fit the model.\n",
    "\n",
    "Get features at all instances for consistency and ease of calculation later."
   ]
  },
  {
   "cell_type": "code",
   "execution_count": 25,
   "metadata": {
    "execution": {
     "iopub.execute_input": "2020-12-17T17:11:56.982317Z",
     "iopub.status.busy": "2020-12-17T17:11:56.981574Z",
     "iopub.status.idle": "2020-12-17T17:11:56.991132Z",
     "shell.execute_reply": "2020-12-17T17:11:56.989695Z"
    },
    "papermill": {
     "duration": 0.046843,
     "end_time": "2020-12-17T17:11:56.991267",
     "exception": false,
     "start_time": "2020-12-17T17:11:56.944424",
     "status": "completed"
    },
    "tags": []
   },
   "outputs": [],
   "source": [
    "# write.csv(df_merged, 'full_tracking_df.csv')"
   ]
  }
 ],
 "metadata": {
  "kernelspec": {
   "display_name": "R",
   "language": "R",
   "name": "ir"
  },
  "language_info": {
   "codemirror_mode": "r",
   "file_extension": ".r",
   "mimetype": "text/x-r-source",
   "name": "R",
   "pygments_lexer": "r",
   "version": "3.6.3"
  },
  "papermill": {
   "duration": 1245.794627,
   "end_time": "2020-12-17T17:11:58.481622",
   "environment_variables": {},
   "exception": null,
   "input_path": "__notebook__.ipynb",
   "output_path": "__notebook__.ipynb",
   "parameters": {},
   "start_time": "2020-12-17T16:51:12.686995",
   "version": "2.1.3"
  }
 },
 "nbformat": 4,
 "nbformat_minor": 4
}
