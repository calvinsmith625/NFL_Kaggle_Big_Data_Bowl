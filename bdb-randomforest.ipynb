{
 "cells": [
  {
   "cell_type": "code",
   "execution_count": 1,
   "metadata": {
    "_cell_guid": "b1076dfc-b9ad-4769-8c92-a6c4dae69d19",
    "_uuid": "8f2839f25d086af736a60e9eeb907d3b93b6e0e5",
    "execution": {
     "iopub.execute_input": "2020-12-17T16:25:36.905373Z",
     "iopub.status.busy": "2020-12-17T16:25:36.904564Z",
     "iopub.status.idle": "2020-12-17T16:25:38.128595Z",
     "shell.execute_reply": "2020-12-17T16:25:38.127948Z"
    },
    "papermill": {
     "duration": 1.247192,
     "end_time": "2020-12-17T16:25:38.128740",
     "exception": false,
     "start_time": "2020-12-17T16:25:36.881548",
     "status": "completed"
    },
    "tags": []
   },
   "outputs": [],
   "source": [
    "import numpy as np \n",
    "import pandas as pd\n",
    "from sklearn.model_selection import cross_val_score, GridSearchCV, cross_validate, train_test_split\n",
    "from sklearn.metrics import accuracy_score, confusion_matrix, f1_score, precision_score, recall_score, plot_precision_recall_curve, plot_roc_curve\n",
    "from sklearn.ensemble import RandomForestClassifier"
   ]
  },
  {
   "cell_type": "code",
   "execution_count": 2,
   "metadata": {
    "execution": {
     "iopub.execute_input": "2020-12-17T16:25:38.174231Z",
     "iopub.status.busy": "2020-12-17T16:25:38.173500Z",
     "iopub.status.idle": "2020-12-17T16:26:20.914028Z",
     "shell.execute_reply": "2020-12-17T16:26:20.913500Z"
    },
    "papermill": {
     "duration": 42.771472,
     "end_time": "2020-12-17T16:26:20.914170",
     "exception": false,
     "start_time": "2020-12-17T16:25:38.142698",
     "status": "completed"
    },
    "tags": []
   },
   "outputs": [
    {
     "name": "stderr",
     "output_type": "stream",
     "text": [
      "/opt/conda/lib/python3.7/site-packages/IPython/core/interactiveshell.py:3063: DtypeWarning: Columns (32) have mixed types.Specify dtype option on import or set low_memory=False.\n",
      "  interactivity=interactivity, compiler=compiler, result=result)\n"
     ]
    },
    {
     "data": {
      "text/plain": [
       "Index(['gameId', 'playId', 'frameId', 'off_nflId', 'nflId', 'displayName',\n",
       "       'dist_from_off', 'nearest_is_target', 'distanceFromBall.x',\n",
       "       'off_distanceFromBall', 'ball_behind_db', 'diff_in_speed',\n",
       "       'diff_in_acceleration', 'diff_in_dir', 'receiver_behind_db',\n",
       "       'receiver_distance_from_qb', 'num_of_receivers_nearest',\n",
       "       'dist_rate_of_change', 'his_off_most_open', 'passResult', 'targetNflId',\n",
       "       'x', 'y', 'o', 'dir', 's', 'a', 'event', 'epa', 'position', 'route',\n",
       "       'isDefensivePI', 'targetedReceiver', 'team_name', 'ball_x', 'ball_y',\n",
       "       'ball_snap_x', 'max_space_available', 'target_x', 'target_y', 'qb_x',\n",
       "       'qb_y', 'qb_s', 'qb_a', 'distanceFromBall.y', 'distanceFromTarget',\n",
       "       'distance_from_qb'],\n",
       "      dtype='object')"
      ]
     },
     "execution_count": 2,
     "metadata": {},
     "output_type": "execute_result"
    }
   ],
   "source": [
    "data = pd.read_csv('../input/merge-clean-data/full_tracking_df.csv')\n",
    "data.drop('Unnamed: 0', axis=1, inplace=True)\n",
    "data.head()\n",
    "data.columns"
   ]
  },
  {
   "cell_type": "code",
   "execution_count": 3,
   "metadata": {
    "execution": {
     "iopub.execute_input": "2020-12-17T16:26:20.954526Z",
     "iopub.status.busy": "2020-12-17T16:26:20.952797Z",
     "iopub.status.idle": "2020-12-17T16:26:24.420543Z",
     "shell.execute_reply": "2020-12-17T16:26:24.419820Z"
    },
    "papermill": {
     "duration": 3.492149,
     "end_time": "2020-12-17T16:26:24.420660",
     "exception": false,
     "start_time": "2020-12-17T16:26:20.928511",
     "status": "completed"
    },
    "tags": []
   },
   "outputs": [
    {
     "data": {
      "text/html": [
       "<div>\n",
       "<style scoped>\n",
       "    .dataframe tbody tr th:only-of-type {\n",
       "        vertical-align: middle;\n",
       "    }\n",
       "\n",
       "    .dataframe tbody tr th {\n",
       "        vertical-align: top;\n",
       "    }\n",
       "\n",
       "    .dataframe thead th {\n",
       "        text-align: right;\n",
       "    }\n",
       "</style>\n",
       "<table border=\"1\" class=\"dataframe\">\n",
       "  <thead>\n",
       "    <tr style=\"text-align: right;\">\n",
       "      <th></th>\n",
       "      <th>index</th>\n",
       "      <th>passResult</th>\n",
       "      <th>nearest_is_target</th>\n",
       "      <th>targetedReceiver</th>\n",
       "      <th>isDefensivePI</th>\n",
       "      <th>dist_from_off</th>\n",
       "      <th>qb_s</th>\n",
       "      <th>qb_a</th>\n",
       "      <th>max_space_available</th>\n",
       "      <th>distance_from_qb</th>\n",
       "      <th>...</th>\n",
       "      <th>his_off_most_open</th>\n",
       "      <th>receiver_behind_db</th>\n",
       "      <th>dist_rate_of_change</th>\n",
       "      <th>gameId</th>\n",
       "      <th>playId</th>\n",
       "      <th>frameId</th>\n",
       "      <th>off_nflId</th>\n",
       "      <th>nflId</th>\n",
       "      <th>displayName</th>\n",
       "      <th>event</th>\n",
       "    </tr>\n",
       "  </thead>\n",
       "  <tbody>\n",
       "    <tr>\n",
       "      <th>0</th>\n",
       "      <td>0</td>\n",
       "      <td>C</td>\n",
       "      <td>0.0</td>\n",
       "      <td>0.0</td>\n",
       "      <td>False</td>\n",
       "      <td>1.920339</td>\n",
       "      <td>0.00</td>\n",
       "      <td>0.00</td>\n",
       "      <td>90.11</td>\n",
       "      <td>10.234813</td>\n",
       "      <td>...</td>\n",
       "      <td>0.0</td>\n",
       "      <td>1.89</td>\n",
       "      <td>0.000000</td>\n",
       "      <td>2018090600</td>\n",
       "      <td>75</td>\n",
       "      <td>11</td>\n",
       "      <td>2533040</td>\n",
       "      <td>79848.0</td>\n",
       "      <td>Malcolm Jenkins</td>\n",
       "      <td>ball_snap</td>\n",
       "    </tr>\n",
       "    <tr>\n",
       "      <th>1</th>\n",
       "      <td>1</td>\n",
       "      <td>C</td>\n",
       "      <td>0.0</td>\n",
       "      <td>0.0</td>\n",
       "      <td>False</td>\n",
       "      <td>1.922134</td>\n",
       "      <td>0.00</td>\n",
       "      <td>0.00</td>\n",
       "      <td>90.11</td>\n",
       "      <td>10.240400</td>\n",
       "      <td>...</td>\n",
       "      <td>0.0</td>\n",
       "      <td>1.89</td>\n",
       "      <td>0.000000</td>\n",
       "      <td>2018090600</td>\n",
       "      <td>75</td>\n",
       "      <td>12</td>\n",
       "      <td>2533040</td>\n",
       "      <td>79848.0</td>\n",
       "      <td>Malcolm Jenkins</td>\n",
       "      <td>None</td>\n",
       "    </tr>\n",
       "    <tr>\n",
       "      <th>2</th>\n",
       "      <td>2</td>\n",
       "      <td>C</td>\n",
       "      <td>0.0</td>\n",
       "      <td>0.0</td>\n",
       "      <td>False</td>\n",
       "      <td>1.912302</td>\n",
       "      <td>0.03</td>\n",
       "      <td>0.82</td>\n",
       "      <td>90.11</td>\n",
       "      <td>10.246024</td>\n",
       "      <td>...</td>\n",
       "      <td>0.0</td>\n",
       "      <td>1.88</td>\n",
       "      <td>0.000000</td>\n",
       "      <td>2018090600</td>\n",
       "      <td>75</td>\n",
       "      <td>13</td>\n",
       "      <td>2533040</td>\n",
       "      <td>79848.0</td>\n",
       "      <td>Malcolm Jenkins</td>\n",
       "      <td>None</td>\n",
       "    </tr>\n",
       "    <tr>\n",
       "      <th>3</th>\n",
       "      <td>3</td>\n",
       "      <td>C</td>\n",
       "      <td>0.0</td>\n",
       "      <td>0.0</td>\n",
       "      <td>False</td>\n",
       "      <td>1.908743</td>\n",
       "      <td>0.22</td>\n",
       "      <td>2.24</td>\n",
       "      <td>90.11</td>\n",
       "      <td>10.239258</td>\n",
       "      <td>...</td>\n",
       "      <td>0.0</td>\n",
       "      <td>1.88</td>\n",
       "      <td>-0.006038</td>\n",
       "      <td>2018090600</td>\n",
       "      <td>75</td>\n",
       "      <td>14</td>\n",
       "      <td>2533040</td>\n",
       "      <td>79848.0</td>\n",
       "      <td>Malcolm Jenkins</td>\n",
       "      <td>None</td>\n",
       "    </tr>\n",
       "    <tr>\n",
       "      <th>4</th>\n",
       "      <td>4</td>\n",
       "      <td>C</td>\n",
       "      <td>0.0</td>\n",
       "      <td>0.0</td>\n",
       "      <td>False</td>\n",
       "      <td>1.889047</td>\n",
       "      <td>0.61</td>\n",
       "      <td>3.46</td>\n",
       "      <td>90.11</td>\n",
       "      <td>10.265988</td>\n",
       "      <td>...</td>\n",
       "      <td>0.0</td>\n",
       "      <td>1.86</td>\n",
       "      <td>-0.017214</td>\n",
       "      <td>2018090600</td>\n",
       "      <td>75</td>\n",
       "      <td>15</td>\n",
       "      <td>2533040</td>\n",
       "      <td>79848.0</td>\n",
       "      <td>Malcolm Jenkins</td>\n",
       "      <td>None</td>\n",
       "    </tr>\n",
       "  </tbody>\n",
       "</table>\n",
       "<p>5 rows × 25 columns</p>\n",
       "</div>"
      ],
      "text/plain": [
       "   index passResult  nearest_is_target  targetedReceiver isDefensivePI  \\\n",
       "0      0          C                0.0               0.0         False   \n",
       "1      1          C                0.0               0.0         False   \n",
       "2      2          C                0.0               0.0         False   \n",
       "3      3          C                0.0               0.0         False   \n",
       "4      4          C                0.0               0.0         False   \n",
       "\n",
       "   dist_from_off  qb_s  qb_a  max_space_available  distance_from_qb  ...  \\\n",
       "0       1.920339  0.00  0.00                90.11         10.234813  ...   \n",
       "1       1.922134  0.00  0.00                90.11         10.240400  ...   \n",
       "2       1.912302  0.03  0.82                90.11         10.246024  ...   \n",
       "3       1.908743  0.22  2.24                90.11         10.239258  ...   \n",
       "4       1.889047  0.61  3.46                90.11         10.265988  ...   \n",
       "\n",
       "   his_off_most_open  receiver_behind_db  dist_rate_of_change      gameId  \\\n",
       "0                0.0                1.89             0.000000  2018090600   \n",
       "1                0.0                1.89             0.000000  2018090600   \n",
       "2                0.0                1.88             0.000000  2018090600   \n",
       "3                0.0                1.88            -0.006038  2018090600   \n",
       "4                0.0                1.86            -0.017214  2018090600   \n",
       "\n",
       "   playId  frameId  off_nflId    nflId      displayName      event  \n",
       "0      75       11    2533040  79848.0  Malcolm Jenkins  ball_snap  \n",
       "1      75       12    2533040  79848.0  Malcolm Jenkins       None  \n",
       "2      75       13    2533040  79848.0  Malcolm Jenkins       None  \n",
       "3      75       14    2533040  79848.0  Malcolm Jenkins       None  \n",
       "4      75       15    2533040  79848.0  Malcolm Jenkins       None  \n",
       "\n",
       "[5 rows x 25 columns]"
      ]
     },
     "execution_count": 3,
     "metadata": {},
     "output_type": "execute_result"
    }
   ],
   "source": [
    "data = data[['passResult', 'nearest_is_target', 'targetedReceiver', 'isDefensivePI', 'dist_from_off',\n",
    "             'qb_s', 'qb_a', 'max_space_available', 'distance_from_qb', 'receiver_distance_from_qb',\n",
    "             'ball_behind_db', 'diff_in_speed', 'diff_in_acceleration', 'diff_in_dir',\n",
    "             'his_off_most_open', 'receiver_behind_db', 'dist_rate_of_change',\n",
    "             'gameId', 'playId', 'frameId', 'off_nflId', 'nflId', 'displayName', 'event']]\n",
    "data = data[data.isDefensivePI != True]\n",
    "\n",
    "# holding_data.to_csv('holding_data.csv')\n",
    "\n",
    "data.dropna(inplace=True)\n",
    "data.reset_index(inplace=True)\n",
    "\n",
    "holding_data = data[['gameId', 'playId', 'frameId', 'off_nflId', 'nflId', 'displayName', 'event']]\n",
    "\n",
    "data.head()"
   ]
  },
  {
   "cell_type": "code",
   "execution_count": 4,
   "metadata": {
    "execution": {
     "iopub.execute_input": "2020-12-17T16:26:24.932788Z",
     "iopub.status.busy": "2020-12-17T16:26:24.932095Z",
     "iopub.status.idle": "2020-12-17T16:26:25.091152Z",
     "shell.execute_reply": "2020-12-17T16:26:25.091692Z"
    },
    "papermill": {
     "duration": 0.65616,
     "end_time": "2020-12-17T16:26:25.091834",
     "exception": false,
     "start_time": "2020-12-17T16:26:24.435674",
     "status": "completed"
    },
    "tags": []
   },
   "outputs": [
    {
     "data": {
      "text/html": [
       "<div>\n",
       "<style scoped>\n",
       "    .dataframe tbody tr th:only-of-type {\n",
       "        vertical-align: middle;\n",
       "    }\n",
       "\n",
       "    .dataframe tbody tr th {\n",
       "        vertical-align: top;\n",
       "    }\n",
       "\n",
       "    .dataframe thead th {\n",
       "        text-align: right;\n",
       "    }\n",
       "</style>\n",
       "<table border=\"1\" class=\"dataframe\">\n",
       "  <thead>\n",
       "    <tr style=\"text-align: right;\">\n",
       "      <th></th>\n",
       "      <th>index</th>\n",
       "      <th>passResult</th>\n",
       "      <th>nearest_is_target</th>\n",
       "      <th>targetedReceiver</th>\n",
       "      <th>isDefensivePI</th>\n",
       "      <th>dist_from_off</th>\n",
       "      <th>qb_s</th>\n",
       "      <th>qb_a</th>\n",
       "      <th>max_space_available</th>\n",
       "      <th>distance_from_qb</th>\n",
       "      <th>...</th>\n",
       "      <th>his_off_most_open</th>\n",
       "      <th>receiver_behind_db</th>\n",
       "      <th>dist_rate_of_change</th>\n",
       "      <th>gameId</th>\n",
       "      <th>playId</th>\n",
       "      <th>frameId</th>\n",
       "      <th>off_nflId</th>\n",
       "      <th>nflId</th>\n",
       "      <th>displayName</th>\n",
       "      <th>event</th>\n",
       "    </tr>\n",
       "  </thead>\n",
       "  <tbody>\n",
       "    <tr>\n",
       "      <th>173</th>\n",
       "      <td>173</td>\n",
       "      <td>C</td>\n",
       "      <td>1.0</td>\n",
       "      <td>0.0</td>\n",
       "      <td>False</td>\n",
       "      <td>4.160048</td>\n",
       "      <td>0.84</td>\n",
       "      <td>2.05</td>\n",
       "      <td>90.11</td>\n",
       "      <td>26.933854</td>\n",
       "      <td>...</td>\n",
       "      <td>0.0</td>\n",
       "      <td>4.16</td>\n",
       "      <td>0.077024</td>\n",
       "      <td>2018090600</td>\n",
       "      <td>75</td>\n",
       "      <td>36</td>\n",
       "      <td>2495454</td>\n",
       "      <td>2555383.0</td>\n",
       "      <td>Jalen Mills</td>\n",
       "      <td>pass_forward</td>\n",
       "    </tr>\n",
       "    <tr>\n",
       "      <th>283</th>\n",
       "      <td>283</td>\n",
       "      <td>I</td>\n",
       "      <td>1.0</td>\n",
       "      <td>0.0</td>\n",
       "      <td>False</td>\n",
       "      <td>4.687569</td>\n",
       "      <td>0.46</td>\n",
       "      <td>2.25</td>\n",
       "      <td>49.17</td>\n",
       "      <td>15.607181</td>\n",
       "      <td>...</td>\n",
       "      <td>0.0</td>\n",
       "      <td>4.23</td>\n",
       "      <td>-0.237617</td>\n",
       "      <td>2018090600</td>\n",
       "      <td>146</td>\n",
       "      <td>31</td>\n",
       "      <td>2560854</td>\n",
       "      <td>2555383.0</td>\n",
       "      <td>Jalen Mills</td>\n",
       "      <td>pass_forward</td>\n",
       "    </tr>\n",
       "    <tr>\n",
       "      <th>528</th>\n",
       "      <td>528</td>\n",
       "      <td>C</td>\n",
       "      <td>1.0</td>\n",
       "      <td>0.0</td>\n",
       "      <td>False</td>\n",
       "      <td>4.243218</td>\n",
       "      <td>2.38</td>\n",
       "      <td>0.91</td>\n",
       "      <td>50.00</td>\n",
       "      <td>18.825995</td>\n",
       "      <td>...</td>\n",
       "      <td>0.0</td>\n",
       "      <td>-4.07</td>\n",
       "      <td>0.912738</td>\n",
       "      <td>2018090600</td>\n",
       "      <td>190</td>\n",
       "      <td>39</td>\n",
       "      <td>2495454</td>\n",
       "      <td>79848.0</td>\n",
       "      <td>Malcolm Jenkins</td>\n",
       "      <td>pass_forward</td>\n",
       "    </tr>\n",
       "    <tr>\n",
       "      <th>574</th>\n",
       "      <td>574</td>\n",
       "      <td>C</td>\n",
       "      <td>1.0</td>\n",
       "      <td>0.0</td>\n",
       "      <td>False</td>\n",
       "      <td>10.081791</td>\n",
       "      <td>2.38</td>\n",
       "      <td>0.91</td>\n",
       "      <td>50.00</td>\n",
       "      <td>30.930058</td>\n",
       "      <td>...</td>\n",
       "      <td>0.0</td>\n",
       "      <td>8.52</td>\n",
       "      <td>-0.094449</td>\n",
       "      <td>2018090600</td>\n",
       "      <td>190</td>\n",
       "      <td>39</td>\n",
       "      <td>2495454</td>\n",
       "      <td>2495613.0</td>\n",
       "      <td>Corey Graham</td>\n",
       "      <td>pass_forward</td>\n",
       "    </tr>\n",
       "    <tr>\n",
       "      <th>712</th>\n",
       "      <td>712</td>\n",
       "      <td>C</td>\n",
       "      <td>1.0</td>\n",
       "      <td>0.0</td>\n",
       "      <td>False</td>\n",
       "      <td>18.706804</td>\n",
       "      <td>2.38</td>\n",
       "      <td>0.91</td>\n",
       "      <td>50.00</td>\n",
       "      <td>21.892960</td>\n",
       "      <td>...</td>\n",
       "      <td>1.0</td>\n",
       "      <td>-4.57</td>\n",
       "      <td>0.039277</td>\n",
       "      <td>2018090600</td>\n",
       "      <td>190</td>\n",
       "      <td>39</td>\n",
       "      <td>2495454</td>\n",
       "      <td>2555383.0</td>\n",
       "      <td>Jalen Mills</td>\n",
       "      <td>pass_forward</td>\n",
       "    </tr>\n",
       "  </tbody>\n",
       "</table>\n",
       "<p>5 rows × 25 columns</p>\n",
       "</div>"
      ],
      "text/plain": [
       "     index passResult  nearest_is_target  targetedReceiver isDefensivePI  \\\n",
       "173    173          C                1.0               0.0         False   \n",
       "283    283          I                1.0               0.0         False   \n",
       "528    528          C                1.0               0.0         False   \n",
       "574    574          C                1.0               0.0         False   \n",
       "712    712          C                1.0               0.0         False   \n",
       "\n",
       "     dist_from_off  qb_s  qb_a  max_space_available  distance_from_qb  ...  \\\n",
       "173       4.160048  0.84  2.05                90.11         26.933854  ...   \n",
       "283       4.687569  0.46  2.25                49.17         15.607181  ...   \n",
       "528       4.243218  2.38  0.91                50.00         18.825995  ...   \n",
       "574      10.081791  2.38  0.91                50.00         30.930058  ...   \n",
       "712      18.706804  2.38  0.91                50.00         21.892960  ...   \n",
       "\n",
       "     his_off_most_open  receiver_behind_db  dist_rate_of_change      gameId  \\\n",
       "173                0.0                4.16             0.077024  2018090600   \n",
       "283                0.0                4.23            -0.237617  2018090600   \n",
       "528                0.0               -4.07             0.912738  2018090600   \n",
       "574                0.0                8.52            -0.094449  2018090600   \n",
       "712                1.0               -4.57             0.039277  2018090600   \n",
       "\n",
       "     playId  frameId  off_nflId      nflId      displayName         event  \n",
       "173      75       36    2495454  2555383.0      Jalen Mills  pass_forward  \n",
       "283     146       31    2560854  2555383.0      Jalen Mills  pass_forward  \n",
       "528     190       39    2495454    79848.0  Malcolm Jenkins  pass_forward  \n",
       "574     190       39    2495454  2495613.0     Corey Graham  pass_forward  \n",
       "712     190       39    2495454  2555383.0      Jalen Mills  pass_forward  \n",
       "\n",
       "[5 rows x 25 columns]"
      ]
     },
     "execution_count": 4,
     "metadata": {},
     "output_type": "execute_result"
    }
   ],
   "source": [
    "xComp_dat = data[(data.event == 'pass_forward') & (data.nearest_is_target == 1)] # & (isDefensivePI == False)\n",
    "# filtering like this assumes that if the pass were to be thrown right now and the nearest offensive player to a defender were to be targeted\n",
    "# what are the odds the pass is completed\n",
    "\n",
    "data = data[['dist_from_off', 'qb_s', 'qb_a', 'max_space_available', 'distance_from_qb',\n",
    "             'receiver_distance_from_qb', 'ball_behind_db', 'diff_in_speed', 'diff_in_acceleration',\n",
    "             'diff_in_dir', 'his_off_most_open', 'receiver_behind_db', 'dist_rate_of_change']]\n",
    "\n",
    "# xComp_dat = xComp_dat[['passResult', 'nearest_is_target', 'targetedReceiver', 'isDefensivePI', 'dist_from_off',\n",
    "#                        'qb_s', 'qb_a', 'max_space_available', 'distance_from_qb', 'receiver_distance_from_qb',\n",
    "#                        'ball_behind_db', 'diff_in_speed', 'diff_in_acceleration', 'diff_in_dir',\n",
    "#                        'his_off_most_open', 'receiver_behind_db', 'dist_rate_of_change',\n",
    "#                        'gameId', 'playId', 'frameId', 'off_nflId', 'nflId', 'displayName']]\n",
    "xComp_dat.head()\n",
    "# features to add ... typeDropback, penalty on play"
   ]
  },
  {
   "cell_type": "code",
   "execution_count": 5,
   "metadata": {
    "execution": {
     "iopub.execute_input": "2020-12-17T16:26:25.135632Z",
     "iopub.status.busy": "2020-12-17T16:26:25.134029Z",
     "iopub.status.idle": "2020-12-17T16:26:25.157662Z",
     "shell.execute_reply": "2020-12-17T16:26:25.156974Z"
    },
    "papermill": {
     "duration": 0.049554,
     "end_time": "2020-12-17T16:26:25.157770",
     "exception": false,
     "start_time": "2020-12-17T16:26:25.108216",
     "status": "completed"
    },
    "tags": []
   },
   "outputs": [
    {
     "data": {
      "text/html": [
       "<div>\n",
       "<style scoped>\n",
       "    .dataframe tbody tr th:only-of-type {\n",
       "        vertical-align: middle;\n",
       "    }\n",
       "\n",
       "    .dataframe tbody tr th {\n",
       "        vertical-align: top;\n",
       "    }\n",
       "\n",
       "    .dataframe thead th {\n",
       "        text-align: right;\n",
       "    }\n",
       "</style>\n",
       "<table border=\"1\" class=\"dataframe\">\n",
       "  <thead>\n",
       "    <tr style=\"text-align: right;\">\n",
       "      <th></th>\n",
       "      <th>dist_from_off</th>\n",
       "      <th>qb_s</th>\n",
       "      <th>qb_a</th>\n",
       "      <th>max_space_available</th>\n",
       "      <th>distance_from_qb</th>\n",
       "      <th>receiver_distance_from_qb</th>\n",
       "      <th>ball_behind_db</th>\n",
       "      <th>diff_in_speed</th>\n",
       "      <th>diff_in_acceleration</th>\n",
       "      <th>diff_in_dir</th>\n",
       "      <th>his_off_most_open</th>\n",
       "      <th>receiver_behind_db</th>\n",
       "      <th>dist_rate_of_change</th>\n",
       "      <th>complete</th>\n",
       "    </tr>\n",
       "  </thead>\n",
       "  <tbody>\n",
       "    <tr>\n",
       "      <th>173</th>\n",
       "      <td>4.160048</td>\n",
       "      <td>0.84</td>\n",
       "      <td>2.05</td>\n",
       "      <td>90.11</td>\n",
       "      <td>26.933854</td>\n",
       "      <td>24.009259</td>\n",
       "      <td>0.0</td>\n",
       "      <td>1.57</td>\n",
       "      <td>-4.49</td>\n",
       "      <td>20.40</td>\n",
       "      <td>0.0</td>\n",
       "      <td>4.16</td>\n",
       "      <td>0.077024</td>\n",
       "      <td>1</td>\n",
       "    </tr>\n",
       "    <tr>\n",
       "      <th>283</th>\n",
       "      <td>4.687569</td>\n",
       "      <td>0.46</td>\n",
       "      <td>2.25</td>\n",
       "      <td>49.17</td>\n",
       "      <td>15.607181</td>\n",
       "      <td>11.034174</td>\n",
       "      <td>0.0</td>\n",
       "      <td>0.91</td>\n",
       "      <td>2.42</td>\n",
       "      <td>129.71</td>\n",
       "      <td>0.0</td>\n",
       "      <td>4.23</td>\n",
       "      <td>-0.237617</td>\n",
       "      <td>0</td>\n",
       "    </tr>\n",
       "    <tr>\n",
       "      <th>528</th>\n",
       "      <td>4.243218</td>\n",
       "      <td>2.38</td>\n",
       "      <td>0.91</td>\n",
       "      <td>50.00</td>\n",
       "      <td>18.825995</td>\n",
       "      <td>23.063187</td>\n",
       "      <td>0.0</td>\n",
       "      <td>-6.18</td>\n",
       "      <td>0.31</td>\n",
       "      <td>86.32</td>\n",
       "      <td>0.0</td>\n",
       "      <td>-4.07</td>\n",
       "      <td>0.912738</td>\n",
       "      <td>1</td>\n",
       "    </tr>\n",
       "    <tr>\n",
       "      <th>574</th>\n",
       "      <td>10.081791</td>\n",
       "      <td>2.38</td>\n",
       "      <td>0.91</td>\n",
       "      <td>50.00</td>\n",
       "      <td>30.930058</td>\n",
       "      <td>23.063187</td>\n",
       "      <td>0.0</td>\n",
       "      <td>-3.79</td>\n",
       "      <td>-0.45</td>\n",
       "      <td>15.00</td>\n",
       "      <td>0.0</td>\n",
       "      <td>8.52</td>\n",
       "      <td>-0.094449</td>\n",
       "      <td>1</td>\n",
       "    </tr>\n",
       "    <tr>\n",
       "      <th>712</th>\n",
       "      <td>18.706804</td>\n",
       "      <td>2.38</td>\n",
       "      <td>0.91</td>\n",
       "      <td>50.00</td>\n",
       "      <td>21.892960</td>\n",
       "      <td>23.063187</td>\n",
       "      <td>0.0</td>\n",
       "      <td>-4.02</td>\n",
       "      <td>-2.96</td>\n",
       "      <td>15.83</td>\n",
       "      <td>1.0</td>\n",
       "      <td>-4.57</td>\n",
       "      <td>0.039277</td>\n",
       "      <td>1</td>\n",
       "    </tr>\n",
       "  </tbody>\n",
       "</table>\n",
       "</div>"
      ],
      "text/plain": [
       "     dist_from_off  qb_s  qb_a  max_space_available  distance_from_qb  \\\n",
       "173       4.160048  0.84  2.05                90.11         26.933854   \n",
       "283       4.687569  0.46  2.25                49.17         15.607181   \n",
       "528       4.243218  2.38  0.91                50.00         18.825995   \n",
       "574      10.081791  2.38  0.91                50.00         30.930058   \n",
       "712      18.706804  2.38  0.91                50.00         21.892960   \n",
       "\n",
       "     receiver_distance_from_qb  ball_behind_db  diff_in_speed  \\\n",
       "173                  24.009259             0.0           1.57   \n",
       "283                  11.034174             0.0           0.91   \n",
       "528                  23.063187             0.0          -6.18   \n",
       "574                  23.063187             0.0          -3.79   \n",
       "712                  23.063187             0.0          -4.02   \n",
       "\n",
       "     diff_in_acceleration  diff_in_dir  his_off_most_open  receiver_behind_db  \\\n",
       "173                 -4.49        20.40                0.0                4.16   \n",
       "283                  2.42       129.71                0.0                4.23   \n",
       "528                  0.31        86.32                0.0               -4.07   \n",
       "574                 -0.45        15.00                0.0                8.52   \n",
       "712                 -2.96        15.83                1.0               -4.57   \n",
       "\n",
       "     dist_rate_of_change  complete  \n",
       "173             0.077024         1  \n",
       "283            -0.237617         0  \n",
       "528             0.912738         1  \n",
       "574            -0.094449         1  \n",
       "712             0.039277         1  "
      ]
     },
     "execution_count": 5,
     "metadata": {},
     "output_type": "execute_result"
    }
   ],
   "source": [
    "# xComp_dat['passResult'] = np.where(xComp_dat['isDefensivePI'] == True, 'C', xComp_dat['passResult'])\n",
    "\n",
    "xComp_dat['complete'] = np.where(xComp_dat['passResult'] == 'C', 1, 0)\n",
    "\n",
    "xComp_dat = xComp_dat[['dist_from_off', 'qb_s', 'qb_a', 'max_space_available', 'distance_from_qb',\n",
    "                       'receiver_distance_from_qb', 'ball_behind_db', 'diff_in_speed', 'diff_in_acceleration',\n",
    "                      'diff_in_dir', 'his_off_most_open', 'receiver_behind_db', 'dist_rate_of_change', 'complete']]\n",
    "xComp_dat.head()\n",
    "# must add distance from ball at time of pass_forward i.e. depth of target or distance ball traveled"
   ]
  },
  {
   "cell_type": "code",
   "execution_count": 6,
   "metadata": {
    "execution": {
     "iopub.execute_input": "2020-12-17T16:26:25.197924Z",
     "iopub.status.busy": "2020-12-17T16:26:25.197280Z",
     "iopub.status.idle": "2020-12-17T16:26:25.200229Z",
     "shell.execute_reply": "2020-12-17T16:26:25.199654Z"
    },
    "papermill": {
     "duration": 0.026052,
     "end_time": "2020-12-17T16:26:25.200349",
     "exception": false,
     "start_time": "2020-12-17T16:26:25.174297",
     "status": "completed"
    },
    "tags": []
   },
   "outputs": [],
   "source": [
    "y_data = np.array(xComp_dat['complete'])\n",
    "x_data = xComp_dat.drop('complete', axis = 1)"
   ]
  },
  {
   "cell_type": "code",
   "execution_count": 7,
   "metadata": {
    "execution": {
     "iopub.execute_input": "2020-12-17T16:26:25.252310Z",
     "iopub.status.busy": "2020-12-17T16:26:25.251607Z",
     "iopub.status.idle": "2020-12-17T16:26:25.256049Z",
     "shell.execute_reply": "2020-12-17T16:26:25.256568Z"
    },
    "papermill": {
     "duration": 0.039854,
     "end_time": "2020-12-17T16:26:25.256732",
     "exception": false,
     "start_time": "2020-12-17T16:26:25.216878",
     "status": "completed"
    },
    "tags": []
   },
   "outputs": [
    {
     "data": {
      "text/html": [
       "<div>\n",
       "<style scoped>\n",
       "    .dataframe tbody tr th:only-of-type {\n",
       "        vertical-align: middle;\n",
       "    }\n",
       "\n",
       "    .dataframe tbody tr th {\n",
       "        vertical-align: top;\n",
       "    }\n",
       "\n",
       "    .dataframe thead th {\n",
       "        text-align: right;\n",
       "    }\n",
       "</style>\n",
       "<table border=\"1\" class=\"dataframe\">\n",
       "  <thead>\n",
       "    <tr style=\"text-align: right;\">\n",
       "      <th></th>\n",
       "      <th>dist_from_off</th>\n",
       "      <th>qb_s</th>\n",
       "      <th>qb_a</th>\n",
       "      <th>max_space_available</th>\n",
       "      <th>distance_from_qb</th>\n",
       "      <th>receiver_distance_from_qb</th>\n",
       "      <th>ball_behind_db</th>\n",
       "      <th>diff_in_speed</th>\n",
       "      <th>diff_in_acceleration</th>\n",
       "      <th>diff_in_dir</th>\n",
       "      <th>his_off_most_open</th>\n",
       "      <th>receiver_behind_db</th>\n",
       "      <th>dist_rate_of_change</th>\n",
       "    </tr>\n",
       "  </thead>\n",
       "  <tbody>\n",
       "    <tr>\n",
       "      <th>0</th>\n",
       "      <td>1.920339</td>\n",
       "      <td>0.00</td>\n",
       "      <td>0.00</td>\n",
       "      <td>90.11</td>\n",
       "      <td>10.234813</td>\n",
       "      <td>9.538433</td>\n",
       "      <td>0.0</td>\n",
       "      <td>0.01</td>\n",
       "      <td>0.01</td>\n",
       "      <td>258.48</td>\n",
       "      <td>0.0</td>\n",
       "      <td>1.89</td>\n",
       "      <td>0.000000</td>\n",
       "    </tr>\n",
       "    <tr>\n",
       "      <th>1</th>\n",
       "      <td>1.922134</td>\n",
       "      <td>0.00</td>\n",
       "      <td>0.00</td>\n",
       "      <td>90.11</td>\n",
       "      <td>10.240400</td>\n",
       "      <td>9.530519</td>\n",
       "      <td>0.0</td>\n",
       "      <td>0.01</td>\n",
       "      <td>0.01</td>\n",
       "      <td>276.29</td>\n",
       "      <td>0.0</td>\n",
       "      <td>1.89</td>\n",
       "      <td>0.000000</td>\n",
       "    </tr>\n",
       "    <tr>\n",
       "      <th>2</th>\n",
       "      <td>1.912302</td>\n",
       "      <td>0.03</td>\n",
       "      <td>0.82</td>\n",
       "      <td>90.11</td>\n",
       "      <td>10.246024</td>\n",
       "      <td>9.533651</td>\n",
       "      <td>0.0</td>\n",
       "      <td>-0.02</td>\n",
       "      <td>-0.29</td>\n",
       "      <td>280.46</td>\n",
       "      <td>0.0</td>\n",
       "      <td>1.88</td>\n",
       "      <td>0.000000</td>\n",
       "    </tr>\n",
       "    <tr>\n",
       "      <th>3</th>\n",
       "      <td>1.908743</td>\n",
       "      <td>0.22</td>\n",
       "      <td>2.24</td>\n",
       "      <td>90.11</td>\n",
       "      <td>10.239258</td>\n",
       "      <td>9.544658</td>\n",
       "      <td>0.0</td>\n",
       "      <td>-0.07</td>\n",
       "      <td>-0.50</td>\n",
       "      <td>34.84</td>\n",
       "      <td>0.0</td>\n",
       "      <td>1.88</td>\n",
       "      <td>-0.006038</td>\n",
       "    </tr>\n",
       "    <tr>\n",
       "      <th>4</th>\n",
       "      <td>1.889047</td>\n",
       "      <td>0.61</td>\n",
       "      <td>3.46</td>\n",
       "      <td>90.11</td>\n",
       "      <td>10.265988</td>\n",
       "      <td>9.563472</td>\n",
       "      <td>0.0</td>\n",
       "      <td>-0.22</td>\n",
       "      <td>-1.20</td>\n",
       "      <td>9.95</td>\n",
       "      <td>0.0</td>\n",
       "      <td>1.86</td>\n",
       "      <td>-0.017214</td>\n",
       "    </tr>\n",
       "  </tbody>\n",
       "</table>\n",
       "</div>"
      ],
      "text/plain": [
       "   dist_from_off  qb_s  qb_a  max_space_available  distance_from_qb  \\\n",
       "0       1.920339  0.00  0.00                90.11         10.234813   \n",
       "1       1.922134  0.00  0.00                90.11         10.240400   \n",
       "2       1.912302  0.03  0.82                90.11         10.246024   \n",
       "3       1.908743  0.22  2.24                90.11         10.239258   \n",
       "4       1.889047  0.61  3.46                90.11         10.265988   \n",
       "\n",
       "   receiver_distance_from_qb  ball_behind_db  diff_in_speed  \\\n",
       "0                   9.538433             0.0           0.01   \n",
       "1                   9.530519             0.0           0.01   \n",
       "2                   9.533651             0.0          -0.02   \n",
       "3                   9.544658             0.0          -0.07   \n",
       "4                   9.563472             0.0          -0.22   \n",
       "\n",
       "   diff_in_acceleration  diff_in_dir  his_off_most_open  receiver_behind_db  \\\n",
       "0                  0.01       258.48                0.0                1.89   \n",
       "1                  0.01       276.29                0.0                1.89   \n",
       "2                 -0.29       280.46                0.0                1.88   \n",
       "3                 -0.50        34.84                0.0                1.88   \n",
       "4                 -1.20         9.95                0.0                1.86   \n",
       "\n",
       "   dist_rate_of_change  \n",
       "0             0.000000  \n",
       "1             0.000000  \n",
       "2             0.000000  \n",
       "3            -0.006038  \n",
       "4            -0.017214  "
      ]
     },
     "execution_count": 7,
     "metadata": {},
     "output_type": "execute_result"
    }
   ],
   "source": [
    "data.head()"
   ]
  },
  {
   "cell_type": "code",
   "execution_count": 8,
   "metadata": {
    "execution": {
     "iopub.execute_input": "2020-12-17T16:26:25.299027Z",
     "iopub.status.busy": "2020-12-17T16:26:25.298339Z",
     "iopub.status.idle": "2020-12-17T16:26:25.303657Z",
     "shell.execute_reply": "2020-12-17T16:26:25.304181Z"
    },
    "papermill": {
     "duration": 0.030123,
     "end_time": "2020-12-17T16:26:25.304356",
     "exception": false,
     "start_time": "2020-12-17T16:26:25.274233",
     "status": "completed"
    },
    "tags": []
   },
   "outputs": [],
   "source": [
    "def trainSets(x_data,y_data):\n",
    "    # args: pandas dataframe, pandas dataframe\n",
    "    # return: pandas dataframe, pandas dataframe, pandas series, pandas series\n",
    "    x_train, x_test, y_train, y_test = train_test_split(\n",
    "        x_data, y_data,\n",
    "        test_size=0.15, train_size=.85,\n",
    "        random_state=614, shuffle=True)\n",
    "    return x_train, x_test, y_train, y_test\n",
    "model_data = trainSets(x_data, y_data)"
   ]
  },
  {
   "cell_type": "code",
   "execution_count": 9,
   "metadata": {
    "_cell_guid": "79c7e3d0-c299-4dcb-8224-4455121ee9b0",
    "_uuid": "d629ff2d2480ee46fbb7e2d37f6b5fab8052498a",
    "execution": {
     "iopub.execute_input": "2020-12-17T16:26:25.359773Z",
     "iopub.status.busy": "2020-12-17T16:26:25.358967Z",
     "iopub.status.idle": "2020-12-17T16:26:25.362371Z",
     "shell.execute_reply": "2020-12-17T16:26:25.361635Z"
    },
    "papermill": {
     "duration": 0.039905,
     "end_time": "2020-12-17T16:26:25.362490",
     "exception": false,
     "start_time": "2020-12-17T16:26:25.322585",
     "status": "completed"
    },
    "tags": []
   },
   "outputs": [],
   "source": [
    "class RFClassifier():\n",
    "    def randomForestClassifier(self,x_train, x_test, y_train):\n",
    "        # args: pandas dataframe, pandas dataframe, pandas series\n",
    "        # return: RandomForestClassifier object, numpy array, numpy array\n",
    "        rf_clf = RandomForestClassifier(random_state=614,\n",
    "                                        max_depth = 20,\n",
    "                                        max_features = 'auto',\n",
    "                                        min_samples_leaf = 4,\n",
    "                                        min_samples_split = 10,\n",
    "                                        n_estimators = 100)\n",
    "        rf_clf.fit(x_train, y_train)\n",
    "        y_predict_train = rf_clf.predict(x_train)\n",
    "        y_predict_train = np.array(y_predict_train)\n",
    "        y_predict_test = rf_clf.predict(x_test)\n",
    "        y_predict_test = np.array(y_predict_test)\n",
    "        \n",
    "        return rf_clf, y_predict_train, y_predict_test\n",
    "    \n",
    "    def rfTrainAccuracy(self,y_train,y_predict_train):\n",
    "        # args: pandas series, numpy array\n",
    "        # return: float\n",
    "        y_predict_train = np.rint(y_predict_train)\n",
    "        train_accuracy = accuracy_score(y_train, y_predict_train)\n",
    "        return train_accuracy\n",
    "    \n",
    "    def rfTestAccuracy(self,y_test,y_predict_test):\n",
    "        # args: pandas series, numpy array\n",
    "        # return: float\n",
    "        y_predict_test = np.rint(y_predict_test)\n",
    "        test_accuracy = accuracy_score(y_test, y_predict_test)\n",
    "        return test_accuracy\n",
    "\n",
    "    def rfFeatureImportance(self,rf_clf):\n",
    "        # args: RandomForestClassifier object\n",
    "        # return: float array\n",
    "        feature_importance = rf_clf.feature_importances_\n",
    "        # std = np.std([tree.feature_importances_ for tree in rf_clf.estimators_],\n",
    "        #      axis=0)\n",
    "        # indices = np.argsort(importances)[::-1]\n",
    "        return feature_importance\n",
    "    \n",
    "    def sortedRFFeatureImportanceIndicies(self,rf_clf):\n",
    "        # args: RandomForestClassifier object\n",
    "        # return: int array\n",
    "        importances = rf_clf.feature_importances_\n",
    "\n",
    "        sorted_indices = np.argsort(importances)[::-1]\n",
    "        # -------------------------------\n",
    "        return sorted_indices\n",
    "    \n",
    "    def hyperParameterTuning(self,rf_clf,x_train,y_train):\n",
    "        # args: RandomForestClassifier object, pandas dataframe, pandas series\n",
    "        # return: GridSearchCV object\n",
    "        parameters = {'max_depth': [5, 10, 20, 30],\n",
    "                      'max_features': ['auto', 'sqrt'],\n",
    "                      'min_samples_leaf': [1, 2, 4],\n",
    "                      'min_samples_split': [2, 5, 10],\n",
    "                      'n_estimators': [50, 100, 200, 250, 400]}\n",
    "        gscv_rfc = GridSearchCV(rf_clf, parameters)\n",
    "        gscv_rfc.fit(x_train, y_train)\n",
    "        return gscv_rfc\n",
    "    \n",
    "    def bestParams(self,gscv_rfc):\n",
    "        # args:  GridSearchCV object\n",
    "        # return: parameter dict\n",
    "        best_params = gscv_rfc.best_params_\n",
    "        return best_params\n",
    "    \n",
    "    def bestScore(self,gscv_rfc):\n",
    "        # args: GridSearchCV object\n",
    "        # return: float\n",
    "        best_score = gscv_rfc.best_score_\n",
    "        return best_score"
   ]
  },
  {
   "cell_type": "code",
   "execution_count": 10,
   "metadata": {
    "execution": {
     "iopub.execute_input": "2020-12-17T16:26:25.403412Z",
     "iopub.status.busy": "2020-12-17T16:26:25.402759Z",
     "iopub.status.idle": "2020-12-17T16:26:25.406097Z",
     "shell.execute_reply": "2020-12-17T16:26:25.405420Z"
    },
    "papermill": {
     "duration": 0.02585,
     "end_time": "2020-12-17T16:26:25.406225",
     "exception": false,
     "start_time": "2020-12-17T16:26:25.380375",
     "status": "completed"
    },
    "tags": []
   },
   "outputs": [],
   "source": [
    "train_x = model_data[0]\n",
    "test_x = model_data[1]\n",
    "train_y = model_data[2]\n",
    "test_y = model_data[3]"
   ]
  },
  {
   "cell_type": "code",
   "execution_count": 11,
   "metadata": {
    "execution": {
     "iopub.execute_input": "2020-12-17T16:26:25.455289Z",
     "iopub.status.busy": "2020-12-17T16:26:25.454561Z",
     "iopub.status.idle": "2020-12-17T16:26:29.137599Z",
     "shell.execute_reply": "2020-12-17T16:26:29.138119Z"
    },
    "papermill": {
     "duration": 3.713603,
     "end_time": "2020-12-17T16:26:29.138283",
     "exception": false,
     "start_time": "2020-12-17T16:26:25.424680",
     "status": "completed"
    },
    "tags": []
   },
   "outputs": [
    {
     "name": "stdout",
     "output_type": "stream",
     "text": [
      "Train Acc:\n",
      "0.9218122877431306\n",
      "Test Acc:\n",
      "0.6843025797988631\n",
      "Recall:\n",
      "0.8010670731707317\n",
      "Precision:\n",
      "0.6951058201058201\n",
      "F1 Score:\n",
      "0.7443342776203966\n",
      "Feature Importance: \n",
      "[0.12333002 0.07784032 0.06737964 0.08192253 0.0834932  0.12078984\n",
      " 0.00013941 0.08046195 0.07609513 0.07947786 0.00499799 0.09600487\n",
      " 0.10806724]\n",
      "Sorted Indices:\n",
      "[ 0  5 12 11  4  3  7  9  1  8  2 10  6]\n"
     ]
    }
   ],
   "source": [
    "rf = RFClassifier()\n",
    "model = rf.randomForestClassifier(train_x, test_x, train_y)\n",
    "pred_y_train = model[1]\n",
    "pred_y_test = model[2]\n",
    "model = model[0]\n",
    "\n",
    "print(\"Train Acc:\")\n",
    "print(rf.rfTrainAccuracy(train_y, pred_y_train))\n",
    "print(\"Test Acc:\")\n",
    "print(rf.rfTestAccuracy(test_y, pred_y_test))\n",
    "print('Recall:')\n",
    "print(recall_score(test_y, pred_y_test))\n",
    "print('Precision:')\n",
    "print(precision_score(test_y, pred_y_test))\n",
    "print('F1 Score:')\n",
    "print(f1_score(test_y, pred_y_test))\n",
    "\n",
    "\n",
    "print(\"Feature Importance: \") \n",
    "print(rf.rfFeatureImportance(model))\n",
    "\n",
    "print(\"Sorted Indices:\")\n",
    "print(rf.sortedRFFeatureImportanceIndicies(model))\n",
    "\n",
    "# gridCV = rf.hyperParameterTuning(model, train_x, train_y)\n",
    "\n",
    "# print(\"Best Params:\")\n",
    "# print(rf.bestParams(gridCV))\n",
    "\n",
    "# print(\"Best Score:\")\n",
    "# print(rf.bestScore(gridCV))\n",
    "\n",
    "# Best Params from GridSearch w/ no penalties\n",
    "# {'max_depth': 20, 'max_features': 'auto', 'min_samples_leaf': 4, 'min_samples_split': 10, 'n_estimators': 100}"
   ]
  },
  {
   "cell_type": "code",
   "execution_count": 12,
   "metadata": {
    "execution": {
     "iopub.execute_input": "2020-12-17T16:26:29.183364Z",
     "iopub.status.busy": "2020-12-17T16:26:29.182603Z",
     "iopub.status.idle": "2020-12-17T16:26:29.462970Z",
     "shell.execute_reply": "2020-12-17T16:26:29.463511Z"
    },
    "papermill": {
     "duration": 0.306745,
     "end_time": "2020-12-17T16:26:29.463685",
     "exception": false,
     "start_time": "2020-12-17T16:26:29.156940",
     "status": "completed"
    },
    "tags": []
   },
   "outputs": [
    {
     "data": {
      "text/plain": [
       "<sklearn.metrics._plot.precision_recall_curve.PrecisionRecallDisplay at 0x7f2447785e10>"
      ]
     },
     "execution_count": 12,
     "metadata": {},
     "output_type": "execute_result"
    },
    {
     "data": {
      "image/png": "[encoded data removed]",
      "text/plain": [
       "<Figure size 432x288 with 1 Axes>"
      ]
     },
     "metadata": {
      "needs_background": "light"
     },
     "output_type": "display_data"
    }
   ],
   "source": [
    "plot_precision_recall_curve(model, test_x, test_y)"
   ]
  },
  {
   "cell_type": "code",
   "execution_count": 13,
   "metadata": {
    "execution": {
     "iopub.execute_input": "2020-12-17T16:26:29.508127Z",
     "iopub.status.busy": "2020-12-17T16:26:29.507061Z",
     "iopub.status.idle": "2020-12-17T16:26:29.871152Z",
     "shell.execute_reply": "2020-12-17T16:26:29.871689Z"
    },
    "papermill": {
     "duration": 0.387564,
     "end_time": "2020-12-17T16:26:29.871840",
     "exception": false,
     "start_time": "2020-12-17T16:26:29.484276",
     "status": "completed"
    },
    "tags": []
   },
   "outputs": [
    {
     "data": {
      "text/plain": [
       "[Text(0, 0, 'dist_from_off'),\n",
       " Text(0, 0, 'qb_s'),\n",
       " Text(0, 0, 'qb_a'),\n",
       " Text(0, 0, 'max_space_available'),\n",
       " Text(0, 0, 'distance_from_qb'),\n",
       " Text(0, 0, 'receiver_distance_from_qb'),\n",
       " Text(0, 0, 'ball_behind_db'),\n",
       " Text(0, 0, 'diff_in_speed'),\n",
       " Text(0, 0, 'diff_in_acceleration'),\n",
       " Text(0, 0, 'diff_in_dir'),\n",
       " Text(0, 0, 'his_off_most_open'),\n",
       " Text(0, 0, 'receiver_behind_db'),\n",
       " Text(0, 0, 'dist_rate_of_change')]"
      ]
     },
     "execution_count": 13,
     "metadata": {},
     "output_type": "execute_result"
    },
    {
     "data": {
      "image/png": "[encoded data removed]",
      "text/plain": [
       "<Figure size 432x288 with 1 Axes>"
      ]
     },
     "metadata": {
      "needs_background": "light"
     },
     "output_type": "display_data"
    }
   ],
   "source": [
    "feat_imp = pd.DataFrame(train_x.columns, rf.rfFeatureImportance(model)).reset_index()\n",
    "feat_imp.columns = ['Importance', 'Feature']\n",
    "\n",
    "import seaborn as sns\n",
    "import matplotlib.pyplot as plt\n",
    "\n",
    "g = sns.barplot(x=\"Feature\", y=\"Importance\", data=feat_imp)\n",
    "g.set_xticklabels(g.get_xticklabels(), rotation=90)"
   ]
  },
  {
   "cell_type": "code",
   "execution_count": 14,
   "metadata": {
    "execution": {
     "iopub.execute_input": "2020-12-17T16:26:29.917806Z",
     "iopub.status.busy": "2020-12-17T16:26:29.916822Z",
     "iopub.status.idle": "2020-12-17T16:26:30.210843Z",
     "shell.execute_reply": "2020-12-17T16:26:30.211434Z"
    },
    "papermill": {
     "duration": 0.318612,
     "end_time": "2020-12-17T16:26:30.211579",
     "exception": false,
     "start_time": "2020-12-17T16:26:29.892967",
     "status": "completed"
    },
    "tags": []
   },
   "outputs": [
    {
     "data": {
      "text/plain": [
       "<sklearn.metrics._plot.roc_curve.RocCurveDisplay at 0x7f24473c0390>"
      ]
     },
     "execution_count": 14,
     "metadata": {},
     "output_type": "execute_result"
    },
    {
     "data": {
      "image/png": "[encoded data removed]",
      "text/plain": [
       "<Figure size 432x288 with 1 Axes>"
      ]
     },
     "metadata": {
      "needs_background": "light"
     },
     "output_type": "display_data"
    }
   ],
   "source": [
    "plot_roc_curve(model, test_x, test_y)"
   ]
  },
  {
   "cell_type": "code",
   "execution_count": 15,
   "metadata": {
    "execution": {
     "iopub.execute_input": "2020-12-17T16:26:30.266679Z",
     "iopub.status.busy": "2020-12-17T16:26:30.265956Z",
     "iopub.status.idle": "2020-12-17T16:27:18.194484Z",
     "shell.execute_reply": "2020-12-17T16:27:18.195019Z"
    },
    "papermill": {
     "duration": 47.960126,
     "end_time": "2020-12-17T16:27:18.195187",
     "exception": false,
     "start_time": "2020-12-17T16:26:30.235061",
     "status": "completed"
    },
    "tags": []
   },
   "outputs": [
    {
     "data": {
      "text/plain": [
       "array([[0.35135396, 0.64864604],\n",
       "       [0.35135396, 0.64864604],\n",
       "       [0.31573759, 0.68426241],\n",
       "       ...,\n",
       "       [0.23545465, 0.76454535],\n",
       "       [0.28024266, 0.71975734],\n",
       "       [0.26675467, 0.73324533]])"
      ]
     },
     "execution_count": 15,
     "metadata": {},
     "output_type": "execute_result"
    }
   ],
   "source": [
    "# Create this instance to predict the probability of a completion no a full train of the data\n",
    "# The accuracy will be skewed, of course, but will be illustrative of the point of the process\n",
    "\n",
    "rf_clf = RandomForestClassifier(random_state=614,\n",
    "                                max_depth = 20,\n",
    "                                max_features = 'auto',\n",
    "                                min_samples_leaf = 4,\n",
    "                                min_samples_split = 10,\n",
    "                                n_estimators = 100)\n",
    "rf_clf.fit(x_data, y_data)\n",
    "comp_prob = rf_clf.predict_proba(data)\n",
    "comp_prob"
   ]
  },
  {
   "cell_type": "code",
   "execution_count": 16,
   "metadata": {
    "execution": {
     "iopub.execute_input": "2020-12-17T16:27:18.293420Z",
     "iopub.status.busy": "2020-12-17T16:27:18.257246Z",
     "iopub.status.idle": "2020-12-17T16:27:20.447724Z",
     "shell.execute_reply": "2020-12-17T16:27:20.447030Z"
    },
    "papermill": {
     "duration": 2.229547,
     "end_time": "2020-12-17T16:27:20.447838",
     "exception": false,
     "start_time": "2020-12-17T16:27:18.218291",
     "status": "completed"
    },
    "tags": []
   },
   "outputs": [],
   "source": [
    "comp_prob = [x[1] for x in comp_prob]\n",
    "data['comp_prob'] = comp_prob"
   ]
  },
  {
   "cell_type": "code",
   "execution_count": 17,
   "metadata": {
    "execution": {
     "iopub.execute_input": "2020-12-17T16:27:20.500910Z",
     "iopub.status.busy": "2020-12-17T16:27:20.500107Z",
     "iopub.status.idle": "2020-12-17T16:29:03.502476Z",
     "shell.execute_reply": "2020-12-17T16:29:03.501600Z"
    },
    "papermill": {
     "duration": 103.031983,
     "end_time": "2020-12-17T16:29:03.502622",
     "exception": false,
     "start_time": "2020-12-17T16:27:20.470639",
     "status": "completed"
    },
    "tags": []
   },
   "outputs": [],
   "source": [
    "comp_prob_dat = pd.concat([holding_data, data], axis=1)\n",
    "comp_prob_dat.to_csv('comp_prob_dat.csv')"
   ]
  },
  {
   "cell_type": "code",
   "execution_count": 18,
   "metadata": {
    "execution": {
     "iopub.execute_input": "2020-12-17T16:29:03.556290Z",
     "iopub.status.busy": "2020-12-17T16:29:03.555567Z",
     "iopub.status.idle": "2020-12-17T16:29:03.558246Z",
     "shell.execute_reply": "2020-12-17T16:29:03.558769Z"
    },
    "papermill": {
     "duration": 0.03234,
     "end_time": "2020-12-17T16:29:03.558906",
     "exception": false,
     "start_time": "2020-12-17T16:29:03.526566",
     "status": "completed"
    },
    "tags": []
   },
   "outputs": [
    {
     "data": {
      "text/plain": [
       "(3319906, 7)"
      ]
     },
     "execution_count": 18,
     "metadata": {},
     "output_type": "execute_result"
    }
   ],
   "source": [
    "holding_data.shape"
   ]
  },
  {
   "cell_type": "code",
   "execution_count": null,
   "metadata": {
    "papermill": {
     "duration": 0.023612,
     "end_time": "2020-12-17T16:29:03.606361",
     "exception": false,
     "start_time": "2020-12-17T16:29:03.582749",
     "status": "completed"
    },
    "tags": []
   },
   "outputs": [],
   "source": []
  }
 ],
 "metadata": {
  "kernelspec": {
   "display_name": "Python 3",
   "language": "python",
   "name": "python3"
  },
  "language_info": {
   "codemirror_mode": {
    "name": "ipython",
    "version": 3
   },
   "file_extension": ".py",
   "mimetype": "text/x-python",
   "name": "python",
   "nbconvert_exporter": "python",
   "pygments_lexer": "ipython3",
   "version": "3.7.6"
  },
  "papermill": {
   "duration": 211.635968,
   "end_time": "2020-12-17T16:29:03.838302",
   "environment_variables": {},
   "exception": null,
   "input_path": "__notebook__.ipynb",
   "output_path": "__notebook__.ipynb",
   "parameters": {},
   "start_time": "2020-12-17T16:25:32.202334",
   "version": "2.1.0"
  }
 },
 "nbformat": 4,
 "nbformat_minor": 4
}
