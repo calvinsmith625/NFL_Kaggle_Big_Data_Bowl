{
 "cells": [
  {
   "cell_type": "code",
   "execution_count": 1,
   "metadata": {
    "_cell_guid": "b1076dfc-b9ad-4769-8c92-a6c4dae69d19",
    "_uuid": "8f2839f25d086af736a60e9eeb907d3b93b6e0e5",
    "execution": {
     "iopub.execute_input": "2020-12-29T02:04:10.413501Z",
     "iopub.status.busy": "2020-12-29T02:04:10.412812Z",
     "iopub.status.idle": "2020-12-29T02:04:11.563721Z",
     "shell.execute_reply": "2020-12-29T02:04:11.564235Z"
    },
    "papermill": {
     "duration": 1.174457,
     "end_time": "2020-12-29T02:04:11.564420",
     "exception": false,
     "start_time": "2020-12-29T02:04:10.389963",
     "status": "completed"
    },
    "tags": []
   },
   "outputs": [],
   "source": [
    "import numpy as np \n",
    "import pandas as pd\n",
    "from sklearn.model_selection import cross_val_score, GridSearchCV, cross_validate, train_test_split\n",
    "from sklearn.metrics import accuracy_score, confusion_matrix, f1_score, precision_score, recall_score, plot_precision_recall_curve, plot_roc_curve\n",
    "from sklearn.ensemble import RandomForestClassifier"
   ]
  },
  {
   "cell_type": "code",
   "execution_count": 2,
   "metadata": {
    "execution": {
     "iopub.execute_input": "2020-12-29T02:04:11.596627Z",
     "iopub.status.busy": "2020-12-29T02:04:11.595969Z",
     "iopub.status.idle": "2020-12-29T02:04:11.895476Z",
     "shell.execute_reply": "2020-12-29T02:04:11.894911Z"
    },
    "papermill": {
     "duration": 0.31619,
     "end_time": "2020-12-29T02:04:11.895586",
     "exception": false,
     "start_time": "2020-12-29T02:04:11.579396",
     "status": "completed"
    },
    "tags": []
   },
   "outputs": [
    {
     "data": {
      "text/html": [
       "<div>\n",
       "<style scoped>\n",
       "    .dataframe tbody tr th:only-of-type {\n",
       "        vertical-align: middle;\n",
       "    }\n",
       "\n",
       "    .dataframe tbody tr th {\n",
       "        vertical-align: top;\n",
       "    }\n",
       "\n",
       "    .dataframe thead th {\n",
       "        text-align: right;\n",
       "    }\n",
       "</style>\n",
       "<table border=\"1\" class=\"dataframe\">\n",
       "  <thead>\n",
       "    <tr style=\"text-align: right;\">\n",
       "      <th></th>\n",
       "      <th>dist_from_off</th>\n",
       "      <th>playId</th>\n",
       "      <th>gameId</th>\n",
       "      <th>nflId</th>\n",
       "      <th>frameId</th>\n",
       "      <th>off_nflId</th>\n",
       "      <th>displayName</th>\n",
       "      <th>nearest_is_target</th>\n",
       "      <th>distanceFromBall.x</th>\n",
       "      <th>off_distanceFromBall</th>\n",
       "      <th>...</th>\n",
       "      <th>avg_speed_diff</th>\n",
       "      <th>pct_first_off</th>\n",
       "      <th>pct_last_off</th>\n",
       "      <th>last_off</th>\n",
       "      <th>first_off</th>\n",
       "      <th>var_look_at_qb</th>\n",
       "      <th>dist_los</th>\n",
       "      <th>complete</th>\n",
       "      <th>covering_target</th>\n",
       "      <th>covering_first_off</th>\n",
       "    </tr>\n",
       "  </thead>\n",
       "  <tbody>\n",
       "    <tr>\n",
       "      <th>0</th>\n",
       "      <td>4.160048</td>\n",
       "      <td>75</td>\n",
       "      <td>2018090600</td>\n",
       "      <td>2555383</td>\n",
       "      <td>36</td>\n",
       "      <td>2495454</td>\n",
       "      <td>Jalen Mills</td>\n",
       "      <td>1</td>\n",
       "      <td>27.156924</td>\n",
       "      <td>24.178662</td>\n",
       "      <td>...</td>\n",
       "      <td>-1.159231</td>\n",
       "      <td>1.000000</td>\n",
       "      <td>1.000000</td>\n",
       "      <td>2495454</td>\n",
       "      <td>2495454</td>\n",
       "      <td>0.00000</td>\n",
       "      <td>6.19</td>\n",
       "      <td>1</td>\n",
       "      <td>1</td>\n",
       "      <td>1</td>\n",
       "    </tr>\n",
       "    <tr>\n",
       "      <th>1</th>\n",
       "      <td>4.687569</td>\n",
       "      <td>146</td>\n",
       "      <td>2018090600</td>\n",
       "      <td>2555383</td>\n",
       "      <td>31</td>\n",
       "      <td>2560854</td>\n",
       "      <td>Jalen Mills</td>\n",
       "      <td>1</td>\n",
       "      <td>16.225024</td>\n",
       "      <td>11.622517</td>\n",
       "      <td>...</td>\n",
       "      <td>-1.004286</td>\n",
       "      <td>1.000000</td>\n",
       "      <td>1.000000</td>\n",
       "      <td>2560854</td>\n",
       "      <td>2560854</td>\n",
       "      <td>0.00000</td>\n",
       "      <td>7.56</td>\n",
       "      <td>0</td>\n",
       "      <td>1</td>\n",
       "      <td>1</td>\n",
       "    </tr>\n",
       "    <tr>\n",
       "      <th>2</th>\n",
       "      <td>4.243218</td>\n",
       "      <td>190</td>\n",
       "      <td>2018090600</td>\n",
       "      <td>79848</td>\n",
       "      <td>39</td>\n",
       "      <td>2495454</td>\n",
       "      <td>Malcolm Jenkins</td>\n",
       "      <td>1</td>\n",
       "      <td>19.235930</td>\n",
       "      <td>23.477012</td>\n",
       "      <td>...</td>\n",
       "      <td>-2.902759</td>\n",
       "      <td>1.000000</td>\n",
       "      <td>1.000000</td>\n",
       "      <td>2495454</td>\n",
       "      <td>2495454</td>\n",
       "      <td>0.00000</td>\n",
       "      <td>4.31</td>\n",
       "      <td>1</td>\n",
       "      <td>1</td>\n",
       "      <td>1</td>\n",
       "    </tr>\n",
       "    <tr>\n",
       "      <th>3</th>\n",
       "      <td>3.989010</td>\n",
       "      <td>320</td>\n",
       "      <td>2018090600</td>\n",
       "      <td>2539653</td>\n",
       "      <td>29</td>\n",
       "      <td>2552600</td>\n",
       "      <td>Robert Alford</td>\n",
       "      <td>1</td>\n",
       "      <td>17.720553</td>\n",
       "      <td>14.546017</td>\n",
       "      <td>...</td>\n",
       "      <td>-1.560526</td>\n",
       "      <td>0.157895</td>\n",
       "      <td>0.842105</td>\n",
       "      <td>2552600</td>\n",
       "      <td>2540158</td>\n",
       "      <td>0.22807</td>\n",
       "      <td>3.89</td>\n",
       "      <td>1</td>\n",
       "      <td>1</td>\n",
       "      <td>0</td>\n",
       "    </tr>\n",
       "    <tr>\n",
       "      <th>4</th>\n",
       "      <td>2.144108</td>\n",
       "      <td>344</td>\n",
       "      <td>2018090600</td>\n",
       "      <td>2543850</td>\n",
       "      <td>34</td>\n",
       "      <td>2506467</td>\n",
       "      <td>Ricardo Allen</td>\n",
       "      <td>1</td>\n",
       "      <td>17.089798</td>\n",
       "      <td>15.135283</td>\n",
       "      <td>...</td>\n",
       "      <td>-2.086667</td>\n",
       "      <td>0.458333</td>\n",
       "      <td>0.541667</td>\n",
       "      <td>2506467</td>\n",
       "      <td>2507763</td>\n",
       "      <td>0.11413</td>\n",
       "      <td>6.76</td>\n",
       "      <td>0</td>\n",
       "      <td>1</td>\n",
       "      <td>0</td>\n",
       "    </tr>\n",
       "  </tbody>\n",
       "</table>\n",
       "<p>5 rows × 67 columns</p>\n",
       "</div>"
      ],
      "text/plain": [
       "   dist_from_off  playId      gameId    nflId  frameId  off_nflId  \\\n",
       "0       4.160048      75  2018090600  2555383       36    2495454   \n",
       "1       4.687569     146  2018090600  2555383       31    2560854   \n",
       "2       4.243218     190  2018090600    79848       39    2495454   \n",
       "3       3.989010     320  2018090600  2539653       29    2552600   \n",
       "4       2.144108     344  2018090600  2543850       34    2506467   \n",
       "\n",
       "       displayName  nearest_is_target  distanceFromBall.x  \\\n",
       "0      Jalen Mills                  1           27.156924   \n",
       "1      Jalen Mills                  1           16.225024   \n",
       "2  Malcolm Jenkins                  1           19.235930   \n",
       "3    Robert Alford                  1           17.720553   \n",
       "4    Ricardo Allen                  1           17.089798   \n",
       "\n",
       "   off_distanceFromBall  ...  avg_speed_diff  pct_first_off  pct_last_off  \\\n",
       "0             24.178662  ...       -1.159231       1.000000      1.000000   \n",
       "1             11.622517  ...       -1.004286       1.000000      1.000000   \n",
       "2             23.477012  ...       -2.902759       1.000000      1.000000   \n",
       "3             14.546017  ...       -1.560526       0.157895      0.842105   \n",
       "4             15.135283  ...       -2.086667       0.458333      0.541667   \n",
       "\n",
       "   last_off  first_off  var_look_at_qb  dist_los  complete  covering_target  \\\n",
       "0   2495454    2495454         0.00000      6.19         1                1   \n",
       "1   2560854    2560854         0.00000      7.56         0                1   \n",
       "2   2495454    2495454         0.00000      4.31         1                1   \n",
       "3   2552600    2540158         0.22807      3.89         1                1   \n",
       "4   2506467    2507763         0.11413      6.76         0                1   \n",
       "\n",
       "  covering_first_off  \n",
       "0                  1  \n",
       "1                  1  \n",
       "2                  1  \n",
       "3                  0  \n",
       "4                  0  \n",
       "\n",
       "[5 rows x 67 columns]"
      ]
     },
     "execution_count": 2,
     "metadata": {},
     "output_type": "execute_result"
    }
   ],
   "source": [
    "data = pd.read_csv('../input/pre-rand-forest/rand_forest.csv')\n",
    "data.drop('Unnamed: 0', axis=1, inplace=True)\n",
    "data.head()"
   ]
  },
  {
   "cell_type": "code",
   "execution_count": 3,
   "metadata": {
    "execution": {
     "iopub.execute_input": "2020-12-29T02:04:11.932144Z",
     "iopub.status.busy": "2020-12-29T02:04:11.931495Z",
     "iopub.status.idle": "2020-12-29T02:04:11.935784Z",
     "shell.execute_reply": "2020-12-29T02:04:11.935289Z"
    },
    "papermill": {
     "duration": 0.025059,
     "end_time": "2020-12-29T02:04:11.935896",
     "exception": false,
     "start_time": "2020-12-29T02:04:11.910837",
     "status": "completed"
    },
    "tags": []
   },
   "outputs": [
    {
     "data": {
      "text/plain": [
       "Index(['dist_from_off', 'playId', 'gameId', 'nflId', 'frameId', 'off_nflId',\n",
       "       'displayName', 'nearest_is_target', 'distanceFromBall.x',\n",
       "       'off_distanceFromBall', 'ball_behind_db', 'diff_in_speed',\n",
       "       'diff_in_acceleration', 'diff_in_dir', 'receiver_behind_db',\n",
       "       'receiver_distance_from_qb', 'num_of_receivers_nearest',\n",
       "       'dist_rate_of_change', 'his_off_most_open', 'passResult', 'targetNflId',\n",
       "       'x', 'y', 'o', 'dir', 's', 'a', 'event', 'epa', 'position', 'route',\n",
       "       'isDefensivePI', 'targetedReceiver', 'team_name', 'ball_x', 'ball_y',\n",
       "       'ball_snap_x', 'max_space_available', 'target_x', 'target_y', 'qb_x',\n",
       "       'qb_y', 'qb_s', 'qb_a', 'distanceFromBall.y', 'distanceFromTarget',\n",
       "       'distance_from_qb', 'snap_to_throw', 'var_xs', 'var_ys', 'var_o',\n",
       "       'avg_speed', 'var_speed', 'look_at_qb', 'avg_dist', 'var_dist',\n",
       "       'avg_dir_diff', 'avg_speed_diff', 'pct_first_off', 'pct_last_off',\n",
       "       'last_off', 'first_off', 'var_look_at_qb', 'dist_los', 'complete',\n",
       "       'covering_target', 'covering_first_off'],\n",
       "      dtype='object')"
      ]
     },
     "execution_count": 3,
     "metadata": {},
     "output_type": "execute_result"
    }
   ],
   "source": [
    "data.columns"
   ]
  },
  {
   "cell_type": "code",
   "execution_count": 4,
   "metadata": {
    "execution": {
     "iopub.execute_input": "2020-12-29T02:04:11.979706Z",
     "iopub.status.busy": "2020-12-29T02:04:11.978928Z",
     "iopub.status.idle": "2020-12-29T02:04:12.043153Z",
     "shell.execute_reply": "2020-12-29T02:04:12.043666Z"
    },
    "papermill": {
     "duration": 0.091774,
     "end_time": "2020-12-29T02:04:12.043815",
     "exception": false,
     "start_time": "2020-12-29T02:04:11.952041",
     "status": "completed"
    },
    "tags": []
   },
   "outputs": [
    {
     "data": {
      "text/html": [
       "<div>\n",
       "<style scoped>\n",
       "    .dataframe tbody tr th:only-of-type {\n",
       "        vertical-align: middle;\n",
       "    }\n",
       "\n",
       "    .dataframe tbody tr th {\n",
       "        vertical-align: top;\n",
       "    }\n",
       "\n",
       "    .dataframe thead th {\n",
       "        text-align: right;\n",
       "    }\n",
       "</style>\n",
       "<table border=\"1\" class=\"dataframe\">\n",
       "  <thead>\n",
       "    <tr style=\"text-align: right;\">\n",
       "      <th></th>\n",
       "      <th>index</th>\n",
       "      <th>complete</th>\n",
       "      <th>isDefensivePI</th>\n",
       "      <th>dist_from_off</th>\n",
       "      <th>dist_los</th>\n",
       "      <th>passResult</th>\n",
       "      <th>qb_s</th>\n",
       "      <th>qb_a</th>\n",
       "      <th>max_space_available</th>\n",
       "      <th>distance_from_qb</th>\n",
       "      <th>...</th>\n",
       "      <th>his_off_most_open</th>\n",
       "      <th>receiver_behind_db</th>\n",
       "      <th>dist_rate_of_change</th>\n",
       "      <th>gameId</th>\n",
       "      <th>playId</th>\n",
       "      <th>frameId</th>\n",
       "      <th>off_nflId</th>\n",
       "      <th>nflId</th>\n",
       "      <th>displayName</th>\n",
       "      <th>event</th>\n",
       "    </tr>\n",
       "  </thead>\n",
       "  <tbody>\n",
       "    <tr>\n",
       "      <th>0</th>\n",
       "      <td>0</td>\n",
       "      <td>1</td>\n",
       "      <td>False</td>\n",
       "      <td>4.160048</td>\n",
       "      <td>6.19</td>\n",
       "      <td>C</td>\n",
       "      <td>0.84</td>\n",
       "      <td>2.05</td>\n",
       "      <td>90.11</td>\n",
       "      <td>26.933854</td>\n",
       "      <td>...</td>\n",
       "      <td>0.0</td>\n",
       "      <td>4.16</td>\n",
       "      <td>0.077024</td>\n",
       "      <td>2018090600</td>\n",
       "      <td>75</td>\n",
       "      <td>36</td>\n",
       "      <td>2495454</td>\n",
       "      <td>2555383</td>\n",
       "      <td>Jalen Mills</td>\n",
       "      <td>pass_forward</td>\n",
       "    </tr>\n",
       "    <tr>\n",
       "      <th>1</th>\n",
       "      <td>1</td>\n",
       "      <td>0</td>\n",
       "      <td>False</td>\n",
       "      <td>4.687569</td>\n",
       "      <td>7.56</td>\n",
       "      <td>I</td>\n",
       "      <td>0.46</td>\n",
       "      <td>2.25</td>\n",
       "      <td>49.17</td>\n",
       "      <td>15.607181</td>\n",
       "      <td>...</td>\n",
       "      <td>0.0</td>\n",
       "      <td>4.23</td>\n",
       "      <td>-0.237617</td>\n",
       "      <td>2018090600</td>\n",
       "      <td>146</td>\n",
       "      <td>31</td>\n",
       "      <td>2560854</td>\n",
       "      <td>2555383</td>\n",
       "      <td>Jalen Mills</td>\n",
       "      <td>pass_forward</td>\n",
       "    </tr>\n",
       "    <tr>\n",
       "      <th>2</th>\n",
       "      <td>2</td>\n",
       "      <td>1</td>\n",
       "      <td>False</td>\n",
       "      <td>4.243218</td>\n",
       "      <td>4.31</td>\n",
       "      <td>C</td>\n",
       "      <td>2.38</td>\n",
       "      <td>0.91</td>\n",
       "      <td>50.00</td>\n",
       "      <td>18.825995</td>\n",
       "      <td>...</td>\n",
       "      <td>0.0</td>\n",
       "      <td>-4.07</td>\n",
       "      <td>0.912738</td>\n",
       "      <td>2018090600</td>\n",
       "      <td>190</td>\n",
       "      <td>39</td>\n",
       "      <td>2495454</td>\n",
       "      <td>79848</td>\n",
       "      <td>Malcolm Jenkins</td>\n",
       "      <td>pass_forward</td>\n",
       "    </tr>\n",
       "    <tr>\n",
       "      <th>3</th>\n",
       "      <td>3</td>\n",
       "      <td>1</td>\n",
       "      <td>False</td>\n",
       "      <td>3.989010</td>\n",
       "      <td>3.89</td>\n",
       "      <td>C</td>\n",
       "      <td>1.15</td>\n",
       "      <td>1.57</td>\n",
       "      <td>106.69</td>\n",
       "      <td>17.422873</td>\n",
       "      <td>...</td>\n",
       "      <td>0.0</td>\n",
       "      <td>3.91</td>\n",
       "      <td>-0.188624</td>\n",
       "      <td>2018090600</td>\n",
       "      <td>320</td>\n",
       "      <td>29</td>\n",
       "      <td>2552600</td>\n",
       "      <td>2539653</td>\n",
       "      <td>Robert Alford</td>\n",
       "      <td>pass_forward</td>\n",
       "    </tr>\n",
       "    <tr>\n",
       "      <th>4</th>\n",
       "      <td>4</td>\n",
       "      <td>0</td>\n",
       "      <td>False</td>\n",
       "      <td>2.144108</td>\n",
       "      <td>6.76</td>\n",
       "      <td>I</td>\n",
       "      <td>1.02</td>\n",
       "      <td>0.81</td>\n",
       "      <td>103.16</td>\n",
       "      <td>16.891823</td>\n",
       "      <td>...</td>\n",
       "      <td>0.0</td>\n",
       "      <td>2.04</td>\n",
       "      <td>-0.380287</td>\n",
       "      <td>2018090600</td>\n",
       "      <td>344</td>\n",
       "      <td>34</td>\n",
       "      <td>2506467</td>\n",
       "      <td>2543850</td>\n",
       "      <td>Ricardo Allen</td>\n",
       "      <td>pass_forward</td>\n",
       "    </tr>\n",
       "  </tbody>\n",
       "</table>\n",
       "<p>5 rows × 25 columns</p>\n",
       "</div>"
      ],
      "text/plain": [
       "   index  complete  isDefensivePI  dist_from_off  dist_los passResult  qb_s  \\\n",
       "0      0         1          False       4.160048      6.19          C  0.84   \n",
       "1      1         0          False       4.687569      7.56          I  0.46   \n",
       "2      2         1          False       4.243218      4.31          C  2.38   \n",
       "3      3         1          False       3.989010      3.89          C  1.15   \n",
       "4      4         0          False       2.144108      6.76          I  1.02   \n",
       "\n",
       "   qb_a  max_space_available  distance_from_qb  ...  his_off_most_open  \\\n",
       "0  2.05                90.11         26.933854  ...                0.0   \n",
       "1  2.25                49.17         15.607181  ...                0.0   \n",
       "2  0.91                50.00         18.825995  ...                0.0   \n",
       "3  1.57               106.69         17.422873  ...                0.0   \n",
       "4  0.81               103.16         16.891823  ...                0.0   \n",
       "\n",
       "   receiver_behind_db  dist_rate_of_change      gameId  playId  frameId  \\\n",
       "0                4.16             0.077024  2018090600      75       36   \n",
       "1                4.23            -0.237617  2018090600     146       31   \n",
       "2               -4.07             0.912738  2018090600     190       39   \n",
       "3                3.91            -0.188624  2018090600     320       29   \n",
       "4                2.04            -0.380287  2018090600     344       34   \n",
       "\n",
       "   off_nflId    nflId      displayName         event  \n",
       "0    2495454  2555383      Jalen Mills  pass_forward  \n",
       "1    2560854  2555383      Jalen Mills  pass_forward  \n",
       "2    2495454    79848  Malcolm Jenkins  pass_forward  \n",
       "3    2552600  2539653    Robert Alford  pass_forward  \n",
       "4    2506467  2543850    Ricardo Allen  pass_forward  \n",
       "\n",
       "[5 rows x 25 columns]"
      ]
     },
     "execution_count": 4,
     "metadata": {},
     "output_type": "execute_result"
    }
   ],
   "source": [
    "data = data[['complete', 'isDefensivePI', 'dist_from_off', 'dist_los', 'passResult',\n",
    "             'qb_s', 'qb_a', 'max_space_available', 'distance_from_qb', 'receiver_distance_from_qb',\n",
    "             'ball_behind_db', 'diff_in_speed', 'diff_in_acceleration', 'diff_in_dir',\n",
    "             'his_off_most_open', 'receiver_behind_db', 'dist_rate_of_change',\n",
    "             'gameId', 'playId', 'frameId', 'off_nflId', 'nflId', 'displayName', 'event']]\n",
    "data = data[(data.isDefensivePI != True) & (data.passResult != 'S')]\n",
    "\n",
    "# holding_data.to_csv('holding_data.csv')\n",
    "\n",
    "data.dropna(inplace=True)\n",
    "data.reset_index(inplace=True)\n",
    "\n",
    "holding_data = data[['gameId', 'playId', 'frameId', 'off_nflId', 'nflId', 'displayName', 'event']]\n",
    "\n",
    "data.head()"
   ]
  },
  {
   "cell_type": "code",
   "execution_count": 5,
   "metadata": {
    "execution": {
     "iopub.execute_input": "2020-12-29T02:04:12.084377Z",
     "iopub.status.busy": "2020-12-29T02:04:12.083678Z",
     "iopub.status.idle": "2020-12-29T02:04:12.086708Z",
     "shell.execute_reply": "2020-12-29T02:04:12.086082Z"
    },
    "papermill": {
     "duration": 0.02688,
     "end_time": "2020-12-29T02:04:12.086826",
     "exception": false,
     "start_time": "2020-12-29T02:04:12.059946",
     "status": "completed"
    },
    "tags": []
   },
   "outputs": [],
   "source": [
    "y_data = np.array(data['complete'])\n",
    "x_data = data.drop(['complete', 'index', \"isDefensivePI\", 'passResult',\n",
    "                   'gameId', 'playId', 'frameId', 'off_nflId', 'nflId', 'displayName', 'event'], axis = 1)"
   ]
  },
  {
   "cell_type": "code",
   "execution_count": 6,
   "metadata": {
    "execution": {
     "iopub.execute_input": "2020-12-29T02:04:12.139123Z",
     "iopub.status.busy": "2020-12-29T02:04:12.138473Z",
     "iopub.status.idle": "2020-12-29T02:04:12.142612Z",
     "shell.execute_reply": "2020-12-29T02:04:12.143102Z"
    },
    "papermill": {
     "duration": 0.040032,
     "end_time": "2020-12-29T02:04:12.143267",
     "exception": false,
     "start_time": "2020-12-29T02:04:12.103235",
     "status": "completed"
    },
    "tags": []
   },
   "outputs": [
    {
     "data": {
      "text/html": [
       "<div>\n",
       "<style scoped>\n",
       "    .dataframe tbody tr th:only-of-type {\n",
       "        vertical-align: middle;\n",
       "    }\n",
       "\n",
       "    .dataframe tbody tr th {\n",
       "        vertical-align: top;\n",
       "    }\n",
       "\n",
       "    .dataframe thead th {\n",
       "        text-align: right;\n",
       "    }\n",
       "</style>\n",
       "<table border=\"1\" class=\"dataframe\">\n",
       "  <thead>\n",
       "    <tr style=\"text-align: right;\">\n",
       "      <th></th>\n",
       "      <th>dist_from_off</th>\n",
       "      <th>dist_los</th>\n",
       "      <th>qb_s</th>\n",
       "      <th>qb_a</th>\n",
       "      <th>max_space_available</th>\n",
       "      <th>distance_from_qb</th>\n",
       "      <th>receiver_distance_from_qb</th>\n",
       "      <th>ball_behind_db</th>\n",
       "      <th>diff_in_speed</th>\n",
       "      <th>diff_in_acceleration</th>\n",
       "      <th>diff_in_dir</th>\n",
       "      <th>his_off_most_open</th>\n",
       "      <th>receiver_behind_db</th>\n",
       "      <th>dist_rate_of_change</th>\n",
       "    </tr>\n",
       "  </thead>\n",
       "  <tbody>\n",
       "    <tr>\n",
       "      <th>0</th>\n",
       "      <td>4.160048</td>\n",
       "      <td>6.19</td>\n",
       "      <td>0.84</td>\n",
       "      <td>2.05</td>\n",
       "      <td>90.11</td>\n",
       "      <td>26.933854</td>\n",
       "      <td>24.009259</td>\n",
       "      <td>0.0</td>\n",
       "      <td>1.57</td>\n",
       "      <td>-4.49</td>\n",
       "      <td>20.40</td>\n",
       "      <td>0.0</td>\n",
       "      <td>4.16</td>\n",
       "      <td>0.077024</td>\n",
       "    </tr>\n",
       "    <tr>\n",
       "      <th>1</th>\n",
       "      <td>4.687569</td>\n",
       "      <td>7.56</td>\n",
       "      <td>0.46</td>\n",
       "      <td>2.25</td>\n",
       "      <td>49.17</td>\n",
       "      <td>15.607181</td>\n",
       "      <td>11.034174</td>\n",
       "      <td>0.0</td>\n",
       "      <td>0.91</td>\n",
       "      <td>2.42</td>\n",
       "      <td>129.71</td>\n",
       "      <td>0.0</td>\n",
       "      <td>4.23</td>\n",
       "      <td>-0.237617</td>\n",
       "    </tr>\n",
       "    <tr>\n",
       "      <th>2</th>\n",
       "      <td>4.243218</td>\n",
       "      <td>4.31</td>\n",
       "      <td>2.38</td>\n",
       "      <td>0.91</td>\n",
       "      <td>50.00</td>\n",
       "      <td>18.825995</td>\n",
       "      <td>23.063187</td>\n",
       "      <td>0.0</td>\n",
       "      <td>-6.18</td>\n",
       "      <td>0.31</td>\n",
       "      <td>86.32</td>\n",
       "      <td>0.0</td>\n",
       "      <td>-4.07</td>\n",
       "      <td>0.912738</td>\n",
       "    </tr>\n",
       "    <tr>\n",
       "      <th>3</th>\n",
       "      <td>3.989010</td>\n",
       "      <td>3.89</td>\n",
       "      <td>1.15</td>\n",
       "      <td>1.57</td>\n",
       "      <td>106.69</td>\n",
       "      <td>17.422873</td>\n",
       "      <td>14.197003</td>\n",
       "      <td>0.0</td>\n",
       "      <td>-2.51</td>\n",
       "      <td>0.26</td>\n",
       "      <td>27.11</td>\n",
       "      <td>0.0</td>\n",
       "      <td>3.91</td>\n",
       "      <td>-0.188624</td>\n",
       "    </tr>\n",
       "    <tr>\n",
       "      <th>4</th>\n",
       "      <td>2.144108</td>\n",
       "      <td>6.76</td>\n",
       "      <td>1.02</td>\n",
       "      <td>0.81</td>\n",
       "      <td>103.16</td>\n",
       "      <td>16.891823</td>\n",
       "      <td>14.908363</td>\n",
       "      <td>0.0</td>\n",
       "      <td>-2.39</td>\n",
       "      <td>-1.70</td>\n",
       "      <td>310.64</td>\n",
       "      <td>0.0</td>\n",
       "      <td>2.04</td>\n",
       "      <td>-0.380287</td>\n",
       "    </tr>\n",
       "  </tbody>\n",
       "</table>\n",
       "</div>"
      ],
      "text/plain": [
       "   dist_from_off  dist_los  qb_s  qb_a  max_space_available  distance_from_qb  \\\n",
       "0       4.160048      6.19  0.84  2.05                90.11         26.933854   \n",
       "1       4.687569      7.56  0.46  2.25                49.17         15.607181   \n",
       "2       4.243218      4.31  2.38  0.91                50.00         18.825995   \n",
       "3       3.989010      3.89  1.15  1.57               106.69         17.422873   \n",
       "4       2.144108      6.76  1.02  0.81               103.16         16.891823   \n",
       "\n",
       "   receiver_distance_from_qb  ball_behind_db  diff_in_speed  \\\n",
       "0                  24.009259             0.0           1.57   \n",
       "1                  11.034174             0.0           0.91   \n",
       "2                  23.063187             0.0          -6.18   \n",
       "3                  14.197003             0.0          -2.51   \n",
       "4                  14.908363             0.0          -2.39   \n",
       "\n",
       "   diff_in_acceleration  diff_in_dir  his_off_most_open  receiver_behind_db  \\\n",
       "0                 -4.49        20.40                0.0                4.16   \n",
       "1                  2.42       129.71                0.0                4.23   \n",
       "2                  0.31        86.32                0.0               -4.07   \n",
       "3                  0.26        27.11                0.0                3.91   \n",
       "4                 -1.70       310.64                0.0                2.04   \n",
       "\n",
       "   dist_rate_of_change  \n",
       "0             0.077024  \n",
       "1            -0.237617  \n",
       "2             0.912738  \n",
       "3            -0.188624  \n",
       "4            -0.380287  "
      ]
     },
     "execution_count": 6,
     "metadata": {},
     "output_type": "execute_result"
    }
   ],
   "source": [
    "x_data.head()"
   ]
  },
  {
   "cell_type": "code",
   "execution_count": 7,
   "metadata": {
    "execution": {
     "iopub.execute_input": "2020-12-29T02:04:12.187124Z",
     "iopub.status.busy": "2020-12-29T02:04:12.184843Z",
     "iopub.status.idle": "2020-12-29T02:04:12.190077Z",
     "shell.execute_reply": "2020-12-29T02:04:12.190554Z"
    },
    "papermill": {
     "duration": 0.030554,
     "end_time": "2020-12-29T02:04:12.190767",
     "exception": false,
     "start_time": "2020-12-29T02:04:12.160213",
     "status": "completed"
    },
    "tags": []
   },
   "outputs": [],
   "source": [
    "def trainSets(x_data,y_data):\n",
    "    # args: pandas dataframe, pandas dataframe\n",
    "    # return: pandas dataframe, pandas dataframe, pandas series, pandas series\n",
    "    x_train, x_test, y_train, y_test = train_test_split(\n",
    "        x_data, y_data,\n",
    "        test_size=0.15, train_size=.85,\n",
    "        random_state=614, shuffle=True)\n",
    "    return x_train, x_test, y_train, y_test\n",
    "model_data = trainSets(x_data, y_data)"
   ]
  },
  {
   "cell_type": "code",
   "execution_count": 8,
   "metadata": {
    "_cell_guid": "79c7e3d0-c299-4dcb-8224-4455121ee9b0",
    "_uuid": "d629ff2d2480ee46fbb7e2d37f6b5fab8052498a",
    "execution": {
     "iopub.execute_input": "2020-12-29T02:04:12.243250Z",
     "iopub.status.busy": "2020-12-29T02:04:12.242581Z",
     "iopub.status.idle": "2020-12-29T02:04:12.245706Z",
     "shell.execute_reply": "2020-12-29T02:04:12.245176Z"
    },
    "papermill": {
     "duration": 0.03819,
     "end_time": "2020-12-29T02:04:12.245818",
     "exception": false,
     "start_time": "2020-12-29T02:04:12.207628",
     "status": "completed"
    },
    "tags": []
   },
   "outputs": [],
   "source": [
    "class RFClassifier():\n",
    "    def randomForestClassifier(self,x_train, x_test, y_train):\n",
    "        # args: pandas dataframe, pandas dataframe, pandas series\n",
    "        # return: RandomForestClassifier object, numpy array, numpy array\n",
    "        rf_clf = RandomForestClassifier(random_state=614,\n",
    "                                        max_depth = 20,\n",
    "                                        max_features = 'auto',\n",
    "                                        min_samples_leaf = 2,\n",
    "                                        min_samples_split = 10,\n",
    "                                        n_estimators = 200)\n",
    "        rf_clf.fit(x_train, y_train)\n",
    "        y_predict_train = rf_clf.predict(x_train)\n",
    "        y_predict_train = np.array(y_predict_train)\n",
    "        y_predict_test = rf_clf.predict(x_test)\n",
    "        y_predict_test = np.array(y_predict_test)\n",
    "        \n",
    "        return rf_clf, y_predict_train, y_predict_test\n",
    "    \n",
    "    def rfTrainAccuracy(self,y_train,y_predict_train):\n",
    "        # args: pandas series, numpy array\n",
    "        # return: float\n",
    "        y_predict_train = np.rint(y_predict_train)\n",
    "        train_accuracy = accuracy_score(y_train, y_predict_train)\n",
    "        return train_accuracy\n",
    "    \n",
    "    def rfTestAccuracy(self,y_test,y_predict_test):\n",
    "        # args: pandas series, numpy array\n",
    "        # return: float\n",
    "        y_predict_test = np.rint(y_predict_test)\n",
    "        test_accuracy = accuracy_score(y_test, y_predict_test)\n",
    "        return test_accuracy\n",
    "\n",
    "    def rfFeatureImportance(self,rf_clf):\n",
    "        # args: RandomForestClassifier object\n",
    "        # return: float array\n",
    "        feature_importance = rf_clf.feature_importances_\n",
    "        # std = np.std([tree.feature_importances_ for tree in rf_clf.estimators_],\n",
    "        #      axis=0)\n",
    "        # indices = np.argsort(importances)[::-1]\n",
    "        return feature_importance\n",
    "    \n",
    "    def sortedRFFeatureImportanceIndicies(self,rf_clf):\n",
    "        # args: RandomForestClassifier object\n",
    "        # return: int array\n",
    "        importances = rf_clf.feature_importances_\n",
    "\n",
    "        sorted_indices = np.argsort(importances)[::-1]\n",
    "        # -------------------------------\n",
    "        return sorted_indices\n",
    "    \n",
    "    def hyperParameterTuning(self,rf_clf,x_train,y_train):\n",
    "        # args: RandomForestClassifier object, pandas dataframe, pandas series\n",
    "        # return: GridSearchCV object\n",
    "        parameters = {'max_depth': [5, 10, 20, 30],\n",
    "                      'max_features': ['auto', 'sqrt'],\n",
    "                      'min_samples_leaf': [1, 2, 4],\n",
    "                      'min_samples_split': [2, 5, 10],\n",
    "                      'n_estimators': [50, 100, 200, 250, 400]}\n",
    "        gscv_rfc = GridSearchCV(rf_clf, parameters)\n",
    "        gscv_rfc.fit(x_train, y_train)\n",
    "        return gscv_rfc\n",
    "    \n",
    "    def bestParams(self,gscv_rfc):\n",
    "        # args:  GridSearchCV object\n",
    "        # return: parameter dict\n",
    "        best_params = gscv_rfc.best_params_\n",
    "        return best_params\n",
    "    \n",
    "    def bestScore(self,gscv_rfc):\n",
    "        # args: GridSearchCV object\n",
    "        # return: float\n",
    "        best_score = gscv_rfc.best_score_\n",
    "        return best_score"
   ]
  },
  {
   "cell_type": "code",
   "execution_count": 9,
   "metadata": {
    "execution": {
     "iopub.execute_input": "2020-12-29T02:04:12.285650Z",
     "iopub.status.busy": "2020-12-29T02:04:12.284970Z",
     "iopub.status.idle": "2020-12-29T02:04:12.287041Z",
     "shell.execute_reply": "2020-12-29T02:04:12.287633Z"
    },
    "papermill": {
     "duration": 0.024482,
     "end_time": "2020-12-29T02:04:12.287769",
     "exception": false,
     "start_time": "2020-12-29T02:04:12.263287",
     "status": "completed"
    },
    "tags": []
   },
   "outputs": [],
   "source": [
    "train_x = model_data[0]\n",
    "test_x = model_data[1]\n",
    "train_y = model_data[2]\n",
    "test_y = model_data[3]"
   ]
  },
  {
   "cell_type": "code",
   "execution_count": 10,
   "metadata": {
    "execution": {
     "iopub.execute_input": "2020-12-29T02:04:12.325638Z",
     "iopub.status.busy": "2020-12-29T02:04:12.324964Z",
     "iopub.status.idle": "2020-12-29T02:04:17.712760Z",
     "shell.execute_reply": "2020-12-29T02:04:17.712165Z"
    },
    "papermill": {
     "duration": 5.407595,
     "end_time": "2020-12-29T02:04:17.712882",
     "exception": false,
     "start_time": "2020-12-29T02:04:12.305287",
     "status": "completed"
    },
    "tags": []
   },
   "outputs": [
    {
     "name": "stdout",
     "output_type": "stream",
     "text": [
      "Train Acc:\n",
      "0.9547285632073662\n",
      "Test Acc:\n",
      "0.7576086956521739\n",
      "Recall:\n",
      "0.8360975609756097\n",
      "Precision:\n",
      "0.7550660792951542\n",
      "F1 Score:\n",
      "0.7935185185185186\n",
      "Feature Importance: \n",
      "[0.13917829 0.07313586 0.06832649 0.05560566 0.08087728 0.07182111\n",
      " 0.08411435 0.00039031 0.06825963 0.06630396 0.08467724 0.00279306\n",
      " 0.10413997 0.1003768 ]\n",
      "Sorted Indices:\n",
      "[ 0 12 13 10  6  4  1  5  2  8  9  3 11  7]\n"
     ]
    }
   ],
   "source": [
    "rf = RFClassifier()\n",
    "model = rf.randomForestClassifier(train_x, test_x, train_y)\n",
    "pred_y_train = model[1]\n",
    "pred_y_test = model[2]\n",
    "model = model[0]\n",
    "\n",
    "print(\"Train Acc:\")\n",
    "print(rf.rfTrainAccuracy(train_y, pred_y_train))\n",
    "print(\"Test Acc:\")\n",
    "print(rf.rfTestAccuracy(test_y, pred_y_test))\n",
    "print('Recall:')\n",
    "print(recall_score(test_y, pred_y_test))\n",
    "print('Precision:')\n",
    "print(precision_score(test_y, pred_y_test))\n",
    "print('F1 Score:')\n",
    "print(f1_score(test_y, pred_y_test))\n",
    "\n",
    "\n",
    "print(\"Feature Importance: \") \n",
    "print(rf.rfFeatureImportance(model))\n",
    "\n",
    "print(\"Sorted Indices:\")\n",
    "print(rf.sortedRFFeatureImportanceIndicies(model))\n",
    "\n",
    "# gridCV = rf.hyperParameterTuning(model, train_x, train_y)\n",
    "\n",
    "# print(\"Best Params:\")\n",
    "# print(rf.bestParams(gridCV))\n",
    "# best_params = rf.bestParams(gridCV)\n",
    "\n",
    "# print(\"Best Score:\")\n",
    "# print(rf.bestScore(gridCV))\n",
    "\n",
    "# best params: {'max_depth': 20, 'max_features': 'auto', 'min_samples_leaf': 2, 'min_samples_split': 10, 'n_estimators': 200}"
   ]
  },
  {
   "cell_type": "code",
   "execution_count": 11,
   "metadata": {
    "execution": {
     "iopub.execute_input": "2020-12-29T02:04:17.755676Z",
     "iopub.status.busy": "2020-12-29T02:04:17.754961Z",
     "iopub.status.idle": "2020-12-29T02:04:18.060940Z",
     "shell.execute_reply": "2020-12-29T02:04:18.060353Z"
    },
    "papermill": {
     "duration": 0.330267,
     "end_time": "2020-12-29T02:04:18.061049",
     "exception": false,
     "start_time": "2020-12-29T02:04:17.730782",
     "status": "completed"
    },
    "tags": []
   },
   "outputs": [
    {
     "data": {
      "text/plain": [
       "<sklearn.metrics._plot.precision_recall_curve.PrecisionRecallDisplay at 0x7fabb967f590>"
      ]
     },
     "execution_count": 11,
     "metadata": {},
     "output_type": "execute_result"
    },
    {
     "data": {
      "image/png": "[encoded data removed]",
      "text/plain": [
       "<Figure size 432x288 with 1 Axes>"
      ]
     },
     "metadata": {
      "needs_background": "light"
     },
     "output_type": "display_data"
    }
   ],
   "source": [
    "plot_precision_recall_curve(model, test_x, test_y)"
   ]
  },
  {
   "cell_type": "code",
   "execution_count": 12,
   "metadata": {
    "execution": {
     "iopub.execute_input": "2020-12-29T02:04:18.110059Z",
     "iopub.status.busy": "2020-12-29T02:04:18.108974Z",
     "iopub.status.idle": "2020-12-29T02:04:18.584757Z",
     "shell.execute_reply": "2020-12-29T02:04:18.583994Z"
    },
    "papermill": {
     "duration": 0.504203,
     "end_time": "2020-12-29T02:04:18.584878",
     "exception": false,
     "start_time": "2020-12-29T02:04:18.080675",
     "status": "completed"
    },
    "tags": []
   },
   "outputs": [
    {
     "data": {
      "text/plain": [
       "[Text(0, 0, 'dist_from_off'),\n",
       " Text(0, 0, 'dist_los'),\n",
       " Text(0, 0, 'qb_s'),\n",
       " Text(0, 0, 'qb_a'),\n",
       " Text(0, 0, 'max_space_available'),\n",
       " Text(0, 0, 'distance_from_qb'),\n",
       " Text(0, 0, 'receiver_distance_from_qb'),\n",
       " Text(0, 0, 'ball_behind_db'),\n",
       " Text(0, 0, 'diff_in_speed'),\n",
       " Text(0, 0, 'diff_in_acceleration'),\n",
       " Text(0, 0, 'diff_in_dir'),\n",
       " Text(0, 0, 'his_off_most_open'),\n",
       " Text(0, 0, 'receiver_behind_db'),\n",
       " Text(0, 0, 'dist_rate_of_change')]"
      ]
     },
     "execution_count": 12,
     "metadata": {},
     "output_type": "execute_result"
    },
    {
     "data": {
      "image/png": "[encoded data removed]",
      "text/plain": [
       "<Figure size 432x288 with 1 Axes>"
      ]
     },
     "metadata": {
      "needs_background": "light"
     },
     "output_type": "display_data"
    }
   ],
   "source": [
    "feat_imp = pd.DataFrame(train_x.columns, rf.rfFeatureImportance(model)).reset_index()\n",
    "feat_imp.columns = ['Importance', 'Feature']\n",
    "\n",
    "import seaborn as sns\n",
    "import matplotlib.pyplot as plt\n",
    "\n",
    "g = sns.barplot(x=\"Feature\", y=\"Importance\", data=feat_imp)\n",
    "g.set_xticklabels(g.get_xticklabels(), rotation=90)"
   ]
  },
  {
   "cell_type": "code",
   "execution_count": 13,
   "metadata": {
    "execution": {
     "iopub.execute_input": "2020-12-29T02:04:18.637553Z",
     "iopub.status.busy": "2020-12-29T02:04:18.636559Z",
     "iopub.status.idle": "2020-12-29T02:04:18.893342Z",
     "shell.execute_reply": "2020-12-29T02:04:18.893815Z"
    },
    "papermill": {
     "duration": 0.28191,
     "end_time": "2020-12-29T02:04:18.893964",
     "exception": false,
     "start_time": "2020-12-29T02:04:18.612054",
     "status": "completed"
    },
    "tags": []
   },
   "outputs": [
    {
     "data": {
      "text/plain": [
       "<sklearn.metrics._plot.roc_curve.RocCurveDisplay at 0x7fabb9104e90>"
      ]
     },
     "execution_count": 13,
     "metadata": {},
     "output_type": "execute_result"
    },
    {
     "data": {
      "image/png": "[encoded data removed]",
      "text/plain": [
       "<Figure size 432x288 with 1 Axes>"
      ]
     },
     "metadata": {
      "needs_background": "light"
     },
     "output_type": "display_data"
    }
   ],
   "source": [
    "plot_roc_curve(model, test_x, test_y)"
   ]
  },
  {
   "cell_type": "code",
   "execution_count": 14,
   "metadata": {
    "execution": {
     "iopub.execute_input": "2020-12-29T02:04:18.943529Z",
     "iopub.status.busy": "2020-12-29T02:04:18.942548Z",
     "iopub.status.idle": "2020-12-29T02:04:37.496473Z",
     "shell.execute_reply": "2020-12-29T02:04:37.497012Z"
    },
    "papermill": {
     "duration": 18.580545,
     "end_time": "2020-12-29T02:04:37.497175",
     "exception": false,
     "start_time": "2020-12-29T02:04:18.916630",
     "status": "completed"
    },
    "tags": []
   },
   "outputs": [
    {
     "data": {
      "text/plain": [
       "(3510738, 22)"
      ]
     },
     "execution_count": 14,
     "metadata": {},
     "output_type": "execute_result"
    }
   ],
   "source": [
    "pred_data = pd.read_csv('../input/pre-rand-forest/rf_pred.csv')\n",
    "pred_data.dropna(inplace=True)\n",
    "pred_data.head()\n",
    "pred_data.shape"
   ]
  },
  {
   "cell_type": "code",
   "execution_count": 15,
   "metadata": {
    "execution": {
     "iopub.execute_input": "2020-12-29T02:04:37.842628Z",
     "iopub.status.busy": "2020-12-29T02:04:37.696992Z",
     "iopub.status.idle": "2020-12-29T02:04:37.895209Z",
     "shell.execute_reply": "2020-12-29T02:04:37.895725Z"
    },
    "papermill": {
     "duration": 0.376019,
     "end_time": "2020-12-29T02:04:37.895875",
     "exception": false,
     "start_time": "2020-12-29T02:04:37.519856",
     "status": "completed"
    },
    "tags": []
   },
   "outputs": [
    {
     "data": {
      "text/plain": [
       "array(['ball_snap', 'None', 'pass_forward', 'pass_arrived',\n",
       "       'pass_outcome_incomplete', 'play_action', 'pass_tipped',\n",
       "       'pass_outcome_interception', 'line_set', 'penalty_flag',\n",
       "       'penalty_accepted', 'man_in_motion', 'shift', 'run_pass_option',\n",
       "       'first_contact', 'pass_outcome_touchdown', 'fumble',\n",
       "       'fumble_offense_recovered', 'pass_outcome_caught',\n",
       "       'huddle_start_offense'], dtype=object)"
      ]
     },
     "execution_count": 15,
     "metadata": {},
     "output_type": "execute_result"
    }
   ],
   "source": [
    "holding_data = pred_data[['gameId', 'playId', 'frameId', 'off_nflId', 'nflId', 'displayName', 'event']]\n",
    "holding_data.event.unique()"
   ]
  },
  {
   "cell_type": "code",
   "execution_count": 16,
   "metadata": {
    "execution": {
     "iopub.execute_input": "2020-12-29T02:04:38.089193Z",
     "iopub.status.busy": "2020-12-29T02:04:38.088013Z",
     "iopub.status.idle": "2020-12-29T02:04:38.127704Z",
     "shell.execute_reply": "2020-12-29T02:04:38.128190Z"
    },
    "papermill": {
     "duration": 0.209767,
     "end_time": "2020-12-29T02:04:38.128373",
     "exception": false,
     "start_time": "2020-12-29T02:04:37.918606",
     "status": "completed"
    },
    "tags": []
   },
   "outputs": [
    {
     "data": {
      "text/html": [
       "<div>\n",
       "<style scoped>\n",
       "    .dataframe tbody tr th:only-of-type {\n",
       "        vertical-align: middle;\n",
       "    }\n",
       "\n",
       "    .dataframe tbody tr th {\n",
       "        vertical-align: top;\n",
       "    }\n",
       "\n",
       "    .dataframe thead th {\n",
       "        text-align: right;\n",
       "    }\n",
       "</style>\n",
       "<table border=\"1\" class=\"dataframe\">\n",
       "  <thead>\n",
       "    <tr style=\"text-align: right;\">\n",
       "      <th></th>\n",
       "      <th>dist_from_off</th>\n",
       "      <th>dist_los</th>\n",
       "      <th>qb_s</th>\n",
       "      <th>qb_a</th>\n",
       "      <th>max_space_available</th>\n",
       "      <th>distance_from_qb</th>\n",
       "      <th>receiver_distance_from_qb</th>\n",
       "      <th>ball_behind_db</th>\n",
       "      <th>diff_in_speed</th>\n",
       "      <th>diff_in_acceleration</th>\n",
       "      <th>diff_in_dir</th>\n",
       "      <th>his_off_most_open</th>\n",
       "      <th>receiver_behind_db</th>\n",
       "      <th>dist_rate_of_change</th>\n",
       "    </tr>\n",
       "  </thead>\n",
       "  <tbody>\n",
       "    <tr>\n",
       "      <th>0</th>\n",
       "      <td>1.920339</td>\n",
       "      <td>1.22</td>\n",
       "      <td>0.00</td>\n",
       "      <td>0.00</td>\n",
       "      <td>90.11</td>\n",
       "      <td>10.234813</td>\n",
       "      <td>9.538433</td>\n",
       "      <td>0.0</td>\n",
       "      <td>0.01</td>\n",
       "      <td>0.01</td>\n",
       "      <td>258.48</td>\n",
       "      <td>0.0</td>\n",
       "      <td>1.89</td>\n",
       "      <td>0.000000</td>\n",
       "    </tr>\n",
       "    <tr>\n",
       "      <th>1</th>\n",
       "      <td>1.922134</td>\n",
       "      <td>1.22</td>\n",
       "      <td>0.00</td>\n",
       "      <td>0.00</td>\n",
       "      <td>90.11</td>\n",
       "      <td>10.240400</td>\n",
       "      <td>9.530519</td>\n",
       "      <td>0.0</td>\n",
       "      <td>0.01</td>\n",
       "      <td>0.01</td>\n",
       "      <td>276.29</td>\n",
       "      <td>0.0</td>\n",
       "      <td>1.89</td>\n",
       "      <td>0.000000</td>\n",
       "    </tr>\n",
       "    <tr>\n",
       "      <th>2</th>\n",
       "      <td>1.912302</td>\n",
       "      <td>1.22</td>\n",
       "      <td>0.03</td>\n",
       "      <td>0.82</td>\n",
       "      <td>90.11</td>\n",
       "      <td>10.246024</td>\n",
       "      <td>9.533651</td>\n",
       "      <td>0.0</td>\n",
       "      <td>-0.02</td>\n",
       "      <td>-0.29</td>\n",
       "      <td>280.46</td>\n",
       "      <td>0.0</td>\n",
       "      <td>1.88</td>\n",
       "      <td>0.000000</td>\n",
       "    </tr>\n",
       "    <tr>\n",
       "      <th>3</th>\n",
       "      <td>1.908743</td>\n",
       "      <td>1.22</td>\n",
       "      <td>0.22</td>\n",
       "      <td>2.24</td>\n",
       "      <td>90.11</td>\n",
       "      <td>10.239258</td>\n",
       "      <td>9.544658</td>\n",
       "      <td>0.0</td>\n",
       "      <td>-0.07</td>\n",
       "      <td>-0.50</td>\n",
       "      <td>34.84</td>\n",
       "      <td>0.0</td>\n",
       "      <td>1.88</td>\n",
       "      <td>-0.006038</td>\n",
       "    </tr>\n",
       "    <tr>\n",
       "      <th>4</th>\n",
       "      <td>1.889047</td>\n",
       "      <td>1.22</td>\n",
       "      <td>0.61</td>\n",
       "      <td>3.46</td>\n",
       "      <td>90.11</td>\n",
       "      <td>10.265988</td>\n",
       "      <td>9.563472</td>\n",
       "      <td>0.0</td>\n",
       "      <td>-0.22</td>\n",
       "      <td>-1.20</td>\n",
       "      <td>9.95</td>\n",
       "      <td>0.0</td>\n",
       "      <td>1.86</td>\n",
       "      <td>-0.017214</td>\n",
       "    </tr>\n",
       "  </tbody>\n",
       "</table>\n",
       "</div>"
      ],
      "text/plain": [
       "   dist_from_off  dist_los  qb_s  qb_a  max_space_available  distance_from_qb  \\\n",
       "0       1.920339      1.22  0.00  0.00                90.11         10.234813   \n",
       "1       1.922134      1.22  0.00  0.00                90.11         10.240400   \n",
       "2       1.912302      1.22  0.03  0.82                90.11         10.246024   \n",
       "3       1.908743      1.22  0.22  2.24                90.11         10.239258   \n",
       "4       1.889047      1.22  0.61  3.46                90.11         10.265988   \n",
       "\n",
       "   receiver_distance_from_qb  ball_behind_db  diff_in_speed  \\\n",
       "0                   9.538433             0.0           0.01   \n",
       "1                   9.530519             0.0           0.01   \n",
       "2                   9.533651             0.0          -0.02   \n",
       "3                   9.544658             0.0          -0.07   \n",
       "4                   9.563472             0.0          -0.22   \n",
       "\n",
       "   diff_in_acceleration  diff_in_dir  his_off_most_open  receiver_behind_db  \\\n",
       "0                  0.01       258.48                0.0                1.89   \n",
       "1                  0.01       276.29                0.0                1.89   \n",
       "2                 -0.29       280.46                0.0                1.88   \n",
       "3                 -0.50        34.84                0.0                1.88   \n",
       "4                 -1.20         9.95                0.0                1.86   \n",
       "\n",
       "   dist_rate_of_change  \n",
       "0             0.000000  \n",
       "1             0.000000  \n",
       "2             0.000000  \n",
       "3            -0.006038  \n",
       "4            -0.017214  "
      ]
     },
     "execution_count": 16,
     "metadata": {},
     "output_type": "execute_result"
    }
   ],
   "source": [
    "pred_data = pred_data.drop(['gameId', 'playId', 'frameId', 'off_nflId', 'nflId', 'displayName', 'event', 'Unnamed: 0'],\n",
    "                           axis=1)\n",
    "pred_data.head()"
   ]
  },
  {
   "cell_type": "code",
   "execution_count": 17,
   "metadata": {
    "execution": {
     "iopub.execute_input": "2020-12-29T02:04:38.185020Z",
     "iopub.status.busy": "2020-12-29T02:04:38.183724Z",
     "iopub.status.idle": "2020-12-29T02:06:02.046231Z",
     "shell.execute_reply": "2020-12-29T02:06:02.046797Z"
    },
    "papermill": {
     "duration": 83.894162,
     "end_time": "2020-12-29T02:06:02.046952",
     "exception": false,
     "start_time": "2020-12-29T02:04:38.152790",
     "status": "completed"
    },
    "tags": []
   },
   "outputs": [
    {
     "data": {
      "text/plain": [
       "array([[0.27735734, 0.72264266],\n",
       "       [0.28235734, 0.71764266],\n",
       "       [0.27246084, 0.72753916],\n",
       "       [0.24413144, 0.75586856],\n",
       "       [0.32275737, 0.67724263]])"
      ]
     },
     "execution_count": 17,
     "metadata": {},
     "output_type": "execute_result"
    }
   ],
   "source": [
    "comp_prob = model.predict_proba(pred_data)\n",
    "comp_prob[:5]"
   ]
  },
  {
   "cell_type": "code",
   "execution_count": 18,
   "metadata": {
    "execution": {
     "iopub.execute_input": "2020-12-29T02:06:02.104859Z",
     "iopub.status.busy": "2020-12-29T02:06:02.104116Z",
     "iopub.status.idle": "2020-12-29T02:06:04.409205Z",
     "shell.execute_reply": "2020-12-29T02:06:04.409754Z"
    },
    "papermill": {
     "duration": 2.338671,
     "end_time": "2020-12-29T02:06:04.409938",
     "exception": false,
     "start_time": "2020-12-29T02:06:02.071267",
     "status": "completed"
    },
    "tags": []
   },
   "outputs": [],
   "source": [
    "comp_prob = [x[1] for x in comp_prob]\n",
    "pred_data['comp_prob'] = comp_prob"
   ]
  },
  {
   "cell_type": "code",
   "execution_count": 19,
   "metadata": {
    "execution": {
     "iopub.execute_input": "2020-12-29T02:06:04.466210Z",
     "iopub.status.busy": "2020-12-29T02:06:04.465523Z",
     "iopub.status.idle": "2020-12-29T02:07:57.339769Z",
     "shell.execute_reply": "2020-12-29T02:07:57.338345Z"
    },
    "papermill": {
     "duration": 112.903935,
     "end_time": "2020-12-29T02:07:57.339926",
     "exception": false,
     "start_time": "2020-12-29T02:06:04.435991",
     "status": "completed"
    },
    "tags": []
   },
   "outputs": [],
   "source": [
    "comp_prob_dat = pd.concat([holding_data, pred_data], axis=1)\n",
    "\n",
    "comp_prob_dat.to_csv('comp_prob_dat.csv')"
   ]
  },
  {
   "cell_type": "code",
   "execution_count": 20,
   "metadata": {
    "execution": {
     "iopub.execute_input": "2020-12-29T02:07:57.394095Z",
     "iopub.status.busy": "2020-12-29T02:07:57.393473Z",
     "iopub.status.idle": "2020-12-29T02:07:57.396504Z",
     "shell.execute_reply": "2020-12-29T02:07:57.395845Z"
    },
    "papermill": {
     "duration": 0.0318,
     "end_time": "2020-12-29T02:07:57.396614",
     "exception": false,
     "start_time": "2020-12-29T02:07:57.364814",
     "status": "completed"
    },
    "tags": []
   },
   "outputs": [],
   "source": [
    "# holding_data.shape"
   ]
  },
  {
   "cell_type": "code",
   "execution_count": null,
   "metadata": {
    "papermill": {
     "duration": 0.024377,
     "end_time": "2020-12-29T02:07:57.445629",
     "exception": false,
     "start_time": "2020-12-29T02:07:57.421252",
     "status": "completed"
    },
    "tags": []
   },
   "outputs": [],
   "source": []
  }
 ],
 "metadata": {
  "kernelspec": {
   "display_name": "Python 3",
   "language": "python",
   "name": "python3"
  },
  "language_info": {
   "codemirror_mode": {
    "name": "ipython",
    "version": 3
   },
   "file_extension": ".py",
   "mimetype": "text/x-python",
   "name": "python",
   "nbconvert_exporter": "python",
   "pygments_lexer": "ipython3",
   "version": "3.7.6"
  },
  "papermill": {
   "duration": 231.734355,
   "end_time": "2020-12-29T02:07:57.577996",
   "environment_variables": {},
   "exception": null,
   "input_path": "__notebook__.ipynb",
   "output_path": "__notebook__.ipynb",
   "parameters": {},
   "start_time": "2020-12-29T02:04:05.843641",
   "version": "2.1.0"
  }
 },
 "nbformat": 4,
 "nbformat_minor": 4
}
