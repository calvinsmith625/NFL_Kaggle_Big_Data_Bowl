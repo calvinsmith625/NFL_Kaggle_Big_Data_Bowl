{
 "cells": [
  {
   "cell_type": "code",
   "execution_count": 1,
   "metadata": {
    "execution": {
     "iopub.execute_input": "2020-12-17T01:20:16.059223Z",
     "iopub.status.busy": "2020-12-17T01:20:16.057524Z",
     "iopub.status.idle": "2020-12-17T01:20:17.428180Z",
     "shell.execute_reply": "2020-12-17T01:20:17.427157Z"
    },
    "papermill": {
     "duration": 1.407714,
     "end_time": "2020-12-17T01:20:17.428446",
     "exception": false,
     "start_time": "2020-12-17T01:20:16.020732",
     "status": "completed"
    },
    "tags": []
   },
   "outputs": [
    {
     "name": "stderr",
     "output_type": "stream",
     "text": [
      "── \u001b[1mAttaching packages\u001b[22m ─────────────────────────────────────── tidyverse 1.3.0 ──\n",
      "\n",
      "\u001b[32m✔\u001b[39m \u001b[34mggplot2\u001b[39m 3.3.2     \u001b[32m✔\u001b[39m \u001b[34mpurrr  \u001b[39m 0.3.4\n",
      "\u001b[32m✔\u001b[39m \u001b[34mtibble \u001b[39m 3.0.4     \u001b[32m✔\u001b[39m \u001b[34mdplyr  \u001b[39m 1.0.2\n",
      "\u001b[32m✔\u001b[39m \u001b[34mtidyr  \u001b[39m 1.1.2     \u001b[32m✔\u001b[39m \u001b[34mstringr\u001b[39m 1.4.0\n",
      "\u001b[32m✔\u001b[39m \u001b[34mreadr  \u001b[39m 1.4.0     \u001b[32m✔\u001b[39m \u001b[34mforcats\u001b[39m 0.5.0\n",
      "\n",
      "── \u001b[1mConflicts\u001b[22m ────────────────────────────────────────── tidyverse_conflicts() ──\n",
      "\u001b[31m✖\u001b[39m \u001b[34mdplyr\u001b[39m::\u001b[32mfilter()\u001b[39m masks \u001b[34mstats\u001b[39m::filter()\n",
      "\u001b[31m✖\u001b[39m \u001b[34mdplyr\u001b[39m::\u001b[32mlag()\u001b[39m    masks \u001b[34mstats\u001b[39m::lag()\n",
      "\n",
      "\n",
      "Attaching package: ‘data.table’\n",
      "\n",
      "\n",
      "The following objects are masked from ‘package:dplyr’:\n",
      "\n",
      "    between, first, last\n",
      "\n",
      "\n",
      "The following object is masked from ‘package:purrr’:\n",
      "\n",
      "    transpose\n",
      "\n",
      "\n"
     ]
    }
   ],
   "source": [
    "library(tidyverse)\n",
    "library(data.table)"
   ]
  },
  {
   "cell_type": "code",
   "execution_count": 2,
   "metadata": {
    "execution": {
     "iopub.execute_input": "2020-12-17T01:20:17.474597Z",
     "iopub.status.busy": "2020-12-17T01:20:17.445685Z",
     "iopub.status.idle": "2020-12-17T01:20:48.896524Z",
     "shell.execute_reply": "2020-12-17T01:20:48.894707Z"
    },
    "papermill": {
     "duration": 31.460674,
     "end_time": "2020-12-17T01:20:48.896728",
     "exception": false,
     "start_time": "2020-12-17T01:20:17.436054",
     "status": "completed"
    },
    "tags": []
   },
   "outputs": [
    {
     "data": {
      "text/html": [
       "<style>\n",
       ".list-inline {list-style: none; margin:0; padding: 0}\n",
       ".list-inline>li {display: inline-block}\n",
       ".list-inline>li:not(:last-child)::after {content: \"\\00b7\"; padding: 0 .5ex}\n",
       "</style>\n",
       "<ol class=list-inline><li>'gameId'</li><li>'playId'</li><li>'passResult'</li><li>'targetNflId'</li><li>'x'</li><li>'y'</li><li>'o'</li><li>'dir'</li><li>'s'</li><li>'a'</li><li>'event'</li><li>'epa'</li><li>'frameId'</li><li>'nflId'</li><li>'displayName'</li><li>'position'</li><li>'route'</li><li>'isDefensivePI'</li><li>'targetedReceiver'</li><li>'team_name'</li><li>'ball_x'</li><li>'ball_y'</li><li>'ball_snap_x'</li><li>'max_space_available'</li><li>'target_x'</li><li>'target_y'</li><li>'qb_x'</li><li>'qb_y'</li><li>'qb_s'</li><li>'qb_a'</li><li>'distanceFromBall'</li><li>'distanceFromTarget'</li><li>'distance_from_qb'</li></ol>\n"
      ],
      "text/latex": [
       "\\begin{enumerate*}\n",
       "\\item 'gameId'\n",
       "\\item 'playId'\n",
       "\\item 'passResult'\n",
       "\\item 'targetNflId'\n",
       "\\item 'x'\n",
       "\\item 'y'\n",
       "\\item 'o'\n",
       "\\item 'dir'\n",
       "\\item 's'\n",
       "\\item 'a'\n",
       "\\item 'event'\n",
       "\\item 'epa'\n",
       "\\item 'frameId'\n",
       "\\item 'nflId'\n",
       "\\item 'displayName'\n",
       "\\item 'position'\n",
       "\\item 'route'\n",
       "\\item 'isDefensivePI'\n",
       "\\item 'targetedReceiver'\n",
       "\\item 'team\\_name'\n",
       "\\item 'ball\\_x'\n",
       "\\item 'ball\\_y'\n",
       "\\item 'ball\\_snap\\_x'\n",
       "\\item 'max\\_space\\_available'\n",
       "\\item 'target\\_x'\n",
       "\\item 'target\\_y'\n",
       "\\item 'qb\\_x'\n",
       "\\item 'qb\\_y'\n",
       "\\item 'qb\\_s'\n",
       "\\item 'qb\\_a'\n",
       "\\item 'distanceFromBall'\n",
       "\\item 'distanceFromTarget'\n",
       "\\item 'distance\\_from\\_qb'\n",
       "\\end{enumerate*}\n"
      ],
      "text/markdown": [
       "1. 'gameId'\n",
       "2. 'playId'\n",
       "3. 'passResult'\n",
       "4. 'targetNflId'\n",
       "5. 'x'\n",
       "6. 'y'\n",
       "7. 'o'\n",
       "8. 'dir'\n",
       "9. 's'\n",
       "10. 'a'\n",
       "11. 'event'\n",
       "12. 'epa'\n",
       "13. 'frameId'\n",
       "14. 'nflId'\n",
       "15. 'displayName'\n",
       "16. 'position'\n",
       "17. 'route'\n",
       "18. 'isDefensivePI'\n",
       "19. 'targetedReceiver'\n",
       "20. 'team_name'\n",
       "21. 'ball_x'\n",
       "22. 'ball_y'\n",
       "23. 'ball_snap_x'\n",
       "24. 'max_space_available'\n",
       "25. 'target_x'\n",
       "26. 'target_y'\n",
       "27. 'qb_x'\n",
       "28. 'qb_y'\n",
       "29. 'qb_s'\n",
       "30. 'qb_a'\n",
       "31. 'distanceFromBall'\n",
       "32. 'distanceFromTarget'\n",
       "33. 'distance_from_qb'\n",
       "\n",
       "\n"
      ],
      "text/plain": [
       " [1] \"gameId\"              \"playId\"              \"passResult\"         \n",
       " [4] \"targetNflId\"         \"x\"                   \"y\"                  \n",
       " [7] \"o\"                   \"dir\"                 \"s\"                  \n",
       "[10] \"a\"                   \"event\"               \"epa\"                \n",
       "[13] \"frameId\"             \"nflId\"               \"displayName\"        \n",
       "[16] \"position\"            \"route\"               \"isDefensivePI\"      \n",
       "[19] \"targetedReceiver\"    \"team_name\"           \"ball_x\"             \n",
       "[22] \"ball_y\"              \"ball_snap_x\"         \"max_space_available\"\n",
       "[25] \"target_x\"            \"target_y\"            \"qb_x\"               \n",
       "[28] \"qb_y\"                \"qb_s\"                \"qb_a\"               \n",
       "[31] \"distanceFromBall\"    \"distanceFromTarget\"  \"distance_from_qb\"   "
      ]
     },
     "metadata": {},
     "output_type": "display_data"
    },
    {
     "data": {
      "text/html": [
       "<table class=\"dataframe\">\n",
       "<caption>A data.table: 6 × 33</caption>\n",
       "<thead>\n",
       "\t<tr><th scope=col>gameId</th><th scope=col>playId</th><th scope=col>passResult</th><th scope=col>targetNflId</th><th scope=col>x</th><th scope=col>y</th><th scope=col>o</th><th scope=col>dir</th><th scope=col>s</th><th scope=col>a</th><th scope=col>⋯</th><th scope=col>max_space_available</th><th scope=col>target_x</th><th scope=col>target_y</th><th scope=col>qb_x</th><th scope=col>qb_y</th><th scope=col>qb_s</th><th scope=col>qb_a</th><th scope=col>distanceFromBall</th><th scope=col>distanceFromTarget</th><th scope=col>distance_from_qb</th></tr>\n",
       "\t<tr><th scope=col>&lt;int&gt;</th><th scope=col>&lt;int&gt;</th><th scope=col>&lt;chr&gt;</th><th scope=col>&lt;int&gt;</th><th scope=col>&lt;dbl&gt;</th><th scope=col>&lt;dbl&gt;</th><th scope=col>&lt;dbl&gt;</th><th scope=col>&lt;dbl&gt;</th><th scope=col>&lt;dbl&gt;</th><th scope=col>&lt;dbl&gt;</th><th scope=col>⋯</th><th scope=col>&lt;dbl&gt;</th><th scope=col>&lt;dbl&gt;</th><th scope=col>&lt;dbl&gt;</th><th scope=col>&lt;dbl&gt;</th><th scope=col>&lt;dbl&gt;</th><th scope=col>&lt;dbl&gt;</th><th scope=col>&lt;dbl&gt;</th><th scope=col>&lt;dbl&gt;</th><th scope=col>&lt;dbl&gt;</th><th scope=col>&lt;dbl&gt;</th></tr>\n",
       "</thead>\n",
       "<tbody>\n",
       "\t<tr><td>2018090600</td><td>75</td><td>C</td><td>2495454</td><td>31.11</td><td>16.83333</td><td>104.49</td><td> 36.45</td><td>0.01</td><td>0.01</td><td>⋯</td><td>90.11</td><td>28.64</td><td>9.193333</td><td>28.26</td><td>26.66333</td><td>0.00</td><td>0.00</td><td>9.726813</td><td>8.029352</td><td>10.23481</td></tr>\n",
       "\t<tr><td>2018090600</td><td>75</td><td>C</td><td>2495454</td><td>31.11</td><td>16.82333</td><td>104.49</td><td> 37.08</td><td>0.01</td><td>0.01</td><td>⋯</td><td>90.11</td><td>28.65</td><td>9.193333</td><td>28.24</td><td>26.65333</td><td>0.00</td><td>0.00</td><td>9.736735</td><td>8.016764</td><td>10.24040</td></tr>\n",
       "\t<tr><td>2018090600</td><td>75</td><td>C</td><td>2495454</td><td>31.11</td><td>16.82333</td><td>102.44</td><td> 34.00</td><td>0.00</td><td>0.01</td><td>⋯</td><td>90.11</td><td>28.68</td><td>9.193333</td><td>28.22</td><td>26.65333</td><td>0.03</td><td>0.82</td><td>9.762797</td><td>8.007609</td><td>10.24602</td></tr>\n",
       "\t<tr><td>2018090600</td><td>75</td><td>C</td><td>2495454</td><td>31.11</td><td>16.83333</td><td> 99.80</td><td>278.87</td><td>0.01</td><td>0.18</td><td>⋯</td><td>90.11</td><td>28.72</td><td>9.193333</td><td>28.21</td><td>26.65333</td><td>0.22</td><td>2.24</td><td>9.814622</td><td>8.005105</td><td>10.23926</td></tr>\n",
       "\t<tr><td>2018090600</td><td>75</td><td>C</td><td>2495454</td><td>31.12</td><td>16.82333</td><td> 99.07</td><td>288.04</td><td>0.07</td><td>0.41</td><td>⋯</td><td>90.11</td><td>28.76</td><td>9.203333</td><td>28.16</td><td>26.65333</td><td>0.61</td><td>3.46</td><td>9.884452</td><td>7.977092</td><td>10.26599</td></tr>\n",
       "\t<tr><td>2018090600</td><td>75</td><td>C</td><td>2495454</td><td>31.13</td><td>16.81333</td><td> 98.38</td><td>317.54</td><td>0.14</td><td>0.61</td><td>⋯</td><td>90.11</td><td>28.84</td><td>9.213333</td><td>28.06</td><td>26.66333</td><td>1.18</td><td>4.58</td><td>9.927724</td><td>7.937512</td><td>10.31733</td></tr>\n",
       "</tbody>\n",
       "</table>\n"
      ],
      "text/latex": [
       "A data.table: 6 × 33\n",
       "\\begin{tabular}{lllllllllllllllllllll}\n",
       " gameId & playId & passResult & targetNflId & x & y & o & dir & s & a & ⋯ & max\\_space\\_available & target\\_x & target\\_y & qb\\_x & qb\\_y & qb\\_s & qb\\_a & distanceFromBall & distanceFromTarget & distance\\_from\\_qb\\\\\n",
       " <int> & <int> & <chr> & <int> & <dbl> & <dbl> & <dbl> & <dbl> & <dbl> & <dbl> & ⋯ & <dbl> & <dbl> & <dbl> & <dbl> & <dbl> & <dbl> & <dbl> & <dbl> & <dbl> & <dbl>\\\\\n",
       "\\hline\n",
       "\t 2018090600 & 75 & C & 2495454 & 31.11 & 16.83333 & 104.49 &  36.45 & 0.01 & 0.01 & ⋯ & 90.11 & 28.64 & 9.193333 & 28.26 & 26.66333 & 0.00 & 0.00 & 9.726813 & 8.029352 & 10.23481\\\\\n",
       "\t 2018090600 & 75 & C & 2495454 & 31.11 & 16.82333 & 104.49 &  37.08 & 0.01 & 0.01 & ⋯ & 90.11 & 28.65 & 9.193333 & 28.24 & 26.65333 & 0.00 & 0.00 & 9.736735 & 8.016764 & 10.24040\\\\\n",
       "\t 2018090600 & 75 & C & 2495454 & 31.11 & 16.82333 & 102.44 &  34.00 & 0.00 & 0.01 & ⋯ & 90.11 & 28.68 & 9.193333 & 28.22 & 26.65333 & 0.03 & 0.82 & 9.762797 & 8.007609 & 10.24602\\\\\n",
       "\t 2018090600 & 75 & C & 2495454 & 31.11 & 16.83333 &  99.80 & 278.87 & 0.01 & 0.18 & ⋯ & 90.11 & 28.72 & 9.193333 & 28.21 & 26.65333 & 0.22 & 2.24 & 9.814622 & 8.005105 & 10.23926\\\\\n",
       "\t 2018090600 & 75 & C & 2495454 & 31.12 & 16.82333 &  99.07 & 288.04 & 0.07 & 0.41 & ⋯ & 90.11 & 28.76 & 9.203333 & 28.16 & 26.65333 & 0.61 & 3.46 & 9.884452 & 7.977092 & 10.26599\\\\\n",
       "\t 2018090600 & 75 & C & 2495454 & 31.13 & 16.81333 &  98.38 & 317.54 & 0.14 & 0.61 & ⋯ & 90.11 & 28.84 & 9.213333 & 28.06 & 26.66333 & 1.18 & 4.58 & 9.927724 & 7.937512 & 10.31733\\\\\n",
       "\\end{tabular}\n"
      ],
      "text/markdown": [
       "\n",
       "A data.table: 6 × 33\n",
       "\n",
       "| gameId &lt;int&gt; | playId &lt;int&gt; | passResult &lt;chr&gt; | targetNflId &lt;int&gt; | x &lt;dbl&gt; | y &lt;dbl&gt; | o &lt;dbl&gt; | dir &lt;dbl&gt; | s &lt;dbl&gt; | a &lt;dbl&gt; | ⋯ ⋯ | max_space_available &lt;dbl&gt; | target_x &lt;dbl&gt; | target_y &lt;dbl&gt; | qb_x &lt;dbl&gt; | qb_y &lt;dbl&gt; | qb_s &lt;dbl&gt; | qb_a &lt;dbl&gt; | distanceFromBall &lt;dbl&gt; | distanceFromTarget &lt;dbl&gt; | distance_from_qb &lt;dbl&gt; |\n",
       "|---|---|---|---|---|---|---|---|---|---|---|---|---|---|---|---|---|---|---|---|---|\n",
       "| 2018090600 | 75 | C | 2495454 | 31.11 | 16.83333 | 104.49 |  36.45 | 0.01 | 0.01 | ⋯ | 90.11 | 28.64 | 9.193333 | 28.26 | 26.66333 | 0.00 | 0.00 | 9.726813 | 8.029352 | 10.23481 |\n",
       "| 2018090600 | 75 | C | 2495454 | 31.11 | 16.82333 | 104.49 |  37.08 | 0.01 | 0.01 | ⋯ | 90.11 | 28.65 | 9.193333 | 28.24 | 26.65333 | 0.00 | 0.00 | 9.736735 | 8.016764 | 10.24040 |\n",
       "| 2018090600 | 75 | C | 2495454 | 31.11 | 16.82333 | 102.44 |  34.00 | 0.00 | 0.01 | ⋯ | 90.11 | 28.68 | 9.193333 | 28.22 | 26.65333 | 0.03 | 0.82 | 9.762797 | 8.007609 | 10.24602 |\n",
       "| 2018090600 | 75 | C | 2495454 | 31.11 | 16.83333 |  99.80 | 278.87 | 0.01 | 0.18 | ⋯ | 90.11 | 28.72 | 9.193333 | 28.21 | 26.65333 | 0.22 | 2.24 | 9.814622 | 8.005105 | 10.23926 |\n",
       "| 2018090600 | 75 | C | 2495454 | 31.12 | 16.82333 |  99.07 | 288.04 | 0.07 | 0.41 | ⋯ | 90.11 | 28.76 | 9.203333 | 28.16 | 26.65333 | 0.61 | 3.46 | 9.884452 | 7.977092 | 10.26599 |\n",
       "| 2018090600 | 75 | C | 2495454 | 31.13 | 16.81333 |  98.38 | 317.54 | 0.14 | 0.61 | ⋯ | 90.11 | 28.84 | 9.213333 | 28.06 | 26.66333 | 1.18 | 4.58 | 9.927724 | 7.937512 | 10.31733 |\n",
       "\n"
      ],
      "text/plain": [
       "  gameId     playId passResult targetNflId x     y        o      dir    s   \n",
       "1 2018090600 75     C          2495454     31.11 16.83333 104.49  36.45 0.01\n",
       "2 2018090600 75     C          2495454     31.11 16.82333 104.49  37.08 0.01\n",
       "3 2018090600 75     C          2495454     31.11 16.82333 102.44  34.00 0.00\n",
       "4 2018090600 75     C          2495454     31.11 16.83333  99.80 278.87 0.01\n",
       "5 2018090600 75     C          2495454     31.12 16.82333  99.07 288.04 0.07\n",
       "6 2018090600 75     C          2495454     31.13 16.81333  98.38 317.54 0.14\n",
       "  a    ⋯ max_space_available target_x target_y qb_x  qb_y     qb_s qb_a\n",
       "1 0.01 ⋯ 90.11               28.64    9.193333 28.26 26.66333 0.00 0.00\n",
       "2 0.01 ⋯ 90.11               28.65    9.193333 28.24 26.65333 0.00 0.00\n",
       "3 0.01 ⋯ 90.11               28.68    9.193333 28.22 26.65333 0.03 0.82\n",
       "4 0.18 ⋯ 90.11               28.72    9.193333 28.21 26.65333 0.22 2.24\n",
       "5 0.41 ⋯ 90.11               28.76    9.203333 28.16 26.65333 0.61 3.46\n",
       "6 0.61 ⋯ 90.11               28.84    9.213333 28.06 26.66333 1.18 4.58\n",
       "  distanceFromBall distanceFromTarget distance_from_qb\n",
       "1 9.726813         8.029352           10.23481        \n",
       "2 9.736735         8.016764           10.24040        \n",
       "3 9.762797         8.007609           10.24602        \n",
       "4 9.814622         8.005105           10.23926        \n",
       "5 9.884452         7.977092           10.26599        \n",
       "6 9.927724         7.937512           10.31733        "
      ]
     },
     "metadata": {},
     "output_type": "display_data"
    }
   ],
   "source": [
    "df_merged <- fread(\"../input/calvin-smith-data-clean/df_merged.csv\",\n",
    "                   drop = c('V1', 'angleToTarget', 'diff_wr', 'team', 'possessionTeam'))\n",
    "\n",
    "colnames(df_merged)\n",
    "head(df_merged)"
   ]
  },
  {
   "cell_type": "code",
   "execution_count": 3,
   "metadata": {
    "execution": {
     "iopub.execute_input": "2020-12-17T01:20:48.919247Z",
     "iopub.status.busy": "2020-12-17T01:20:48.918204Z",
     "iopub.status.idle": "2020-12-17T01:20:58.047068Z",
     "shell.execute_reply": "2020-12-17T01:20:58.045305Z"
    },
    "papermill": {
     "duration": 9.141316,
     "end_time": "2020-12-17T01:20:58.047341",
     "exception": false,
     "start_time": "2020-12-17T01:20:48.906025",
     "status": "completed"
    },
    "tags": []
   },
   "outputs": [
    {
     "data": {
      "text/html": [
       "3468218"
      ],
      "text/latex": [
       "3468218"
      ],
      "text/markdown": [
       "3468218"
      ],
      "text/plain": [
       "[1] 3468218"
      ]
     },
     "metadata": {},
     "output_type": "display_data"
    },
    {
     "data": {
      "text/html": [
       "<table class=\"dataframe\">\n",
       "<caption>A data.table: 6 × 19</caption>\n",
       "<thead>\n",
       "\t<tr><th scope=col>gameId</th><th scope=col>playId</th><th scope=col>frameId</th><th scope=col>off_nflId</th><th scope=col>nflId</th><th scope=col>displayName</th><th scope=col>dist_from_off</th><th scope=col>nearest_is_target</th><th scope=col>distanceFromBall</th><th scope=col>off_distanceFromBall</th><th scope=col>ball_behind_db</th><th scope=col>diff_in_speed</th><th scope=col>diff_in_acceleration</th><th scope=col>diff_in_dir</th><th scope=col>receiver_behind_db</th><th scope=col>receiver_distance_from_qb</th><th scope=col>num_of_receivers_nearest</th><th scope=col>dist_rate_of_change</th><th scope=col>his_off_most_open</th></tr>\n",
       "\t<tr><th scope=col>&lt;int&gt;</th><th scope=col>&lt;int&gt;</th><th scope=col>&lt;int&gt;</th><th scope=col>&lt;int&gt;</th><th scope=col>&lt;int&gt;</th><th scope=col>&lt;chr&gt;</th><th scope=col>&lt;dbl&gt;</th><th scope=col>&lt;int&gt;</th><th scope=col>&lt;dbl&gt;</th><th scope=col>&lt;dbl&gt;</th><th scope=col>&lt;int&gt;</th><th scope=col>&lt;dbl&gt;</th><th scope=col>&lt;dbl&gt;</th><th scope=col>&lt;dbl&gt;</th><th scope=col>&lt;dbl&gt;</th><th scope=col>&lt;dbl&gt;</th><th scope=col>&lt;int&gt;</th><th scope=col>&lt;dbl&gt;</th><th scope=col>&lt;int&gt;</th></tr>\n",
       "</thead>\n",
       "<tbody>\n",
       "\t<tr><td>2018090600</td><td>75</td><td>11</td><td>2533040</td><td>79848</td><td>Malcolm Jenkins</td><td>1.920339</td><td>0</td><td>9.726813</td><td>9.334077</td><td>0</td><td> 0.01</td><td> 0.01</td><td>258.48</td><td>1.89</td><td>9.538433</td><td>2</td><td> 0.000000000</td><td>0</td></tr>\n",
       "\t<tr><td>2018090600</td><td>75</td><td>12</td><td>2533040</td><td>79848</td><td>Malcolm Jenkins</td><td>1.922134</td><td>0</td><td>9.736735</td><td>9.334077</td><td>0</td><td> 0.01</td><td> 0.01</td><td>276.29</td><td>1.89</td><td>9.530519</td><td>2</td><td> 0.000000000</td><td>0</td></tr>\n",
       "\t<tr><td>2018090600</td><td>75</td><td>13</td><td>2533040</td><td>79848</td><td>Malcolm Jenkins</td><td>1.912302</td><td>0</td><td>9.762797</td><td>9.365452</td><td>0</td><td>-0.02</td><td>-0.29</td><td>280.46</td><td>1.88</td><td>9.533651</td><td>2</td><td> 0.000000000</td><td>0</td></tr>\n",
       "\t<tr><td>2018090600</td><td>75</td><td>14</td><td>2533040</td><td>79848</td><td>Malcolm Jenkins</td><td>1.908743</td><td>0</td><td>9.814622</td><td>9.353614</td><td>0</td><td>-0.07</td><td>-0.50</td><td> 34.84</td><td>1.88</td><td>9.544658</td><td>2</td><td>-0.006038243</td><td>0</td></tr>\n",
       "\t<tr><td>2018090600</td><td>75</td><td>15</td><td>2533040</td><td>79848</td><td>Malcolm Jenkins</td><td>1.889047</td><td>0</td><td>9.884452</td><td>9.351048</td><td>0</td><td>-0.22</td><td>-1.20</td><td>  9.95</td><td>1.86</td><td>9.563472</td><td>2</td><td>-0.017213601</td><td>0</td></tr>\n",
       "\t<tr><td>2018090600</td><td>75</td><td>16</td><td>2533040</td><td>79848</td><td>Malcolm Jenkins</td><td>1.859516</td><td>0</td><td>9.927724</td><td>9.341333</td><td>0</td><td>-0.40</td><td>-1.57</td><td> 29.29</td><td>1.83</td><td>9.600417</td><td>2</td><td>-0.027603487</td><td>0</td></tr>\n",
       "</tbody>\n",
       "</table>\n"
      ],
      "text/latex": [
       "A data.table: 6 × 19\n",
       "\\begin{tabular}{lllllllllllllllllll}\n",
       " gameId & playId & frameId & off\\_nflId & nflId & displayName & dist\\_from\\_off & nearest\\_is\\_target & distanceFromBall & off\\_distanceFromBall & ball\\_behind\\_db & diff\\_in\\_speed & diff\\_in\\_acceleration & diff\\_in\\_dir & receiver\\_behind\\_db & receiver\\_distance\\_from\\_qb & num\\_of\\_receivers\\_nearest & dist\\_rate\\_of\\_change & his\\_off\\_most\\_open\\\\\n",
       " <int> & <int> & <int> & <int> & <int> & <chr> & <dbl> & <int> & <dbl> & <dbl> & <int> & <dbl> & <dbl> & <dbl> & <dbl> & <dbl> & <int> & <dbl> & <int>\\\\\n",
       "\\hline\n",
       "\t 2018090600 & 75 & 11 & 2533040 & 79848 & Malcolm Jenkins & 1.920339 & 0 & 9.726813 & 9.334077 & 0 &  0.01 &  0.01 & 258.48 & 1.89 & 9.538433 & 2 &  0.000000000 & 0\\\\\n",
       "\t 2018090600 & 75 & 12 & 2533040 & 79848 & Malcolm Jenkins & 1.922134 & 0 & 9.736735 & 9.334077 & 0 &  0.01 &  0.01 & 276.29 & 1.89 & 9.530519 & 2 &  0.000000000 & 0\\\\\n",
       "\t 2018090600 & 75 & 13 & 2533040 & 79848 & Malcolm Jenkins & 1.912302 & 0 & 9.762797 & 9.365452 & 0 & -0.02 & -0.29 & 280.46 & 1.88 & 9.533651 & 2 &  0.000000000 & 0\\\\\n",
       "\t 2018090600 & 75 & 14 & 2533040 & 79848 & Malcolm Jenkins & 1.908743 & 0 & 9.814622 & 9.353614 & 0 & -0.07 & -0.50 &  34.84 & 1.88 & 9.544658 & 2 & -0.006038243 & 0\\\\\n",
       "\t 2018090600 & 75 & 15 & 2533040 & 79848 & Malcolm Jenkins & 1.889047 & 0 & 9.884452 & 9.351048 & 0 & -0.22 & -1.20 &   9.95 & 1.86 & 9.563472 & 2 & -0.017213601 & 0\\\\\n",
       "\t 2018090600 & 75 & 16 & 2533040 & 79848 & Malcolm Jenkins & 1.859516 & 0 & 9.927724 & 9.341333 & 0 & -0.40 & -1.57 &  29.29 & 1.83 & 9.600417 & 2 & -0.027603487 & 0\\\\\n",
       "\\end{tabular}\n"
      ],
      "text/markdown": [
       "\n",
       "A data.table: 6 × 19\n",
       "\n",
       "| gameId &lt;int&gt; | playId &lt;int&gt; | frameId &lt;int&gt; | off_nflId &lt;int&gt; | nflId &lt;int&gt; | displayName &lt;chr&gt; | dist_from_off &lt;dbl&gt; | nearest_is_target &lt;int&gt; | distanceFromBall &lt;dbl&gt; | off_distanceFromBall &lt;dbl&gt; | ball_behind_db &lt;int&gt; | diff_in_speed &lt;dbl&gt; | diff_in_acceleration &lt;dbl&gt; | diff_in_dir &lt;dbl&gt; | receiver_behind_db &lt;dbl&gt; | receiver_distance_from_qb &lt;dbl&gt; | num_of_receivers_nearest &lt;int&gt; | dist_rate_of_change &lt;dbl&gt; | his_off_most_open &lt;int&gt; |\n",
       "|---|---|---|---|---|---|---|---|---|---|---|---|---|---|---|---|---|---|---|\n",
       "| 2018090600 | 75 | 11 | 2533040 | 79848 | Malcolm Jenkins | 1.920339 | 0 | 9.726813 | 9.334077 | 0 |  0.01 |  0.01 | 258.48 | 1.89 | 9.538433 | 2 |  0.000000000 | 0 |\n",
       "| 2018090600 | 75 | 12 | 2533040 | 79848 | Malcolm Jenkins | 1.922134 | 0 | 9.736735 | 9.334077 | 0 |  0.01 |  0.01 | 276.29 | 1.89 | 9.530519 | 2 |  0.000000000 | 0 |\n",
       "| 2018090600 | 75 | 13 | 2533040 | 79848 | Malcolm Jenkins | 1.912302 | 0 | 9.762797 | 9.365452 | 0 | -0.02 | -0.29 | 280.46 | 1.88 | 9.533651 | 2 |  0.000000000 | 0 |\n",
       "| 2018090600 | 75 | 14 | 2533040 | 79848 | Malcolm Jenkins | 1.908743 | 0 | 9.814622 | 9.353614 | 0 | -0.07 | -0.50 |  34.84 | 1.88 | 9.544658 | 2 | -0.006038243 | 0 |\n",
       "| 2018090600 | 75 | 15 | 2533040 | 79848 | Malcolm Jenkins | 1.889047 | 0 | 9.884452 | 9.351048 | 0 | -0.22 | -1.20 |   9.95 | 1.86 | 9.563472 | 2 | -0.017213601 | 0 |\n",
       "| 2018090600 | 75 | 16 | 2533040 | 79848 | Malcolm Jenkins | 1.859516 | 0 | 9.927724 | 9.341333 | 0 | -0.40 | -1.57 |  29.29 | 1.83 | 9.600417 | 2 | -0.027603487 | 0 |\n",
       "\n"
      ],
      "text/plain": [
       "  gameId     playId frameId off_nflId nflId displayName     dist_from_off\n",
       "1 2018090600 75     11      2533040   79848 Malcolm Jenkins 1.920339     \n",
       "2 2018090600 75     12      2533040   79848 Malcolm Jenkins 1.922134     \n",
       "3 2018090600 75     13      2533040   79848 Malcolm Jenkins 1.912302     \n",
       "4 2018090600 75     14      2533040   79848 Malcolm Jenkins 1.908743     \n",
       "5 2018090600 75     15      2533040   79848 Malcolm Jenkins 1.889047     \n",
       "6 2018090600 75     16      2533040   79848 Malcolm Jenkins 1.859516     \n",
       "  nearest_is_target distanceFromBall off_distanceFromBall ball_behind_db\n",
       "1 0                 9.726813         9.334077             0             \n",
       "2 0                 9.736735         9.334077             0             \n",
       "3 0                 9.762797         9.365452             0             \n",
       "4 0                 9.814622         9.353614             0             \n",
       "5 0                 9.884452         9.351048             0             \n",
       "6 0                 9.927724         9.341333             0             \n",
       "  diff_in_speed diff_in_acceleration diff_in_dir receiver_behind_db\n",
       "1  0.01          0.01                258.48      1.89              \n",
       "2  0.01          0.01                276.29      1.89              \n",
       "3 -0.02         -0.29                280.46      1.88              \n",
       "4 -0.07         -0.50                 34.84      1.88              \n",
       "5 -0.22         -1.20                  9.95      1.86              \n",
       "6 -0.40         -1.57                 29.29      1.83              \n",
       "  receiver_distance_from_qb num_of_receivers_nearest dist_rate_of_change\n",
       "1 9.538433                  2                         0.000000000       \n",
       "2 9.530519                  2                         0.000000000       \n",
       "3 9.533651                  2                         0.000000000       \n",
       "4 9.544658                  2                        -0.006038243       \n",
       "5 9.563472                  2                        -0.017213601       \n",
       "6 9.600417                  2                        -0.027603487       \n",
       "  his_off_most_open\n",
       "1 0                \n",
       "2 0                \n",
       "3 0                \n",
       "4 0                \n",
       "5 0                \n",
       "6 0                "
      ]
     },
     "metadata": {},
     "output_type": "display_data"
    }
   ],
   "source": [
    "# load in data from summarise_plays notebook\n",
    "nearest_stats <- fread(\"../input/summarise-plays/nearest_stats.csv\",\n",
    "                   drop = c('V1'))\n",
    "\n",
    "\n",
    "nrow(nearest_stats)\n",
    "head(nearest_stats)"
   ]
  },
  {
   "cell_type": "code",
   "execution_count": 4,
   "metadata": {
    "execution": {
     "iopub.execute_input": "2020-12-17T01:20:58.072909Z",
     "iopub.status.busy": "2020-12-17T01:20:58.071561Z",
     "iopub.status.idle": "2020-12-17T01:21:03.491234Z",
     "shell.execute_reply": "2020-12-17T01:21:03.489981Z"
    },
    "papermill": {
     "duration": 5.433777,
     "end_time": "2020-12-17T01:21:03.491451",
     "exception": false,
     "start_time": "2020-12-17T01:20:58.057674",
     "status": "completed"
    },
    "tags": []
   },
   "outputs": [
    {
     "data": {
      "text/html": [
       "<table class=\"dataframe\">\n",
       "<caption>A data.table: 6 × 47</caption>\n",
       "<thead>\n",
       "\t<tr><th scope=col>gameId</th><th scope=col>playId</th><th scope=col>frameId</th><th scope=col>off_nflId</th><th scope=col>nflId</th><th scope=col>displayName</th><th scope=col>dist_from_off</th><th scope=col>nearest_is_target</th><th scope=col>distanceFromBall.x</th><th scope=col>off_distanceFromBall</th><th scope=col>⋯</th><th scope=col>max_space_available</th><th scope=col>target_x</th><th scope=col>target_y</th><th scope=col>qb_x</th><th scope=col>qb_y</th><th scope=col>qb_s</th><th scope=col>qb_a</th><th scope=col>distanceFromBall.y</th><th scope=col>distanceFromTarget</th><th scope=col>distance_from_qb</th></tr>\n",
       "\t<tr><th scope=col>&lt;int&gt;</th><th scope=col>&lt;int&gt;</th><th scope=col>&lt;int&gt;</th><th scope=col>&lt;int&gt;</th><th scope=col>&lt;int&gt;</th><th scope=col>&lt;chr&gt;</th><th scope=col>&lt;dbl&gt;</th><th scope=col>&lt;int&gt;</th><th scope=col>&lt;dbl&gt;</th><th scope=col>&lt;dbl&gt;</th><th scope=col>⋯</th><th scope=col>&lt;dbl&gt;</th><th scope=col>&lt;dbl&gt;</th><th scope=col>&lt;dbl&gt;</th><th scope=col>&lt;dbl&gt;</th><th scope=col>&lt;dbl&gt;</th><th scope=col>&lt;dbl&gt;</th><th scope=col>&lt;dbl&gt;</th><th scope=col>&lt;dbl&gt;</th><th scope=col>&lt;dbl&gt;</th><th scope=col>&lt;dbl&gt;</th></tr>\n",
       "</thead>\n",
       "<tbody>\n",
       "\t<tr><td>2018090600</td><td>75</td><td>11</td><td>2533040</td><td>79848</td><td>Malcolm Jenkins</td><td>1.920339</td><td>0</td><td>9.726813</td><td>9.334077</td><td>⋯</td><td>90.11</td><td>28.64</td><td>9.193333</td><td>28.26</td><td>26.66333</td><td>0.00</td><td>0.00</td><td>9.726813</td><td>8.029352</td><td>10.23481</td></tr>\n",
       "\t<tr><td>2018090600</td><td>75</td><td>12</td><td>2533040</td><td>79848</td><td>Malcolm Jenkins</td><td>1.922134</td><td>0</td><td>9.736735</td><td>9.334077</td><td>⋯</td><td>90.11</td><td>28.65</td><td>9.193333</td><td>28.24</td><td>26.65333</td><td>0.00</td><td>0.00</td><td>9.736735</td><td>8.016764</td><td>10.24040</td></tr>\n",
       "\t<tr><td>2018090600</td><td>75</td><td>13</td><td>2533040</td><td>79848</td><td>Malcolm Jenkins</td><td>1.912302</td><td>0</td><td>9.762797</td><td>9.365452</td><td>⋯</td><td>90.11</td><td>28.68</td><td>9.193333</td><td>28.22</td><td>26.65333</td><td>0.03</td><td>0.82</td><td>9.762797</td><td>8.007609</td><td>10.24602</td></tr>\n",
       "\t<tr><td>2018090600</td><td>75</td><td>14</td><td>2533040</td><td>79848</td><td>Malcolm Jenkins</td><td>1.908743</td><td>0</td><td>9.814622</td><td>9.353614</td><td>⋯</td><td>90.11</td><td>28.72</td><td>9.193333</td><td>28.21</td><td>26.65333</td><td>0.22</td><td>2.24</td><td>9.814622</td><td>8.005105</td><td>10.23926</td></tr>\n",
       "\t<tr><td>2018090600</td><td>75</td><td>15</td><td>2533040</td><td>79848</td><td>Malcolm Jenkins</td><td>1.889047</td><td>0</td><td>9.884452</td><td>9.351048</td><td>⋯</td><td>90.11</td><td>28.76</td><td>9.203333</td><td>28.16</td><td>26.65333</td><td>0.61</td><td>3.46</td><td>9.884452</td><td>7.977092</td><td>10.26599</td></tr>\n",
       "\t<tr><td>2018090600</td><td>75</td><td>16</td><td>2533040</td><td>79848</td><td>Malcolm Jenkins</td><td>1.859516</td><td>0</td><td>9.927724</td><td>9.341333</td><td>⋯</td><td>90.11</td><td>28.84</td><td>9.213333</td><td>28.06</td><td>26.66333</td><td>1.18</td><td>4.58</td><td>9.927724</td><td>7.937512</td><td>10.31733</td></tr>\n",
       "</tbody>\n",
       "</table>\n"
      ],
      "text/latex": [
       "A data.table: 6 × 47\n",
       "\\begin{tabular}{lllllllllllllllllllll}\n",
       " gameId & playId & frameId & off\\_nflId & nflId & displayName & dist\\_from\\_off & nearest\\_is\\_target & distanceFromBall.x & off\\_distanceFromBall & ⋯ & max\\_space\\_available & target\\_x & target\\_y & qb\\_x & qb\\_y & qb\\_s & qb\\_a & distanceFromBall.y & distanceFromTarget & distance\\_from\\_qb\\\\\n",
       " <int> & <int> & <int> & <int> & <int> & <chr> & <dbl> & <int> & <dbl> & <dbl> & ⋯ & <dbl> & <dbl> & <dbl> & <dbl> & <dbl> & <dbl> & <dbl> & <dbl> & <dbl> & <dbl>\\\\\n",
       "\\hline\n",
       "\t 2018090600 & 75 & 11 & 2533040 & 79848 & Malcolm Jenkins & 1.920339 & 0 & 9.726813 & 9.334077 & ⋯ & 90.11 & 28.64 & 9.193333 & 28.26 & 26.66333 & 0.00 & 0.00 & 9.726813 & 8.029352 & 10.23481\\\\\n",
       "\t 2018090600 & 75 & 12 & 2533040 & 79848 & Malcolm Jenkins & 1.922134 & 0 & 9.736735 & 9.334077 & ⋯ & 90.11 & 28.65 & 9.193333 & 28.24 & 26.65333 & 0.00 & 0.00 & 9.736735 & 8.016764 & 10.24040\\\\\n",
       "\t 2018090600 & 75 & 13 & 2533040 & 79848 & Malcolm Jenkins & 1.912302 & 0 & 9.762797 & 9.365452 & ⋯ & 90.11 & 28.68 & 9.193333 & 28.22 & 26.65333 & 0.03 & 0.82 & 9.762797 & 8.007609 & 10.24602\\\\\n",
       "\t 2018090600 & 75 & 14 & 2533040 & 79848 & Malcolm Jenkins & 1.908743 & 0 & 9.814622 & 9.353614 & ⋯ & 90.11 & 28.72 & 9.193333 & 28.21 & 26.65333 & 0.22 & 2.24 & 9.814622 & 8.005105 & 10.23926\\\\\n",
       "\t 2018090600 & 75 & 15 & 2533040 & 79848 & Malcolm Jenkins & 1.889047 & 0 & 9.884452 & 9.351048 & ⋯ & 90.11 & 28.76 & 9.203333 & 28.16 & 26.65333 & 0.61 & 3.46 & 9.884452 & 7.977092 & 10.26599\\\\\n",
       "\t 2018090600 & 75 & 16 & 2533040 & 79848 & Malcolm Jenkins & 1.859516 & 0 & 9.927724 & 9.341333 & ⋯ & 90.11 & 28.84 & 9.213333 & 28.06 & 26.66333 & 1.18 & 4.58 & 9.927724 & 7.937512 & 10.31733\\\\\n",
       "\\end{tabular}\n"
      ],
      "text/markdown": [
       "\n",
       "A data.table: 6 × 47\n",
       "\n",
       "| gameId &lt;int&gt; | playId &lt;int&gt; | frameId &lt;int&gt; | off_nflId &lt;int&gt; | nflId &lt;int&gt; | displayName &lt;chr&gt; | dist_from_off &lt;dbl&gt; | nearest_is_target &lt;int&gt; | distanceFromBall.x &lt;dbl&gt; | off_distanceFromBall &lt;dbl&gt; | ⋯ ⋯ | max_space_available &lt;dbl&gt; | target_x &lt;dbl&gt; | target_y &lt;dbl&gt; | qb_x &lt;dbl&gt; | qb_y &lt;dbl&gt; | qb_s &lt;dbl&gt; | qb_a &lt;dbl&gt; | distanceFromBall.y &lt;dbl&gt; | distanceFromTarget &lt;dbl&gt; | distance_from_qb &lt;dbl&gt; |\n",
       "|---|---|---|---|---|---|---|---|---|---|---|---|---|---|---|---|---|---|---|---|---|\n",
       "| 2018090600 | 75 | 11 | 2533040 | 79848 | Malcolm Jenkins | 1.920339 | 0 | 9.726813 | 9.334077 | ⋯ | 90.11 | 28.64 | 9.193333 | 28.26 | 26.66333 | 0.00 | 0.00 | 9.726813 | 8.029352 | 10.23481 |\n",
       "| 2018090600 | 75 | 12 | 2533040 | 79848 | Malcolm Jenkins | 1.922134 | 0 | 9.736735 | 9.334077 | ⋯ | 90.11 | 28.65 | 9.193333 | 28.24 | 26.65333 | 0.00 | 0.00 | 9.736735 | 8.016764 | 10.24040 |\n",
       "| 2018090600 | 75 | 13 | 2533040 | 79848 | Malcolm Jenkins | 1.912302 | 0 | 9.762797 | 9.365452 | ⋯ | 90.11 | 28.68 | 9.193333 | 28.22 | 26.65333 | 0.03 | 0.82 | 9.762797 | 8.007609 | 10.24602 |\n",
       "| 2018090600 | 75 | 14 | 2533040 | 79848 | Malcolm Jenkins | 1.908743 | 0 | 9.814622 | 9.353614 | ⋯ | 90.11 | 28.72 | 9.193333 | 28.21 | 26.65333 | 0.22 | 2.24 | 9.814622 | 8.005105 | 10.23926 |\n",
       "| 2018090600 | 75 | 15 | 2533040 | 79848 | Malcolm Jenkins | 1.889047 | 0 | 9.884452 | 9.351048 | ⋯ | 90.11 | 28.76 | 9.203333 | 28.16 | 26.65333 | 0.61 | 3.46 | 9.884452 | 7.977092 | 10.26599 |\n",
       "| 2018090600 | 75 | 16 | 2533040 | 79848 | Malcolm Jenkins | 1.859516 | 0 | 9.927724 | 9.341333 | ⋯ | 90.11 | 28.84 | 9.213333 | 28.06 | 26.66333 | 1.18 | 4.58 | 9.927724 | 7.937512 | 10.31733 |\n",
       "\n"
      ],
      "text/plain": [
       "  gameId     playId frameId off_nflId nflId displayName     dist_from_off\n",
       "1 2018090600 75     11      2533040   79848 Malcolm Jenkins 1.920339     \n",
       "2 2018090600 75     12      2533040   79848 Malcolm Jenkins 1.922134     \n",
       "3 2018090600 75     13      2533040   79848 Malcolm Jenkins 1.912302     \n",
       "4 2018090600 75     14      2533040   79848 Malcolm Jenkins 1.908743     \n",
       "5 2018090600 75     15      2533040   79848 Malcolm Jenkins 1.889047     \n",
       "6 2018090600 75     16      2533040   79848 Malcolm Jenkins 1.859516     \n",
       "  nearest_is_target distanceFromBall.x off_distanceFromBall ⋯\n",
       "1 0                 9.726813           9.334077             ⋯\n",
       "2 0                 9.736735           9.334077             ⋯\n",
       "3 0                 9.762797           9.365452             ⋯\n",
       "4 0                 9.814622           9.353614             ⋯\n",
       "5 0                 9.884452           9.351048             ⋯\n",
       "6 0                 9.927724           9.341333             ⋯\n",
       "  max_space_available target_x target_y qb_x  qb_y     qb_s qb_a\n",
       "1 90.11               28.64    9.193333 28.26 26.66333 0.00 0.00\n",
       "2 90.11               28.65    9.193333 28.24 26.65333 0.00 0.00\n",
       "3 90.11               28.68    9.193333 28.22 26.65333 0.03 0.82\n",
       "4 90.11               28.72    9.193333 28.21 26.65333 0.22 2.24\n",
       "5 90.11               28.76    9.203333 28.16 26.65333 0.61 3.46\n",
       "6 90.11               28.84    9.213333 28.06 26.66333 1.18 4.58\n",
       "  distanceFromBall.y distanceFromTarget distance_from_qb\n",
       "1 9.726813           8.029352           10.23481        \n",
       "2 9.736735           8.016764           10.24040        \n",
       "3 9.762797           8.007609           10.24602        \n",
       "4 9.814622           8.005105           10.23926        \n",
       "5 9.884452           7.977092           10.26599        \n",
       "6 9.927724           7.937512           10.31733        "
      ]
     },
     "metadata": {},
     "output_type": "display_data"
    }
   ],
   "source": [
    "df_merged <- left_join(nearest_stats,\n",
    "                       df_merged,\n",
    "                       by=c('gameId', 'playId', 'frameId', 'nflId', 'displayName'))\n",
    "\n",
    "head(df_merged)"
   ]
  },
  {
   "cell_type": "code",
   "execution_count": 5,
   "metadata": {
    "execution": {
     "iopub.execute_input": "2020-12-17T01:21:03.518953Z",
     "iopub.status.busy": "2020-12-17T01:21:03.517835Z",
     "iopub.status.idle": "2020-12-17T01:24:28.857294Z",
     "shell.execute_reply": "2020-12-17T01:24:28.856271Z"
    },
    "papermill": {
     "duration": 205.354499,
     "end_time": "2020-12-17T01:24:28.857546",
     "exception": false,
     "start_time": "2020-12-17T01:21:03.503047",
     "status": "completed"
    },
    "tags": []
   },
   "outputs": [],
   "source": [
    "write.csv(df_merged, 'full_tracking_df.csv')"
   ]
  }
 ],
 "metadata": {
  "kernelspec": {
   "display_name": "R",
   "language": "R",
   "name": "ir"
  },
  "language_info": {
   "codemirror_mode": "r",
   "file_extension": ".r",
   "mimetype": "text/x-r-source",
   "name": "R",
   "pygments_lexer": "r",
   "version": "3.6.3"
  },
  "papermill": {
   "default_parameters": {},
   "duration": 257.020008,
   "end_time": "2020-12-17T01:24:30.011456",
   "environment_variables": {},
   "exception": null,
   "input_path": "__notebook__.ipynb",
   "output_path": "__notebook__.ipynb",
   "parameters": {},
   "start_time": "2020-12-17T01:20:12.991448",
   "version": "2.2.2"
  }
 },
 "nbformat": 4,
 "nbformat_minor": 4
}
